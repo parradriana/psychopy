{
  "nbformat": 4,
  "nbformat_minor": 0,
  "metadata": {
    "colab": {
      "name": "CovidSouthKorea.ipynb",
      "provenance": [],
      "toc_visible": true,
      "authorship_tag": "ABX9TyOlVkgawYW2yvw1JvwaUM+k",
      "include_colab_link": true
    },
    "kernelspec": {
      "name": "python3",
      "display_name": "Python 3"
    },
    "language_info": {
      "name": "python"
    }
  },
  "cells": [
    {
      "cell_type": "markdown",
      "metadata": {
        "id": "view-in-github",
        "colab_type": "text"
      },
      "source": [
        "<a href=\"https://colab.research.google.com/github/parradriana/psychopy/blob/main/CovidSouthKorea.ipynb\" target=\"_parent\"><img src=\"https://colab.research.google.com/assets/colab-badge.svg\" alt=\"Open In Colab\"/></a>"
      ]
    },
    {
      "cell_type": "markdown",
      "source": [
        "# Proportion des cas des infections de COVID-19 parmi plusieurs tranches d'âges dans la région de la Corée du Sud."
      ],
      "metadata": {
        "id": "xzc0MAlULQKQ"
      }
    },
    {
      "cell_type": "code",
      "source": [
        "from google.colab import drive\n",
        "drive.mount('/content/gdrive')"
      ],
      "metadata": {
        "colab": {
          "base_uri": "https://localhost:8080/"
        },
        "id": "-IXxxV6G11dj",
        "outputId": "1110868c-25c7-4715-b8f6-2cd85a24779b"
      },
      "execution_count": 141,
      "outputs": [
        {
          "output_type": "stream",
          "name": "stdout",
          "text": [
            "Drive already mounted at /content/gdrive; to attempt to forcibly remount, call drive.mount(\"/content/gdrive\", force_remount=True).\n"
          ]
        }
      ]
    },
    {
      "cell_type": "code",
      "source": [
        "import os\n",
        "os.environ['KAGGLE_CONFIG_DIR'] = \"/content/gdrive/MyDrive/Kaggle\""
      ],
      "metadata": {
        "id": "U9Yf6TFg76uo"
      },
      "execution_count": 145,
      "outputs": []
    },
    {
      "cell_type": "markdown",
      "source": [
        ""
      ],
      "metadata": {
        "id": "mKDbK68j8M7y"
      }
    },
    {
      "cell_type": "code",
      "source": [
        "!kaggle datasets download -d kimjihoo/coronavirusdataset/"
      ],
      "metadata": {
        "colab": {
          "base_uri": "https://localhost:8080/"
        },
        "id": "tFj02cuF-UdQ",
        "outputId": "25045679-d425-457b-ecb4-3752b95263ce"
      },
      "execution_count": 146,
      "outputs": [
        {
          "output_type": "stream",
          "name": "stdout",
          "text": [
            "shell-init: error retrieving current directory: getcwd: cannot access parent directories: No such file or directory\n",
            "Traceback (most recent call last):\n",
            "  File \"/usr/local/bin/kaggle\", line 8, in <module>\n",
            "    sys.exit(main())\n",
            "  File \"/usr/local/lib/python3.7/dist-packages/kaggle/cli.py\", line 67, in main\n",
            "    out = args.func(**command_args)\n",
            "  File \"/usr/local/lib/python3.7/dist-packages/kaggle/api/kaggle_api_extended.py\", line 1287, in dataset_download_cli\n",
            "    quiet=quiet)\n",
            "  File \"/usr/local/lib/python3.7/dist-packages/kaggle/api/kaggle_api_extended.py\", line 1225, in dataset_download_files\n",
            "    'datasets', owner_slug, dataset_slug)\n",
            "  File \"/usr/local/lib/python3.7/dist-packages/kaggle/api/kaggle_api_extended.py\", line 384, in get_default_download_dir\n",
            "    return os.getcwd()\n",
            "FileNotFoundError: [Errno 2] No such file or directory\n"
          ]
        }
      ]
    },
    {
      "cell_type": "code",
      "source": [
        "!pip install sidetable #or !apt -get install"
      ],
      "metadata": {
        "colab": {
          "base_uri": "https://localhost:8080/"
        },
        "id": "UrEBF471Lfkg",
        "outputId": "32c1a3fb-a27e-4d67-da5f-27e99c1d1f61"
      },
      "execution_count": 148,
      "outputs": [
        {
          "output_type": "stream",
          "name": "stdout",
          "text": [
            "shell-init: error retrieving current directory: getcwd: cannot access parent directories: No such file or directory\n",
            "shell-init: error retrieving current directory: getcwd: cannot access parent directories: No such file or directory\n",
            "The folder you are executing pip from can no longer be found.\n"
          ]
        }
      ]
    },
    {
      "cell_type": "code",
      "source": [
        "import matplotlib.pyplot as plt\n",
        "import numpy as np\n",
        "import pandas as pd\n",
        "import sidetable as stb\n",
        "\n"
      ],
      "metadata": {
        "id": "Za2EIKFsLPIA"
      },
      "execution_count": 149,
      "outputs": []
    },
    {
      "cell_type": "code",
      "execution_count": 150,
      "metadata": {
        "id": "hRU1s031LCNJ"
      },
      "outputs": [],
      "source": [
        "#fichier qui contient le nombre de cas confirmé et le nombre de décés par jour\n",
        "time = pd.read_csv(\"/content/gdrive/MyDrive/Kaggle/Time.csv\")\n",
        "\n",
        "#fichier qui contient le nombre de cas confirmé et le nombre de décés par jour par tranche d'âge \n",
        "timeAge = pd.read_csv(\"/content/gdrive/MyDrive/Kaggle/TimeAge.csv\")\n"
      ]
    },
    {
      "cell_type": "code",
      "source": [
        "# EDA, analyse exploratoire de données des fichiers\n",
        "\n",
        "time.head()"
      ],
      "metadata": {
        "colab": {
          "base_uri": "https://localhost:8080/",
          "height": 206
        },
        "id": "3TaqyVJhNEq6",
        "outputId": "f1561b90-77de-4793-be0b-0d4578ec4de1"
      },
      "execution_count": 153,
      "outputs": [
        {
          "output_type": "execute_result",
          "data": {
            "text/plain": [
              "         date  time  test  negative  confirmed  released  deceased\n",
              "0  2020-01-20    16     1         0          1         0         0\n",
              "1  2020-01-21    16     1         0          1         0         0\n",
              "2  2020-01-22    16     4         3          1         0         0\n",
              "3  2020-01-23    16    22        21          1         0         0\n",
              "4  2020-01-24    16    27        25          2         0         0"
            ],
            "text/html": [
              "\n",
              "  <div id=\"df-dcd4ef8d-f9bd-4977-b126-c65d6cfdd442\">\n",
              "    <div class=\"colab-df-container\">\n",
              "      <div>\n",
              "<style scoped>\n",
              "    .dataframe tbody tr th:only-of-type {\n",
              "        vertical-align: middle;\n",
              "    }\n",
              "\n",
              "    .dataframe tbody tr th {\n",
              "        vertical-align: top;\n",
              "    }\n",
              "\n",
              "    .dataframe thead th {\n",
              "        text-align: right;\n",
              "    }\n",
              "</style>\n",
              "<table border=\"1\" class=\"dataframe\">\n",
              "  <thead>\n",
              "    <tr style=\"text-align: right;\">\n",
              "      <th></th>\n",
              "      <th>date</th>\n",
              "      <th>time</th>\n",
              "      <th>test</th>\n",
              "      <th>negative</th>\n",
              "      <th>confirmed</th>\n",
              "      <th>released</th>\n",
              "      <th>deceased</th>\n",
              "    </tr>\n",
              "  </thead>\n",
              "  <tbody>\n",
              "    <tr>\n",
              "      <th>0</th>\n",
              "      <td>2020-01-20</td>\n",
              "      <td>16</td>\n",
              "      <td>1</td>\n",
              "      <td>0</td>\n",
              "      <td>1</td>\n",
              "      <td>0</td>\n",
              "      <td>0</td>\n",
              "    </tr>\n",
              "    <tr>\n",
              "      <th>1</th>\n",
              "      <td>2020-01-21</td>\n",
              "      <td>16</td>\n",
              "      <td>1</td>\n",
              "      <td>0</td>\n",
              "      <td>1</td>\n",
              "      <td>0</td>\n",
              "      <td>0</td>\n",
              "    </tr>\n",
              "    <tr>\n",
              "      <th>2</th>\n",
              "      <td>2020-01-22</td>\n",
              "      <td>16</td>\n",
              "      <td>4</td>\n",
              "      <td>3</td>\n",
              "      <td>1</td>\n",
              "      <td>0</td>\n",
              "      <td>0</td>\n",
              "    </tr>\n",
              "    <tr>\n",
              "      <th>3</th>\n",
              "      <td>2020-01-23</td>\n",
              "      <td>16</td>\n",
              "      <td>22</td>\n",
              "      <td>21</td>\n",
              "      <td>1</td>\n",
              "      <td>0</td>\n",
              "      <td>0</td>\n",
              "    </tr>\n",
              "    <tr>\n",
              "      <th>4</th>\n",
              "      <td>2020-01-24</td>\n",
              "      <td>16</td>\n",
              "      <td>27</td>\n",
              "      <td>25</td>\n",
              "      <td>2</td>\n",
              "      <td>0</td>\n",
              "      <td>0</td>\n",
              "    </tr>\n",
              "  </tbody>\n",
              "</table>\n",
              "</div>\n",
              "      <button class=\"colab-df-convert\" onclick=\"convertToInteractive('df-dcd4ef8d-f9bd-4977-b126-c65d6cfdd442')\"\n",
              "              title=\"Convert this dataframe to an interactive table.\"\n",
              "              style=\"display:none;\">\n",
              "        \n",
              "  <svg xmlns=\"http://www.w3.org/2000/svg\" height=\"24px\"viewBox=\"0 0 24 24\"\n",
              "       width=\"24px\">\n",
              "    <path d=\"M0 0h24v24H0V0z\" fill=\"none\"/>\n",
              "    <path d=\"M18.56 5.44l.94 2.06.94-2.06 2.06-.94-2.06-.94-.94-2.06-.94 2.06-2.06.94zm-11 1L8.5 8.5l.94-2.06 2.06-.94-2.06-.94L8.5 2.5l-.94 2.06-2.06.94zm10 10l.94 2.06.94-2.06 2.06-.94-2.06-.94-.94-2.06-.94 2.06-2.06.94z\"/><path d=\"M17.41 7.96l-1.37-1.37c-.4-.4-.92-.59-1.43-.59-.52 0-1.04.2-1.43.59L10.3 9.45l-7.72 7.72c-.78.78-.78 2.05 0 2.83L4 21.41c.39.39.9.59 1.41.59.51 0 1.02-.2 1.41-.59l7.78-7.78 2.81-2.81c.8-.78.8-2.07 0-2.86zM5.41 20L4 18.59l7.72-7.72 1.47 1.35L5.41 20z\"/>\n",
              "  </svg>\n",
              "      </button>\n",
              "      \n",
              "  <style>\n",
              "    .colab-df-container {\n",
              "      display:flex;\n",
              "      flex-wrap:wrap;\n",
              "      gap: 12px;\n",
              "    }\n",
              "\n",
              "    .colab-df-convert {\n",
              "      background-color: #E8F0FE;\n",
              "      border: none;\n",
              "      border-radius: 50%;\n",
              "      cursor: pointer;\n",
              "      display: none;\n",
              "      fill: #1967D2;\n",
              "      height: 32px;\n",
              "      padding: 0 0 0 0;\n",
              "      width: 32px;\n",
              "    }\n",
              "\n",
              "    .colab-df-convert:hover {\n",
              "      background-color: #E2EBFA;\n",
              "      box-shadow: 0px 1px 2px rgba(60, 64, 67, 0.3), 0px 1px 3px 1px rgba(60, 64, 67, 0.15);\n",
              "      fill: #174EA6;\n",
              "    }\n",
              "\n",
              "    [theme=dark] .colab-df-convert {\n",
              "      background-color: #3B4455;\n",
              "      fill: #D2E3FC;\n",
              "    }\n",
              "\n",
              "    [theme=dark] .colab-df-convert:hover {\n",
              "      background-color: #434B5C;\n",
              "      box-shadow: 0px 1px 3px 1px rgba(0, 0, 0, 0.15);\n",
              "      filter: drop-shadow(0px 1px 2px rgba(0, 0, 0, 0.3));\n",
              "      fill: #FFFFFF;\n",
              "    }\n",
              "  </style>\n",
              "\n",
              "      <script>\n",
              "        const buttonEl =\n",
              "          document.querySelector('#df-dcd4ef8d-f9bd-4977-b126-c65d6cfdd442 button.colab-df-convert');\n",
              "        buttonEl.style.display =\n",
              "          google.colab.kernel.accessAllowed ? 'block' : 'none';\n",
              "\n",
              "        async function convertToInteractive(key) {\n",
              "          const element = document.querySelector('#df-dcd4ef8d-f9bd-4977-b126-c65d6cfdd442');\n",
              "          const dataTable =\n",
              "            await google.colab.kernel.invokeFunction('convertToInteractive',\n",
              "                                                     [key], {});\n",
              "          if (!dataTable) return;\n",
              "\n",
              "          const docLinkHtml = 'Like what you see? Visit the ' +\n",
              "            '<a target=\"_blank\" href=https://colab.research.google.com/notebooks/data_table.ipynb>data table notebook</a>'\n",
              "            + ' to learn more about interactive tables.';\n",
              "          element.innerHTML = '';\n",
              "          dataTable['output_type'] = 'display_data';\n",
              "          await google.colab.output.renderOutput(dataTable, element);\n",
              "          const docLink = document.createElement('div');\n",
              "          docLink.innerHTML = docLinkHtml;\n",
              "          element.appendChild(docLink);\n",
              "        }\n",
              "      </script>\n",
              "    </div>\n",
              "  </div>\n",
              "  "
            ]
          },
          "metadata": {},
          "execution_count": 153
        }
      ]
    },
    {
      "cell_type": "code",
      "source": [
        "#Le fichier contient 163 lignes et 7 colonnes\n",
        "time.shape\n"
      ],
      "metadata": {
        "colab": {
          "base_uri": "https://localhost:8080/"
        },
        "id": "8OSMJkanONe0",
        "outputId": "262a50ac-57d9-4dbd-b8f4-ec425b7a8904"
      },
      "execution_count": 154,
      "outputs": [
        {
          "output_type": "execute_result",
          "data": {
            "text/plain": [
              "(163, 7)"
            ]
          },
          "metadata": {},
          "execution_count": 154
        }
      ]
    },
    {
      "cell_type": "code",
      "source": [
        "timeAge.columns"
      ],
      "metadata": {
        "colab": {
          "base_uri": "https://localhost:8080/"
        },
        "id": "n55PHBP-Zfit",
        "outputId": "37be5fb0-ebaa-4871-8fed-87817f877579"
      },
      "execution_count": 155,
      "outputs": [
        {
          "output_type": "execute_result",
          "data": {
            "text/plain": [
              "Index(['date', 'time', 'age', 'confirmed', 'deceased'], dtype='object')"
            ]
          },
          "metadata": {},
          "execution_count": 155
        }
      ]
    },
    {
      "cell_type": "code",
      "source": [
        "timeAge.head()"
      ],
      "metadata": {
        "colab": {
          "base_uri": "https://localhost:8080/",
          "height": 206
        },
        "id": "kIqDFgLUOFB9",
        "outputId": "24b2a734-0abc-4aa4-bac8-614fb7c40732"
      },
      "execution_count": 156,
      "outputs": [
        {
          "output_type": "execute_result",
          "data": {
            "text/plain": [
              "         date  time  age  confirmed  deceased\n",
              "0  2020-03-02     0   0s         32         0\n",
              "1  2020-03-02     0  10s        169         0\n",
              "2  2020-03-02     0  20s       1235         0\n",
              "3  2020-03-02     0  30s        506         1\n",
              "4  2020-03-02     0  40s        633         1"
            ],
            "text/html": [
              "\n",
              "  <div id=\"df-5aeafd36-e7f4-4b92-a8ae-9c9fd8a02080\">\n",
              "    <div class=\"colab-df-container\">\n",
              "      <div>\n",
              "<style scoped>\n",
              "    .dataframe tbody tr th:only-of-type {\n",
              "        vertical-align: middle;\n",
              "    }\n",
              "\n",
              "    .dataframe tbody tr th {\n",
              "        vertical-align: top;\n",
              "    }\n",
              "\n",
              "    .dataframe thead th {\n",
              "        text-align: right;\n",
              "    }\n",
              "</style>\n",
              "<table border=\"1\" class=\"dataframe\">\n",
              "  <thead>\n",
              "    <tr style=\"text-align: right;\">\n",
              "      <th></th>\n",
              "      <th>date</th>\n",
              "      <th>time</th>\n",
              "      <th>age</th>\n",
              "      <th>confirmed</th>\n",
              "      <th>deceased</th>\n",
              "    </tr>\n",
              "  </thead>\n",
              "  <tbody>\n",
              "    <tr>\n",
              "      <th>0</th>\n",
              "      <td>2020-03-02</td>\n",
              "      <td>0</td>\n",
              "      <td>0s</td>\n",
              "      <td>32</td>\n",
              "      <td>0</td>\n",
              "    </tr>\n",
              "    <tr>\n",
              "      <th>1</th>\n",
              "      <td>2020-03-02</td>\n",
              "      <td>0</td>\n",
              "      <td>10s</td>\n",
              "      <td>169</td>\n",
              "      <td>0</td>\n",
              "    </tr>\n",
              "    <tr>\n",
              "      <th>2</th>\n",
              "      <td>2020-03-02</td>\n",
              "      <td>0</td>\n",
              "      <td>20s</td>\n",
              "      <td>1235</td>\n",
              "      <td>0</td>\n",
              "    </tr>\n",
              "    <tr>\n",
              "      <th>3</th>\n",
              "      <td>2020-03-02</td>\n",
              "      <td>0</td>\n",
              "      <td>30s</td>\n",
              "      <td>506</td>\n",
              "      <td>1</td>\n",
              "    </tr>\n",
              "    <tr>\n",
              "      <th>4</th>\n",
              "      <td>2020-03-02</td>\n",
              "      <td>0</td>\n",
              "      <td>40s</td>\n",
              "      <td>633</td>\n",
              "      <td>1</td>\n",
              "    </tr>\n",
              "  </tbody>\n",
              "</table>\n",
              "</div>\n",
              "      <button class=\"colab-df-convert\" onclick=\"convertToInteractive('df-5aeafd36-e7f4-4b92-a8ae-9c9fd8a02080')\"\n",
              "              title=\"Convert this dataframe to an interactive table.\"\n",
              "              style=\"display:none;\">\n",
              "        \n",
              "  <svg xmlns=\"http://www.w3.org/2000/svg\" height=\"24px\"viewBox=\"0 0 24 24\"\n",
              "       width=\"24px\">\n",
              "    <path d=\"M0 0h24v24H0V0z\" fill=\"none\"/>\n",
              "    <path d=\"M18.56 5.44l.94 2.06.94-2.06 2.06-.94-2.06-.94-.94-2.06-.94 2.06-2.06.94zm-11 1L8.5 8.5l.94-2.06 2.06-.94-2.06-.94L8.5 2.5l-.94 2.06-2.06.94zm10 10l.94 2.06.94-2.06 2.06-.94-2.06-.94-.94-2.06-.94 2.06-2.06.94z\"/><path d=\"M17.41 7.96l-1.37-1.37c-.4-.4-.92-.59-1.43-.59-.52 0-1.04.2-1.43.59L10.3 9.45l-7.72 7.72c-.78.78-.78 2.05 0 2.83L4 21.41c.39.39.9.59 1.41.59.51 0 1.02-.2 1.41-.59l7.78-7.78 2.81-2.81c.8-.78.8-2.07 0-2.86zM5.41 20L4 18.59l7.72-7.72 1.47 1.35L5.41 20z\"/>\n",
              "  </svg>\n",
              "      </button>\n",
              "      \n",
              "  <style>\n",
              "    .colab-df-container {\n",
              "      display:flex;\n",
              "      flex-wrap:wrap;\n",
              "      gap: 12px;\n",
              "    }\n",
              "\n",
              "    .colab-df-convert {\n",
              "      background-color: #E8F0FE;\n",
              "      border: none;\n",
              "      border-radius: 50%;\n",
              "      cursor: pointer;\n",
              "      display: none;\n",
              "      fill: #1967D2;\n",
              "      height: 32px;\n",
              "      padding: 0 0 0 0;\n",
              "      width: 32px;\n",
              "    }\n",
              "\n",
              "    .colab-df-convert:hover {\n",
              "      background-color: #E2EBFA;\n",
              "      box-shadow: 0px 1px 2px rgba(60, 64, 67, 0.3), 0px 1px 3px 1px rgba(60, 64, 67, 0.15);\n",
              "      fill: #174EA6;\n",
              "    }\n",
              "\n",
              "    [theme=dark] .colab-df-convert {\n",
              "      background-color: #3B4455;\n",
              "      fill: #D2E3FC;\n",
              "    }\n",
              "\n",
              "    [theme=dark] .colab-df-convert:hover {\n",
              "      background-color: #434B5C;\n",
              "      box-shadow: 0px 1px 3px 1px rgba(0, 0, 0, 0.15);\n",
              "      filter: drop-shadow(0px 1px 2px rgba(0, 0, 0, 0.3));\n",
              "      fill: #FFFFFF;\n",
              "    }\n",
              "  </style>\n",
              "\n",
              "      <script>\n",
              "        const buttonEl =\n",
              "          document.querySelector('#df-5aeafd36-e7f4-4b92-a8ae-9c9fd8a02080 button.colab-df-convert');\n",
              "        buttonEl.style.display =\n",
              "          google.colab.kernel.accessAllowed ? 'block' : 'none';\n",
              "\n",
              "        async function convertToInteractive(key) {\n",
              "          const element = document.querySelector('#df-5aeafd36-e7f4-4b92-a8ae-9c9fd8a02080');\n",
              "          const dataTable =\n",
              "            await google.colab.kernel.invokeFunction('convertToInteractive',\n",
              "                                                     [key], {});\n",
              "          if (!dataTable) return;\n",
              "\n",
              "          const docLinkHtml = 'Like what you see? Visit the ' +\n",
              "            '<a target=\"_blank\" href=https://colab.research.google.com/notebooks/data_table.ipynb>data table notebook</a>'\n",
              "            + ' to learn more about interactive tables.';\n",
              "          element.innerHTML = '';\n",
              "          dataTable['output_type'] = 'display_data';\n",
              "          await google.colab.output.renderOutput(dataTable, element);\n",
              "          const docLink = document.createElement('div');\n",
              "          docLink.innerHTML = docLinkHtml;\n",
              "          element.appendChild(docLink);\n",
              "        }\n",
              "      </script>\n",
              "    </div>\n",
              "  </div>\n",
              "  "
            ]
          },
          "metadata": {},
          "execution_count": 156
        }
      ]
    },
    {
      "cell_type": "code",
      "source": [
        "timeAge.shape"
      ],
      "metadata": {
        "colab": {
          "base_uri": "https://localhost:8080/"
        },
        "id": "5lBfxkX3OVB6",
        "outputId": "bba89969-6474-410b-b7ed-46bdfb1ea3f1"
      },
      "execution_count": 157,
      "outputs": [
        {
          "output_type": "execute_result",
          "data": {
            "text/plain": [
              "(1089, 5)"
            ]
          },
          "metadata": {},
          "execution_count": 157
        }
      ]
    },
    {
      "cell_type": "code",
      "source": [
        "timeAge[\"age\"].unique "
      ],
      "metadata": {
        "colab": {
          "base_uri": "https://localhost:8080/"
        },
        "id": "BJRE8dCCVFFU",
        "outputId": "8a7826a3-9a27-4263-da9d-697b77b18303"
      },
      "execution_count": null,
      "outputs": [
        {
          "output_type": "execute_result",
          "data": {
            "text/plain": [
              "<bound method Series.unique of 0        0s\n",
              "1       10s\n",
              "2       20s\n",
              "3       30s\n",
              "4       40s\n",
              "       ... \n",
              "1084    40s\n",
              "1085    50s\n",
              "1086    60s\n",
              "1087    70s\n",
              "1088    80s\n",
              "Name: age, Length: 1089, dtype: object>"
            ]
          },
          "metadata": {},
          "execution_count": 9
        }
      ]
    },
    {
      "cell_type": "code",
      "source": [
        "#Pour voir TOUS les valeurs uniques d ela colonne age\n",
        "tranches = timeAge[\"age\"]\n",
        "print(tranches)"
      ],
      "metadata": {
        "colab": {
          "base_uri": "https://localhost:8080/"
        },
        "id": "6Crs31ZyaQ0L",
        "outputId": "9ce46772-6365-449d-96de-2374dbf3a288"
      },
      "execution_count": null,
      "outputs": [
        {
          "output_type": "stream",
          "name": "stdout",
          "text": [
            "0        0s\n",
            "1       10s\n",
            "2       20s\n",
            "3       30s\n",
            "4       40s\n",
            "       ... \n",
            "1084    40s\n",
            "1085    50s\n",
            "1086    60s\n",
            "1087    70s\n",
            "1088    80s\n",
            "Name: age, Length: 1089, dtype: object\n"
          ]
        }
      ]
    },
    {
      "cell_type": "code",
      "source": [
        "#Connaitre le percentage de decees par tranche d'age\n",
        "\n",
        "timeAge.stb.freq([\"age\"], value = \"deceased\", style = True, cum_cols =False)"
      ],
      "metadata": {
        "colab": {
          "base_uri": "https://localhost:8080/",
          "height": 238
        },
        "id": "TxPMpcpmWcbV",
        "outputId": "f4ed86b7-4cf4-4d56-e46b-f20c7c266e43"
      },
      "execution_count": null,
      "outputs": [
        {
          "output_type": "execute_result",
          "data": {
            "text/html": [
              "<style type=\"text/css\">\n",
              "</style>\n",
              "<table id=\"T_a57f3_\" class=\"dataframe\">\n",
              "  <thead>\n",
              "    <tr>\n",
              "      <th class=\"blank level0\" >&nbsp;</th>\n",
              "      <th class=\"col_heading level0 col0\" >age</th>\n",
              "      <th class=\"col_heading level0 col1\" >deceased</th>\n",
              "      <th class=\"col_heading level0 col2\" >percent</th>\n",
              "    </tr>\n",
              "  </thead>\n",
              "  <tbody>\n",
              "    <tr>\n",
              "      <th id=\"T_a57f3_level0_row0\" class=\"row_heading level0 row0\" >0</th>\n",
              "      <td id=\"T_a57f3_row0_col0\" class=\"data row0 col0\" >80s</td>\n",
              "      <td id=\"T_a57f3_row0_col1\" class=\"data row0 col1\" >12,136</td>\n",
              "      <td id=\"T_a57f3_row0_col2\" class=\"data row0 col2\" >47.58%</td>\n",
              "    </tr>\n",
              "    <tr>\n",
              "      <th id=\"T_a57f3_level0_row1\" class=\"row_heading level0 row1\" >1</th>\n",
              "      <td id=\"T_a57f3_row1_col0\" class=\"data row1 col0\" >70s</td>\n",
              "      <td id=\"T_a57f3_row1_col1\" class=\"data row1 col1\" >7,599</td>\n",
              "      <td id=\"T_a57f3_row1_col2\" class=\"data row1 col2\" >29.80%</td>\n",
              "    </tr>\n",
              "    <tr>\n",
              "      <th id=\"T_a57f3_level0_row2\" class=\"row_heading level0 row2\" >2</th>\n",
              "      <td id=\"T_a57f3_row2_col0\" class=\"data row2 col0\" >60s</td>\n",
              "      <td id=\"T_a57f3_row2_col1\" class=\"data row2 col1\" >3,743</td>\n",
              "      <td id=\"T_a57f3_row2_col2\" class=\"data row2 col2\" >14.68%</td>\n",
              "    </tr>\n",
              "    <tr>\n",
              "      <th id=\"T_a57f3_level0_row3\" class=\"row_heading level0 row3\" >3</th>\n",
              "      <td id=\"T_a57f3_row3_col0\" class=\"data row3 col0\" >50s</td>\n",
              "      <td id=\"T_a57f3_row3_col1\" class=\"data row3 col1\" >1,537</td>\n",
              "      <td id=\"T_a57f3_row3_col2\" class=\"data row3 col2\" >6.03%</td>\n",
              "    </tr>\n",
              "    <tr>\n",
              "      <th id=\"T_a57f3_level0_row4\" class=\"row_heading level0 row4\" >4</th>\n",
              "      <td id=\"T_a57f3_row4_col0\" class=\"data row4 col0\" >40s</td>\n",
              "      <td id=\"T_a57f3_row4_col1\" class=\"data row4 col1\" >295</td>\n",
              "      <td id=\"T_a57f3_row4_col2\" class=\"data row4 col2\" >1.16%</td>\n",
              "    </tr>\n",
              "    <tr>\n",
              "      <th id=\"T_a57f3_level0_row5\" class=\"row_heading level0 row5\" >5</th>\n",
              "      <td id=\"T_a57f3_row5_col0\" class=\"data row5 col0\" >30s</td>\n",
              "      <td id=\"T_a57f3_row5_col1\" class=\"data row5 col1\" >194</td>\n",
              "      <td id=\"T_a57f3_row5_col2\" class=\"data row5 col2\" >0.76%</td>\n",
              "    </tr>\n",
              "  </tbody>\n",
              "</table>\n"
            ],
            "text/plain": [
              "<pandas.io.formats.style.Styler at 0x7f68ffc02690>"
            ]
          },
          "metadata": {},
          "execution_count": 11
        }
      ]
    },
    {
      "cell_type": "code",
      "source": [
        "timeAge.stb.freq(['age'], value='deceased', style=True, cum_cols=False)"
      ],
      "metadata": {
        "colab": {
          "base_uri": "https://localhost:8080/",
          "height": 238
        },
        "id": "BePzAAQnR8qk",
        "outputId": "32be8eb1-050f-41d8-9efe-1ae2a4d829b4"
      },
      "execution_count": null,
      "outputs": [
        {
          "output_type": "execute_result",
          "data": {
            "text/html": [
              "<style type=\"text/css\">\n",
              "</style>\n",
              "<table id=\"T_ef43b_\" class=\"dataframe\">\n",
              "  <thead>\n",
              "    <tr>\n",
              "      <th class=\"blank level0\" >&nbsp;</th>\n",
              "      <th class=\"col_heading level0 col0\" >age</th>\n",
              "      <th class=\"col_heading level0 col1\" >deceased</th>\n",
              "      <th class=\"col_heading level0 col2\" >percent</th>\n",
              "    </tr>\n",
              "  </thead>\n",
              "  <tbody>\n",
              "    <tr>\n",
              "      <th id=\"T_ef43b_level0_row0\" class=\"row_heading level0 row0\" >0</th>\n",
              "      <td id=\"T_ef43b_row0_col0\" class=\"data row0 col0\" >80s</td>\n",
              "      <td id=\"T_ef43b_row0_col1\" class=\"data row0 col1\" >12,136</td>\n",
              "      <td id=\"T_ef43b_row0_col2\" class=\"data row0 col2\" >47.58%</td>\n",
              "    </tr>\n",
              "    <tr>\n",
              "      <th id=\"T_ef43b_level0_row1\" class=\"row_heading level0 row1\" >1</th>\n",
              "      <td id=\"T_ef43b_row1_col0\" class=\"data row1 col0\" >70s</td>\n",
              "      <td id=\"T_ef43b_row1_col1\" class=\"data row1 col1\" >7,599</td>\n",
              "      <td id=\"T_ef43b_row1_col2\" class=\"data row1 col2\" >29.80%</td>\n",
              "    </tr>\n",
              "    <tr>\n",
              "      <th id=\"T_ef43b_level0_row2\" class=\"row_heading level0 row2\" >2</th>\n",
              "      <td id=\"T_ef43b_row2_col0\" class=\"data row2 col0\" >60s</td>\n",
              "      <td id=\"T_ef43b_row2_col1\" class=\"data row2 col1\" >3,743</td>\n",
              "      <td id=\"T_ef43b_row2_col2\" class=\"data row2 col2\" >14.68%</td>\n",
              "    </tr>\n",
              "    <tr>\n",
              "      <th id=\"T_ef43b_level0_row3\" class=\"row_heading level0 row3\" >3</th>\n",
              "      <td id=\"T_ef43b_row3_col0\" class=\"data row3 col0\" >50s</td>\n",
              "      <td id=\"T_ef43b_row3_col1\" class=\"data row3 col1\" >1,537</td>\n",
              "      <td id=\"T_ef43b_row3_col2\" class=\"data row3 col2\" >6.03%</td>\n",
              "    </tr>\n",
              "    <tr>\n",
              "      <th id=\"T_ef43b_level0_row4\" class=\"row_heading level0 row4\" >4</th>\n",
              "      <td id=\"T_ef43b_row4_col0\" class=\"data row4 col0\" >40s</td>\n",
              "      <td id=\"T_ef43b_row4_col1\" class=\"data row4 col1\" >295</td>\n",
              "      <td id=\"T_ef43b_row4_col2\" class=\"data row4 col2\" >1.16%</td>\n",
              "    </tr>\n",
              "    <tr>\n",
              "      <th id=\"T_ef43b_level0_row5\" class=\"row_heading level0 row5\" >5</th>\n",
              "      <td id=\"T_ef43b_row5_col0\" class=\"data row5 col0\" >30s</td>\n",
              "      <td id=\"T_ef43b_row5_col1\" class=\"data row5 col1\" >194</td>\n",
              "      <td id=\"T_ef43b_row5_col2\" class=\"data row5 col2\" >0.76%</td>\n",
              "    </tr>\n",
              "  </tbody>\n",
              "</table>\n"
            ],
            "text/plain": [
              "<pandas.io.formats.style.Styler at 0x7f68ff8a1550>"
            ]
          },
          "metadata": {},
          "execution_count": 12
        }
      ]
    },
    {
      "cell_type": "code",
      "source": [
        "# comme, avec \"groupby\" la quantité de filles est reduite... si on desrire avoir la meme taille de df\n",
        "timeAge.groupby('date')[\"deceased\"].sum()"
      ],
      "metadata": {
        "colab": {
          "base_uri": "https://localhost:8080/"
        },
        "id": "bcTE6fraEDAB",
        "outputId": "742f62ed-67b4-4e1f-ff30-3f292d26c420"
      },
      "execution_count": null,
      "outputs": [
        {
          "output_type": "execute_result",
          "data": {
            "text/plain": [
              "date\n",
              "2020-03-02     22\n",
              "2020-03-03     28\n",
              "2020-03-04     32\n",
              "2020-03-05     35\n",
              "2020-03-06     42\n",
              "             ... \n",
              "2020-06-26    282\n",
              "2020-06-27    282\n",
              "2020-06-28    282\n",
              "2020-06-29    282\n",
              "2020-06-30    282\n",
              "Name: deceased, Length: 121, dtype: int64"
            ]
          },
          "metadata": {},
          "execution_count": 13
        }
      ]
    },
    {
      "cell_type": "code",
      "source": [
        "#\"transform\" en combinaison avec \"groupby\" pour conserver la meme quantité de files de notre df\n",
        "\n",
        "timeAge.groupby('date')['deceased'].transform('sum')"
      ],
      "metadata": {
        "colab": {
          "base_uri": "https://localhost:8080/"
        },
        "id": "CFHNcbm9-7EE",
        "outputId": "cfa8575c-1b29-4742-d4fb-e18568b76529"
      },
      "execution_count": null,
      "outputs": [
        {
          "output_type": "execute_result",
          "data": {
            "text/plain": [
              "0        22\n",
              "1        22\n",
              "2        22\n",
              "3        22\n",
              "4        22\n",
              "       ... \n",
              "1084    282\n",
              "1085    282\n",
              "1086    282\n",
              "1087    282\n",
              "1088    282\n",
              "Name: deceased, Length: 1089, dtype: int64"
            ]
          },
          "metadata": {},
          "execution_count": 14
        }
      ]
    },
    {
      "cell_type": "code",
      "source": [
        "timeAge[\"pct_deceased\"] = (timeAge[\"deceased\"]/timeAge.groupby('date')['deceased'].transform('sum'))*100\n",
        "\n"
      ],
      "metadata": {
        "id": "mRftoBcsAUOI"
      },
      "execution_count": null,
      "outputs": []
    },
    {
      "cell_type": "code",
      "source": [
        "timeAge[\"pct_confirmed\"] = (timeAge[\"confirmed\"]/timeAge.groupby('date')['confirmed'].transform('sum'))*100\n",
        "\n",
        "timeAge.head()"
      ],
      "metadata": {
        "colab": {
          "base_uri": "https://localhost:8080/",
          "height": 206
        },
        "id": "gVdyAhkIGA7t",
        "outputId": "232e7de0-cada-4ecd-9206-3f550156b02e"
      },
      "execution_count": 158,
      "outputs": [
        {
          "output_type": "execute_result",
          "data": {
            "text/plain": [
              "         date  time  age  confirmed  deceased  pct_confirmed\n",
              "0  2020-03-02     0   0s         32         0       0.759734\n",
              "1  2020-03-02     0  10s        169         0       4.012346\n",
              "2  2020-03-02     0  20s       1235         0      29.320988\n",
              "3  2020-03-02     0  30s        506         1      12.013295\n",
              "4  2020-03-02     0  40s        633         1      15.028490"
            ],
            "text/html": [
              "\n",
              "  <div id=\"df-d722ce94-cafd-4e0b-b488-e9a63d371c67\">\n",
              "    <div class=\"colab-df-container\">\n",
              "      <div>\n",
              "<style scoped>\n",
              "    .dataframe tbody tr th:only-of-type {\n",
              "        vertical-align: middle;\n",
              "    }\n",
              "\n",
              "    .dataframe tbody tr th {\n",
              "        vertical-align: top;\n",
              "    }\n",
              "\n",
              "    .dataframe thead th {\n",
              "        text-align: right;\n",
              "    }\n",
              "</style>\n",
              "<table border=\"1\" class=\"dataframe\">\n",
              "  <thead>\n",
              "    <tr style=\"text-align: right;\">\n",
              "      <th></th>\n",
              "      <th>date</th>\n",
              "      <th>time</th>\n",
              "      <th>age</th>\n",
              "      <th>confirmed</th>\n",
              "      <th>deceased</th>\n",
              "      <th>pct_confirmed</th>\n",
              "    </tr>\n",
              "  </thead>\n",
              "  <tbody>\n",
              "    <tr>\n",
              "      <th>0</th>\n",
              "      <td>2020-03-02</td>\n",
              "      <td>0</td>\n",
              "      <td>0s</td>\n",
              "      <td>32</td>\n",
              "      <td>0</td>\n",
              "      <td>0.759734</td>\n",
              "    </tr>\n",
              "    <tr>\n",
              "      <th>1</th>\n",
              "      <td>2020-03-02</td>\n",
              "      <td>0</td>\n",
              "      <td>10s</td>\n",
              "      <td>169</td>\n",
              "      <td>0</td>\n",
              "      <td>4.012346</td>\n",
              "    </tr>\n",
              "    <tr>\n",
              "      <th>2</th>\n",
              "      <td>2020-03-02</td>\n",
              "      <td>0</td>\n",
              "      <td>20s</td>\n",
              "      <td>1235</td>\n",
              "      <td>0</td>\n",
              "      <td>29.320988</td>\n",
              "    </tr>\n",
              "    <tr>\n",
              "      <th>3</th>\n",
              "      <td>2020-03-02</td>\n",
              "      <td>0</td>\n",
              "      <td>30s</td>\n",
              "      <td>506</td>\n",
              "      <td>1</td>\n",
              "      <td>12.013295</td>\n",
              "    </tr>\n",
              "    <tr>\n",
              "      <th>4</th>\n",
              "      <td>2020-03-02</td>\n",
              "      <td>0</td>\n",
              "      <td>40s</td>\n",
              "      <td>633</td>\n",
              "      <td>1</td>\n",
              "      <td>15.028490</td>\n",
              "    </tr>\n",
              "  </tbody>\n",
              "</table>\n",
              "</div>\n",
              "      <button class=\"colab-df-convert\" onclick=\"convertToInteractive('df-d722ce94-cafd-4e0b-b488-e9a63d371c67')\"\n",
              "              title=\"Convert this dataframe to an interactive table.\"\n",
              "              style=\"display:none;\">\n",
              "        \n",
              "  <svg xmlns=\"http://www.w3.org/2000/svg\" height=\"24px\"viewBox=\"0 0 24 24\"\n",
              "       width=\"24px\">\n",
              "    <path d=\"M0 0h24v24H0V0z\" fill=\"none\"/>\n",
              "    <path d=\"M18.56 5.44l.94 2.06.94-2.06 2.06-.94-2.06-.94-.94-2.06-.94 2.06-2.06.94zm-11 1L8.5 8.5l.94-2.06 2.06-.94-2.06-.94L8.5 2.5l-.94 2.06-2.06.94zm10 10l.94 2.06.94-2.06 2.06-.94-2.06-.94-.94-2.06-.94 2.06-2.06.94z\"/><path d=\"M17.41 7.96l-1.37-1.37c-.4-.4-.92-.59-1.43-.59-.52 0-1.04.2-1.43.59L10.3 9.45l-7.72 7.72c-.78.78-.78 2.05 0 2.83L4 21.41c.39.39.9.59 1.41.59.51 0 1.02-.2 1.41-.59l7.78-7.78 2.81-2.81c.8-.78.8-2.07 0-2.86zM5.41 20L4 18.59l7.72-7.72 1.47 1.35L5.41 20z\"/>\n",
              "  </svg>\n",
              "      </button>\n",
              "      \n",
              "  <style>\n",
              "    .colab-df-container {\n",
              "      display:flex;\n",
              "      flex-wrap:wrap;\n",
              "      gap: 12px;\n",
              "    }\n",
              "\n",
              "    .colab-df-convert {\n",
              "      background-color: #E8F0FE;\n",
              "      border: none;\n",
              "      border-radius: 50%;\n",
              "      cursor: pointer;\n",
              "      display: none;\n",
              "      fill: #1967D2;\n",
              "      height: 32px;\n",
              "      padding: 0 0 0 0;\n",
              "      width: 32px;\n",
              "    }\n",
              "\n",
              "    .colab-df-convert:hover {\n",
              "      background-color: #E2EBFA;\n",
              "      box-shadow: 0px 1px 2px rgba(60, 64, 67, 0.3), 0px 1px 3px 1px rgba(60, 64, 67, 0.15);\n",
              "      fill: #174EA6;\n",
              "    }\n",
              "\n",
              "    [theme=dark] .colab-df-convert {\n",
              "      background-color: #3B4455;\n",
              "      fill: #D2E3FC;\n",
              "    }\n",
              "\n",
              "    [theme=dark] .colab-df-convert:hover {\n",
              "      background-color: #434B5C;\n",
              "      box-shadow: 0px 1px 3px 1px rgba(0, 0, 0, 0.15);\n",
              "      filter: drop-shadow(0px 1px 2px rgba(0, 0, 0, 0.3));\n",
              "      fill: #FFFFFF;\n",
              "    }\n",
              "  </style>\n",
              "\n",
              "      <script>\n",
              "        const buttonEl =\n",
              "          document.querySelector('#df-d722ce94-cafd-4e0b-b488-e9a63d371c67 button.colab-df-convert');\n",
              "        buttonEl.style.display =\n",
              "          google.colab.kernel.accessAllowed ? 'block' : 'none';\n",
              "\n",
              "        async function convertToInteractive(key) {\n",
              "          const element = document.querySelector('#df-d722ce94-cafd-4e0b-b488-e9a63d371c67');\n",
              "          const dataTable =\n",
              "            await google.colab.kernel.invokeFunction('convertToInteractive',\n",
              "                                                     [key], {});\n",
              "          if (!dataTable) return;\n",
              "\n",
              "          const docLinkHtml = 'Like what you see? Visit the ' +\n",
              "            '<a target=\"_blank\" href=https://colab.research.google.com/notebooks/data_table.ipynb>data table notebook</a>'\n",
              "            + ' to learn more about interactive tables.';\n",
              "          element.innerHTML = '';\n",
              "          dataTable['output_type'] = 'display_data';\n",
              "          await google.colab.output.renderOutput(dataTable, element);\n",
              "          const docLink = document.createElement('div');\n",
              "          docLink.innerHTML = docLinkHtml;\n",
              "          element.appendChild(docLink);\n",
              "        }\n",
              "      </script>\n",
              "    </div>\n",
              "  </div>\n",
              "  "
            ]
          },
          "metadata": {},
          "execution_count": 158
        }
      ]
    },
    {
      "cell_type": "markdown",
      "source": [
        "#Integration des fichiers"
      ],
      "metadata": {
        "id": "uO7nRvHmXrec"
      }
    },
    {
      "cell_type": "markdown",
      "source": [
        "Nous voulons le 7 colonnes de la table \"time\" plus le numero de cas confimé par tranche d'age et le nombre de décès para tranche d'age"
      ],
      "metadata": {
        "id": "NMLRh_GyZx77"
      }
    },
    {
      "cell_type": "markdown",
      "source": [
        "on amerais savoir les percentages de cas condirmé et de cas décès par tranche d'age"
      ],
      "metadata": {
        "id": "8wqsoeORXpPa"
      }
    },
    {
      "cell_type": "code",
      "source": [
        "timeAge.dtypes"
      ],
      "metadata": {
        "colab": {
          "base_uri": "https://localhost:8080/"
        },
        "id": "D8HsVA0Xoiu2",
        "outputId": "b7c51fd4-cdbc-4d82-f34e-b55a24413fa7"
      },
      "execution_count": null,
      "outputs": [
        {
          "output_type": "execute_result",
          "data": {
            "text/plain": [
              "date              object\n",
              "time               int64\n",
              "age               object\n",
              "confirmed          int64\n",
              "deceased           int64\n",
              "pct_deceased     float64\n",
              "pct_confirmed    float64\n",
              "dtype: object"
            ]
          },
          "metadata": {},
          "execution_count": 17
        }
      ]
    },
    {
      "cell_type": "code",
      "source": [
        "timeAge[\"date\"].astype(np.datetime64)"
      ],
      "metadata": {
        "colab": {
          "base_uri": "https://localhost:8080/"
        },
        "id": "GjTT8RRRpuDk",
        "outputId": "9f70d9a3-0740-421a-9f1e-a3e8a36f4fb2"
      },
      "execution_count": null,
      "outputs": [
        {
          "output_type": "execute_result",
          "data": {
            "text/plain": [
              "0      2020-03-02\n",
              "1      2020-03-02\n",
              "2      2020-03-02\n",
              "3      2020-03-02\n",
              "4      2020-03-02\n",
              "          ...    \n",
              "1084   2020-06-30\n",
              "1085   2020-06-30\n",
              "1086   2020-06-30\n",
              "1087   2020-06-30\n",
              "1088   2020-06-30\n",
              "Name: date, Length: 1089, dtype: datetime64[ns]"
            ]
          },
          "metadata": {},
          "execution_count": 18
        }
      ]
    },
    {
      "cell_type": "code",
      "source": [
        "#dictionnaire pour connaitre le dat de type object\n",
        "\n",
        "from numpy.ma.extras import unique\n",
        "\n",
        "{column: len(timeAge[column].unique()) for column in timeAge.columns if timeAge.dtypes[column] =='object'}"
      ],
      "metadata": {
        "colab": {
          "base_uri": "https://localhost:8080/"
        },
        "id": "w1T8X25wqmB5",
        "outputId": "c04b1331-b40e-4de4-b2b0-5f56f8c8e700"
      },
      "execution_count": null,
      "outputs": [
        {
          "output_type": "execute_result",
          "data": {
            "text/plain": [
              "{'age': 9, 'date': 121}"
            ]
          },
          "metadata": {},
          "execution_count": 19
        }
      ]
    },
    {
      "cell_type": "code",
      "source": [
        "#elimer les colonnes non necesaires por la jointure\n",
        "\n",
        "timeAge = timeAge.drop([\"time\", \"confirmed\", \"deceased\"], axis = 1)\n"
      ],
      "metadata": {
        "id": "twFZDQma8meI"
      },
      "execution_count": null,
      "outputs": []
    },
    {
      "cell_type": "code",
      "source": [
        "timeAge.head()"
      ],
      "metadata": {
        "colab": {
          "base_uri": "https://localhost:8080/",
          "height": 206
        },
        "id": "SUczarThIiJf",
        "outputId": "6db657ad-5567-400a-da4b-2952e802de72"
      },
      "execution_count": null,
      "outputs": [
        {
          "output_type": "execute_result",
          "data": {
            "text/html": [
              "\n",
              "  <div id=\"df-f62ffe13-8f25-4e85-b0c1-8ab5e8e3d873\">\n",
              "    <div class=\"colab-df-container\">\n",
              "      <div>\n",
              "<style scoped>\n",
              "    .dataframe tbody tr th:only-of-type {\n",
              "        vertical-align: middle;\n",
              "    }\n",
              "\n",
              "    .dataframe tbody tr th {\n",
              "        vertical-align: top;\n",
              "    }\n",
              "\n",
              "    .dataframe thead th {\n",
              "        text-align: right;\n",
              "    }\n",
              "</style>\n",
              "<table border=\"1\" class=\"dataframe\">\n",
              "  <thead>\n",
              "    <tr style=\"text-align: right;\">\n",
              "      <th></th>\n",
              "      <th>date</th>\n",
              "      <th>age</th>\n",
              "      <th>pct_deceased</th>\n",
              "      <th>pct_confirmed</th>\n",
              "    </tr>\n",
              "  </thead>\n",
              "  <tbody>\n",
              "    <tr>\n",
              "      <th>0</th>\n",
              "      <td>2020-03-02</td>\n",
              "      <td>0s</td>\n",
              "      <td>0.000000</td>\n",
              "      <td>0.759734</td>\n",
              "    </tr>\n",
              "    <tr>\n",
              "      <th>1</th>\n",
              "      <td>2020-03-02</td>\n",
              "      <td>10s</td>\n",
              "      <td>0.000000</td>\n",
              "      <td>4.012346</td>\n",
              "    </tr>\n",
              "    <tr>\n",
              "      <th>2</th>\n",
              "      <td>2020-03-02</td>\n",
              "      <td>20s</td>\n",
              "      <td>0.000000</td>\n",
              "      <td>29.320988</td>\n",
              "    </tr>\n",
              "    <tr>\n",
              "      <th>3</th>\n",
              "      <td>2020-03-02</td>\n",
              "      <td>30s</td>\n",
              "      <td>4.545455</td>\n",
              "      <td>12.013295</td>\n",
              "    </tr>\n",
              "    <tr>\n",
              "      <th>4</th>\n",
              "      <td>2020-03-02</td>\n",
              "      <td>40s</td>\n",
              "      <td>4.545455</td>\n",
              "      <td>15.028490</td>\n",
              "    </tr>\n",
              "  </tbody>\n",
              "</table>\n",
              "</div>\n",
              "      <button class=\"colab-df-convert\" onclick=\"convertToInteractive('df-f62ffe13-8f25-4e85-b0c1-8ab5e8e3d873')\"\n",
              "              title=\"Convert this dataframe to an interactive table.\"\n",
              "              style=\"display:none;\">\n",
              "        \n",
              "  <svg xmlns=\"http://www.w3.org/2000/svg\" height=\"24px\"viewBox=\"0 0 24 24\"\n",
              "       width=\"24px\">\n",
              "    <path d=\"M0 0h24v24H0V0z\" fill=\"none\"/>\n",
              "    <path d=\"M18.56 5.44l.94 2.06.94-2.06 2.06-.94-2.06-.94-.94-2.06-.94 2.06-2.06.94zm-11 1L8.5 8.5l.94-2.06 2.06-.94-2.06-.94L8.5 2.5l-.94 2.06-2.06.94zm10 10l.94 2.06.94-2.06 2.06-.94-2.06-.94-.94-2.06-.94 2.06-2.06.94z\"/><path d=\"M17.41 7.96l-1.37-1.37c-.4-.4-.92-.59-1.43-.59-.52 0-1.04.2-1.43.59L10.3 9.45l-7.72 7.72c-.78.78-.78 2.05 0 2.83L4 21.41c.39.39.9.59 1.41.59.51 0 1.02-.2 1.41-.59l7.78-7.78 2.81-2.81c.8-.78.8-2.07 0-2.86zM5.41 20L4 18.59l7.72-7.72 1.47 1.35L5.41 20z\"/>\n",
              "  </svg>\n",
              "      </button>\n",
              "      \n",
              "  <style>\n",
              "    .colab-df-container {\n",
              "      display:flex;\n",
              "      flex-wrap:wrap;\n",
              "      gap: 12px;\n",
              "    }\n",
              "\n",
              "    .colab-df-convert {\n",
              "      background-color: #E8F0FE;\n",
              "      border: none;\n",
              "      border-radius: 50%;\n",
              "      cursor: pointer;\n",
              "      display: none;\n",
              "      fill: #1967D2;\n",
              "      height: 32px;\n",
              "      padding: 0 0 0 0;\n",
              "      width: 32px;\n",
              "    }\n",
              "\n",
              "    .colab-df-convert:hover {\n",
              "      background-color: #E2EBFA;\n",
              "      box-shadow: 0px 1px 2px rgba(60, 64, 67, 0.3), 0px 1px 3px 1px rgba(60, 64, 67, 0.15);\n",
              "      fill: #174EA6;\n",
              "    }\n",
              "\n",
              "    [theme=dark] .colab-df-convert {\n",
              "      background-color: #3B4455;\n",
              "      fill: #D2E3FC;\n",
              "    }\n",
              "\n",
              "    [theme=dark] .colab-df-convert:hover {\n",
              "      background-color: #434B5C;\n",
              "      box-shadow: 0px 1px 3px 1px rgba(0, 0, 0, 0.15);\n",
              "      filter: drop-shadow(0px 1px 2px rgba(0, 0, 0, 0.3));\n",
              "      fill: #FFFFFF;\n",
              "    }\n",
              "  </style>\n",
              "\n",
              "      <script>\n",
              "        const buttonEl =\n",
              "          document.querySelector('#df-f62ffe13-8f25-4e85-b0c1-8ab5e8e3d873 button.colab-df-convert');\n",
              "        buttonEl.style.display =\n",
              "          google.colab.kernel.accessAllowed ? 'block' : 'none';\n",
              "\n",
              "        async function convertToInteractive(key) {\n",
              "          const element = document.querySelector('#df-f62ffe13-8f25-4e85-b0c1-8ab5e8e3d873');\n",
              "          const dataTable =\n",
              "            await google.colab.kernel.invokeFunction('convertToInteractive',\n",
              "                                                     [key], {});\n",
              "          if (!dataTable) return;\n",
              "\n",
              "          const docLinkHtml = 'Like what you see? Visit the ' +\n",
              "            '<a target=\"_blank\" href=https://colab.research.google.com/notebooks/data_table.ipynb>data table notebook</a>'\n",
              "            + ' to learn more about interactive tables.';\n",
              "          element.innerHTML = '';\n",
              "          dataTable['output_type'] = 'display_data';\n",
              "          await google.colab.output.renderOutput(dataTable, element);\n",
              "          const docLink = document.createElement('div');\n",
              "          docLink.innerHTML = docLinkHtml;\n",
              "          element.appendChild(docLink);\n",
              "        }\n",
              "      </script>\n",
              "    </div>\n",
              "  </div>\n",
              "  "
            ],
            "text/plain": [
              "         date  age  pct_deceased  pct_confirmed\n",
              "0  2020-03-02   0s      0.000000       0.759734\n",
              "1  2020-03-02  10s      0.000000       4.012346\n",
              "2  2020-03-02  20s      0.000000      29.320988\n",
              "3  2020-03-02  30s      4.545455      12.013295\n",
              "4  2020-03-02  40s      4.545455      15.028490"
            ]
          },
          "metadata": {},
          "execution_count": 21
        }
      ]
    },
    {
      "cell_type": "code",
      "source": [
        "timeAge.dtypes"
      ],
      "metadata": {
        "colab": {
          "base_uri": "https://localhost:8080/"
        },
        "id": "WlwSLVGOqRlm",
        "outputId": "08992c6b-a88a-4760-ab7a-8d93f0aaa8e0"
      },
      "execution_count": null,
      "outputs": [
        {
          "output_type": "execute_result",
          "data": {
            "text/plain": [
              "date              object\n",
              "age               object\n",
              "pct_deceased     float64\n",
              "pct_confirmed    float64\n",
              "dtype: object"
            ]
          },
          "metadata": {},
          "execution_count": 22
        }
      ]
    },
    {
      "cell_type": "code",
      "source": [
        "print(timeAge.index)"
      ],
      "metadata": {
        "colab": {
          "base_uri": "https://localhost:8080/"
        },
        "id": "1fbYRFvRO2cy",
        "outputId": "c70b6d90-bdff-4131-8537-4ae6a93bf17c"
      },
      "execution_count": null,
      "outputs": [
        {
          "output_type": "stream",
          "name": "stdout",
          "text": [
            "RangeIndex(start=0, stop=1089, step=1)\n"
          ]
        }
      ]
    },
    {
      "cell_type": "code",
      "source": [
        "print(timeAge.index.name)"
      ],
      "metadata": {
        "colab": {
          "base_uri": "https://localhost:8080/"
        },
        "id": "UU5kkkTGU1kA",
        "outputId": "680afa21-a093-4ab9-f77c-eb6fd42f8045"
      },
      "execution_count": null,
      "outputs": [
        {
          "output_type": "stream",
          "name": "stdout",
          "text": [
            "None\n"
          ]
        }
      ]
    },
    {
      "cell_type": "markdown",
      "source": [
        "Je doi trasposer le df originel par rappor a valeurs de deces et cas confirmes.  Avec la fonction \"pivot_table\" je peut le faire pour chaque colonne d'interet"
      ],
      "metadata": {
        "id": "8bW1So4mFUpf"
      }
    },
    {
      "cell_type": "markdown",
      "source": [
        "df pour le cas confirmes"
      ],
      "metadata": {
        "id": "5VfY2lnTXtyt"
      }
    },
    {
      "cell_type": "code",
      "source": [
        "timeAge_conf = timeAge.pivot_table(index=\"date\", columns=\"age\", values= \"pct_confirmed\")\n",
        "timeAge_conf.reset_index(drop = True)\n",
        "\n",
        "timeAge_conf.head()"
      ],
      "metadata": {
        "colab": {
          "base_uri": "https://localhost:8080/",
          "height": 238
        },
        "id": "0lbAbKZtFcQ-",
        "outputId": "1d1f6727-ed64-4ee6-dc66-5442aa474707"
      },
      "execution_count": null,
      "outputs": [
        {
          "output_type": "execute_result",
          "data": {
            "text/html": [
              "\n",
              "  <div id=\"df-a2c9eda2-f1c7-43ff-b9c1-13ef4e78b85b\">\n",
              "    <div class=\"colab-df-container\">\n",
              "      <div>\n",
              "<style scoped>\n",
              "    .dataframe tbody tr th:only-of-type {\n",
              "        vertical-align: middle;\n",
              "    }\n",
              "\n",
              "    .dataframe tbody tr th {\n",
              "        vertical-align: top;\n",
              "    }\n",
              "\n",
              "    .dataframe thead th {\n",
              "        text-align: right;\n",
              "    }\n",
              "</style>\n",
              "<table border=\"1\" class=\"dataframe\">\n",
              "  <thead>\n",
              "    <tr style=\"text-align: right;\">\n",
              "      <th>age</th>\n",
              "      <th>0s</th>\n",
              "      <th>10s</th>\n",
              "      <th>20s</th>\n",
              "      <th>30s</th>\n",
              "      <th>40s</th>\n",
              "      <th>50s</th>\n",
              "      <th>60s</th>\n",
              "      <th>70s</th>\n",
              "      <th>80s</th>\n",
              "    </tr>\n",
              "    <tr>\n",
              "      <th>date</th>\n",
              "      <th></th>\n",
              "      <th></th>\n",
              "      <th></th>\n",
              "      <th></th>\n",
              "      <th></th>\n",
              "      <th></th>\n",
              "      <th></th>\n",
              "      <th></th>\n",
              "      <th></th>\n",
              "    </tr>\n",
              "  </thead>\n",
              "  <tbody>\n",
              "    <tr>\n",
              "      <th>2020-03-02</th>\n",
              "      <td>0.759734</td>\n",
              "      <td>4.012346</td>\n",
              "      <td>29.320988</td>\n",
              "      <td>12.013295</td>\n",
              "      <td>15.028490</td>\n",
              "      <td>19.800570</td>\n",
              "      <td>12.583096</td>\n",
              "      <td>4.558405</td>\n",
              "      <td>1.923077</td>\n",
              "    </tr>\n",
              "    <tr>\n",
              "      <th>2020-03-03</th>\n",
              "      <td>0.706567</td>\n",
              "      <td>4.239401</td>\n",
              "      <td>29.447215</td>\n",
              "      <td>12.011638</td>\n",
              "      <td>14.817124</td>\n",
              "      <td>19.783874</td>\n",
              "      <td>12.406484</td>\n",
              "      <td>4.655029</td>\n",
              "      <td>1.932668</td>\n",
              "    </tr>\n",
              "    <tr>\n",
              "      <th>2020-03-04</th>\n",
              "      <td>0.638138</td>\n",
              "      <td>4.373123</td>\n",
              "      <td>29.560811</td>\n",
              "      <td>11.843093</td>\n",
              "      <td>14.827327</td>\n",
              "      <td>19.725976</td>\n",
              "      <td>12.124625</td>\n",
              "      <td>4.879880</td>\n",
              "      <td>2.027027</td>\n",
              "    </tr>\n",
              "    <tr>\n",
              "      <th>2020-03-05</th>\n",
              "      <td>0.659036</td>\n",
              "      <td>4.457163</td>\n",
              "      <td>29.951439</td>\n",
              "      <td>11.429067</td>\n",
              "      <td>14.689559</td>\n",
              "      <td>19.545612</td>\n",
              "      <td>12.122789</td>\n",
              "      <td>4.994797</td>\n",
              "      <td>2.150538</td>\n",
              "    </tr>\n",
              "    <tr>\n",
              "      <th>2020-03-06</th>\n",
              "      <td>0.716104</td>\n",
              "      <td>4.646722</td>\n",
              "      <td>29.869510</td>\n",
              "      <td>11.028008</td>\n",
              "      <td>14.147040</td>\n",
              "      <td>19.366645</td>\n",
              "      <td>12.141948</td>\n",
              "      <td>5.410567</td>\n",
              "      <td>2.673456</td>\n",
              "    </tr>\n",
              "  </tbody>\n",
              "</table>\n",
              "</div>\n",
              "      <button class=\"colab-df-convert\" onclick=\"convertToInteractive('df-a2c9eda2-f1c7-43ff-b9c1-13ef4e78b85b')\"\n",
              "              title=\"Convert this dataframe to an interactive table.\"\n",
              "              style=\"display:none;\">\n",
              "        \n",
              "  <svg xmlns=\"http://www.w3.org/2000/svg\" height=\"24px\"viewBox=\"0 0 24 24\"\n",
              "       width=\"24px\">\n",
              "    <path d=\"M0 0h24v24H0V0z\" fill=\"none\"/>\n",
              "    <path d=\"M18.56 5.44l.94 2.06.94-2.06 2.06-.94-2.06-.94-.94-2.06-.94 2.06-2.06.94zm-11 1L8.5 8.5l.94-2.06 2.06-.94-2.06-.94L8.5 2.5l-.94 2.06-2.06.94zm10 10l.94 2.06.94-2.06 2.06-.94-2.06-.94-.94-2.06-.94 2.06-2.06.94z\"/><path d=\"M17.41 7.96l-1.37-1.37c-.4-.4-.92-.59-1.43-.59-.52 0-1.04.2-1.43.59L10.3 9.45l-7.72 7.72c-.78.78-.78 2.05 0 2.83L4 21.41c.39.39.9.59 1.41.59.51 0 1.02-.2 1.41-.59l7.78-7.78 2.81-2.81c.8-.78.8-2.07 0-2.86zM5.41 20L4 18.59l7.72-7.72 1.47 1.35L5.41 20z\"/>\n",
              "  </svg>\n",
              "      </button>\n",
              "      \n",
              "  <style>\n",
              "    .colab-df-container {\n",
              "      display:flex;\n",
              "      flex-wrap:wrap;\n",
              "      gap: 12px;\n",
              "    }\n",
              "\n",
              "    .colab-df-convert {\n",
              "      background-color: #E8F0FE;\n",
              "      border: none;\n",
              "      border-radius: 50%;\n",
              "      cursor: pointer;\n",
              "      display: none;\n",
              "      fill: #1967D2;\n",
              "      height: 32px;\n",
              "      padding: 0 0 0 0;\n",
              "      width: 32px;\n",
              "    }\n",
              "\n",
              "    .colab-df-convert:hover {\n",
              "      background-color: #E2EBFA;\n",
              "      box-shadow: 0px 1px 2px rgba(60, 64, 67, 0.3), 0px 1px 3px 1px rgba(60, 64, 67, 0.15);\n",
              "      fill: #174EA6;\n",
              "    }\n",
              "\n",
              "    [theme=dark] .colab-df-convert {\n",
              "      background-color: #3B4455;\n",
              "      fill: #D2E3FC;\n",
              "    }\n",
              "\n",
              "    [theme=dark] .colab-df-convert:hover {\n",
              "      background-color: #434B5C;\n",
              "      box-shadow: 0px 1px 3px 1px rgba(0, 0, 0, 0.15);\n",
              "      filter: drop-shadow(0px 1px 2px rgba(0, 0, 0, 0.3));\n",
              "      fill: #FFFFFF;\n",
              "    }\n",
              "  </style>\n",
              "\n",
              "      <script>\n",
              "        const buttonEl =\n",
              "          document.querySelector('#df-a2c9eda2-f1c7-43ff-b9c1-13ef4e78b85b button.colab-df-convert');\n",
              "        buttonEl.style.display =\n",
              "          google.colab.kernel.accessAllowed ? 'block' : 'none';\n",
              "\n",
              "        async function convertToInteractive(key) {\n",
              "          const element = document.querySelector('#df-a2c9eda2-f1c7-43ff-b9c1-13ef4e78b85b');\n",
              "          const dataTable =\n",
              "            await google.colab.kernel.invokeFunction('convertToInteractive',\n",
              "                                                     [key], {});\n",
              "          if (!dataTable) return;\n",
              "\n",
              "          const docLinkHtml = 'Like what you see? Visit the ' +\n",
              "            '<a target=\"_blank\" href=https://colab.research.google.com/notebooks/data_table.ipynb>data table notebook</a>'\n",
              "            + ' to learn more about interactive tables.';\n",
              "          element.innerHTML = '';\n",
              "          dataTable['output_type'] = 'display_data';\n",
              "          await google.colab.output.renderOutput(dataTable, element);\n",
              "          const docLink = document.createElement('div');\n",
              "          docLink.innerHTML = docLinkHtml;\n",
              "          element.appendChild(docLink);\n",
              "        }\n",
              "      </script>\n",
              "    </div>\n",
              "  </div>\n",
              "  "
            ],
            "text/plain": [
              "age               0s       10s        20s  ...        60s       70s       80s\n",
              "date                                       ...                               \n",
              "2020-03-02  0.759734  4.012346  29.320988  ...  12.583096  4.558405  1.923077\n",
              "2020-03-03  0.706567  4.239401  29.447215  ...  12.406484  4.655029  1.932668\n",
              "2020-03-04  0.638138  4.373123  29.560811  ...  12.124625  4.879880  2.027027\n",
              "2020-03-05  0.659036  4.457163  29.951439  ...  12.122789  4.994797  2.150538\n",
              "2020-03-06  0.716104  4.646722  29.869510  ...  12.141948  5.410567  2.673456\n",
              "\n",
              "[5 rows x 9 columns]"
            ]
          },
          "metadata": {},
          "execution_count": 25
        }
      ]
    },
    {
      "cell_type": "code",
      "source": [
        "timeAge_conf.index"
      ],
      "metadata": {
        "colab": {
          "base_uri": "https://localhost:8080/"
        },
        "id": "KqVJB12gO-nv",
        "outputId": "d5124c50-3f10-4b7d-998f-e493be12b6e4"
      },
      "execution_count": null,
      "outputs": [
        {
          "output_type": "execute_result",
          "data": {
            "text/plain": [
              "Index(['2020-03-02', '2020-03-03', '2020-03-04', '2020-03-05', '2020-03-06',\n",
              "       '2020-03-07', '2020-03-08', '2020-03-09', '2020-03-10', '2020-03-11',\n",
              "       ...\n",
              "       '2020-06-21', '2020-06-22', '2020-06-23', '2020-06-24', '2020-06-25',\n",
              "       '2020-06-26', '2020-06-27', '2020-06-28', '2020-06-29', '2020-06-30'],\n",
              "      dtype='object', name='date', length=121)"
            ]
          },
          "metadata": {},
          "execution_count": 26
        }
      ]
    },
    {
      "cell_type": "code",
      "source": [
        "#Assigner un nouveau index\n",
        "timeAge_conf.reset_index"
      ],
      "metadata": {
        "colab": {
          "base_uri": "https://localhost:8080/"
        },
        "id": "09xFuyKbemEm",
        "outputId": "a6677bb6-bf89-428c-f530-5ac3b0f2c74d"
      },
      "execution_count": null,
      "outputs": [
        {
          "output_type": "execute_result",
          "data": {
            "text/plain": [
              "<bound method DataFrame.reset_index of age               0s       10s        20s  ...        60s       70s       80s\n",
              "date                                       ...                               \n",
              "2020-03-02  0.759734  4.012346  29.320988  ...  12.583096  4.558405  1.923077\n",
              "2020-03-03  0.706567  4.239401  29.447215  ...  12.406484  4.655029  1.932668\n",
              "2020-03-04  0.638138  4.373123  29.560811  ...  12.124625  4.879880  2.027027\n",
              "2020-03-05  0.659036  4.457163  29.951439  ...  12.122789  4.994797  2.150538\n",
              "2020-03-06  0.716104  4.646722  29.869510  ...  12.141948  5.410567  2.673456\n",
              "...              ...       ...        ...  ...        ...       ...       ...\n",
              "2020-06-26  1.460086  5.538803  26.321219  ...  12.958261  6.657673  4.388192\n",
              "2020-06-27  1.462104  5.532285  26.325773  ...  12.961353  6.662452  4.386312\n",
              "2020-06-28  1.470704  5.528903  26.291781  ...  13.000393  6.653559  4.372788\n",
              "2020-06-29  1.489378  5.518539  26.275770  ...  13.051658  6.639492  4.358391\n",
              "2020-06-30  1.507812  5.531250  26.265625  ...  13.031250  6.640625  4.343750\n",
              "\n",
              "[121 rows x 9 columns]>"
            ]
          },
          "metadata": {},
          "execution_count": 27
        }
      ]
    },
    {
      "cell_type": "code",
      "source": [
        "timeAge_conf.shape"
      ],
      "metadata": {
        "colab": {
          "base_uri": "https://localhost:8080/"
        },
        "id": "OBSST7TqevTG",
        "outputId": "598657a7-46aa-4290-9a00-c64993e15864"
      },
      "execution_count": null,
      "outputs": [
        {
          "output_type": "execute_result",
          "data": {
            "text/plain": [
              "(121, 9)"
            ]
          },
          "metadata": {},
          "execution_count": 28
        }
      ]
    },
    {
      "cell_type": "code",
      "source": [
        "print(timeAge_conf.index.name)"
      ],
      "metadata": {
        "colab": {
          "base_uri": "https://localhost:8080/"
        },
        "id": "zrJz2BIpQU5E",
        "outputId": "33ac0650-72a3-4927-8e27-57f0ca3fd60e"
      },
      "execution_count": null,
      "outputs": [
        {
          "output_type": "stream",
          "name": "stdout",
          "text": [
            "date\n"
          ]
        }
      ]
    },
    {
      "cell_type": "code",
      "source": [
        "timeAge_conf.columns"
      ],
      "metadata": {
        "colab": {
          "base_uri": "https://localhost:8080/"
        },
        "id": "pmA16rWDeYRz",
        "outputId": "34736497-db92-4cc5-a758-a0fd50f3466b"
      },
      "execution_count": null,
      "outputs": [
        {
          "output_type": "execute_result",
          "data": {
            "text/plain": [
              "Index(['0s', '10s', '20s', '30s', '40s', '50s', '60s', '70s', '80s'], dtype='object', name='age')"
            ]
          },
          "metadata": {},
          "execution_count": 30
        }
      ]
    },
    {
      "cell_type": "code",
      "source": [
        "#renomer colonnes \n",
        "timeAge_conf.rename(columns = {'0s':\"0s_%confirmed\", '10s': '10s_%confirmed', '20s': \"20s_%confirmed\", '30s': \"30s_%confirmed\", '40s':'40s_%confirmed', '50s': \"50s_%confirmed\", \n",
        "                          '60s': \"60s_%confirmed\", '70s': '70s_%confirmed', '80s': '80s_%confirmed'}, inplace = True)"
      ],
      "metadata": {
        "id": "d-KQLKBfhisv"
      },
      "execution_count": null,
      "outputs": []
    },
    {
      "cell_type": "code",
      "source": [
        "timeAge_conf.head()"
      ],
      "metadata": {
        "colab": {
          "base_uri": "https://localhost:8080/",
          "height": 238
        },
        "id": "jS2ZFSBuaUTJ",
        "outputId": "fcd6f51f-1e04-4c6e-815f-c9c637fb55a1"
      },
      "execution_count": null,
      "outputs": [
        {
          "output_type": "execute_result",
          "data": {
            "text/html": [
              "\n",
              "  <div id=\"df-41688169-bf7a-42df-8b5a-e433ef7ad41d\">\n",
              "    <div class=\"colab-df-container\">\n",
              "      <div>\n",
              "<style scoped>\n",
              "    .dataframe tbody tr th:only-of-type {\n",
              "        vertical-align: middle;\n",
              "    }\n",
              "\n",
              "    .dataframe tbody tr th {\n",
              "        vertical-align: top;\n",
              "    }\n",
              "\n",
              "    .dataframe thead th {\n",
              "        text-align: right;\n",
              "    }\n",
              "</style>\n",
              "<table border=\"1\" class=\"dataframe\">\n",
              "  <thead>\n",
              "    <tr style=\"text-align: right;\">\n",
              "      <th>age</th>\n",
              "      <th>0s_%confirmed</th>\n",
              "      <th>10s_%confirmed</th>\n",
              "      <th>20s_%confirmed</th>\n",
              "      <th>30s_%confirmed</th>\n",
              "      <th>40s_%confirmed</th>\n",
              "      <th>50s_%confirmed</th>\n",
              "      <th>60s_%confirmed</th>\n",
              "      <th>70s_%confirmed</th>\n",
              "      <th>80s_%confirmed</th>\n",
              "    </tr>\n",
              "    <tr>\n",
              "      <th>date</th>\n",
              "      <th></th>\n",
              "      <th></th>\n",
              "      <th></th>\n",
              "      <th></th>\n",
              "      <th></th>\n",
              "      <th></th>\n",
              "      <th></th>\n",
              "      <th></th>\n",
              "      <th></th>\n",
              "    </tr>\n",
              "  </thead>\n",
              "  <tbody>\n",
              "    <tr>\n",
              "      <th>2020-03-02</th>\n",
              "      <td>0.759734</td>\n",
              "      <td>4.012346</td>\n",
              "      <td>29.320988</td>\n",
              "      <td>12.013295</td>\n",
              "      <td>15.028490</td>\n",
              "      <td>19.800570</td>\n",
              "      <td>12.583096</td>\n",
              "      <td>4.558405</td>\n",
              "      <td>1.923077</td>\n",
              "    </tr>\n",
              "    <tr>\n",
              "      <th>2020-03-03</th>\n",
              "      <td>0.706567</td>\n",
              "      <td>4.239401</td>\n",
              "      <td>29.447215</td>\n",
              "      <td>12.011638</td>\n",
              "      <td>14.817124</td>\n",
              "      <td>19.783874</td>\n",
              "      <td>12.406484</td>\n",
              "      <td>4.655029</td>\n",
              "      <td>1.932668</td>\n",
              "    </tr>\n",
              "    <tr>\n",
              "      <th>2020-03-04</th>\n",
              "      <td>0.638138</td>\n",
              "      <td>4.373123</td>\n",
              "      <td>29.560811</td>\n",
              "      <td>11.843093</td>\n",
              "      <td>14.827327</td>\n",
              "      <td>19.725976</td>\n",
              "      <td>12.124625</td>\n",
              "      <td>4.879880</td>\n",
              "      <td>2.027027</td>\n",
              "    </tr>\n",
              "    <tr>\n",
              "      <th>2020-03-05</th>\n",
              "      <td>0.659036</td>\n",
              "      <td>4.457163</td>\n",
              "      <td>29.951439</td>\n",
              "      <td>11.429067</td>\n",
              "      <td>14.689559</td>\n",
              "      <td>19.545612</td>\n",
              "      <td>12.122789</td>\n",
              "      <td>4.994797</td>\n",
              "      <td>2.150538</td>\n",
              "    </tr>\n",
              "    <tr>\n",
              "      <th>2020-03-06</th>\n",
              "      <td>0.716104</td>\n",
              "      <td>4.646722</td>\n",
              "      <td>29.869510</td>\n",
              "      <td>11.028008</td>\n",
              "      <td>14.147040</td>\n",
              "      <td>19.366645</td>\n",
              "      <td>12.141948</td>\n",
              "      <td>5.410567</td>\n",
              "      <td>2.673456</td>\n",
              "    </tr>\n",
              "  </tbody>\n",
              "</table>\n",
              "</div>\n",
              "      <button class=\"colab-df-convert\" onclick=\"convertToInteractive('df-41688169-bf7a-42df-8b5a-e433ef7ad41d')\"\n",
              "              title=\"Convert this dataframe to an interactive table.\"\n",
              "              style=\"display:none;\">\n",
              "        \n",
              "  <svg xmlns=\"http://www.w3.org/2000/svg\" height=\"24px\"viewBox=\"0 0 24 24\"\n",
              "       width=\"24px\">\n",
              "    <path d=\"M0 0h24v24H0V0z\" fill=\"none\"/>\n",
              "    <path d=\"M18.56 5.44l.94 2.06.94-2.06 2.06-.94-2.06-.94-.94-2.06-.94 2.06-2.06.94zm-11 1L8.5 8.5l.94-2.06 2.06-.94-2.06-.94L8.5 2.5l-.94 2.06-2.06.94zm10 10l.94 2.06.94-2.06 2.06-.94-2.06-.94-.94-2.06-.94 2.06-2.06.94z\"/><path d=\"M17.41 7.96l-1.37-1.37c-.4-.4-.92-.59-1.43-.59-.52 0-1.04.2-1.43.59L10.3 9.45l-7.72 7.72c-.78.78-.78 2.05 0 2.83L4 21.41c.39.39.9.59 1.41.59.51 0 1.02-.2 1.41-.59l7.78-7.78 2.81-2.81c.8-.78.8-2.07 0-2.86zM5.41 20L4 18.59l7.72-7.72 1.47 1.35L5.41 20z\"/>\n",
              "  </svg>\n",
              "      </button>\n",
              "      \n",
              "  <style>\n",
              "    .colab-df-container {\n",
              "      display:flex;\n",
              "      flex-wrap:wrap;\n",
              "      gap: 12px;\n",
              "    }\n",
              "\n",
              "    .colab-df-convert {\n",
              "      background-color: #E8F0FE;\n",
              "      border: none;\n",
              "      border-radius: 50%;\n",
              "      cursor: pointer;\n",
              "      display: none;\n",
              "      fill: #1967D2;\n",
              "      height: 32px;\n",
              "      padding: 0 0 0 0;\n",
              "      width: 32px;\n",
              "    }\n",
              "\n",
              "    .colab-df-convert:hover {\n",
              "      background-color: #E2EBFA;\n",
              "      box-shadow: 0px 1px 2px rgba(60, 64, 67, 0.3), 0px 1px 3px 1px rgba(60, 64, 67, 0.15);\n",
              "      fill: #174EA6;\n",
              "    }\n",
              "\n",
              "    [theme=dark] .colab-df-convert {\n",
              "      background-color: #3B4455;\n",
              "      fill: #D2E3FC;\n",
              "    }\n",
              "\n",
              "    [theme=dark] .colab-df-convert:hover {\n",
              "      background-color: #434B5C;\n",
              "      box-shadow: 0px 1px 3px 1px rgba(0, 0, 0, 0.15);\n",
              "      filter: drop-shadow(0px 1px 2px rgba(0, 0, 0, 0.3));\n",
              "      fill: #FFFFFF;\n",
              "    }\n",
              "  </style>\n",
              "\n",
              "      <script>\n",
              "        const buttonEl =\n",
              "          document.querySelector('#df-41688169-bf7a-42df-8b5a-e433ef7ad41d button.colab-df-convert');\n",
              "        buttonEl.style.display =\n",
              "          google.colab.kernel.accessAllowed ? 'block' : 'none';\n",
              "\n",
              "        async function convertToInteractive(key) {\n",
              "          const element = document.querySelector('#df-41688169-bf7a-42df-8b5a-e433ef7ad41d');\n",
              "          const dataTable =\n",
              "            await google.colab.kernel.invokeFunction('convertToInteractive',\n",
              "                                                     [key], {});\n",
              "          if (!dataTable) return;\n",
              "\n",
              "          const docLinkHtml = 'Like what you see? Visit the ' +\n",
              "            '<a target=\"_blank\" href=https://colab.research.google.com/notebooks/data_table.ipynb>data table notebook</a>'\n",
              "            + ' to learn more about interactive tables.';\n",
              "          element.innerHTML = '';\n",
              "          dataTable['output_type'] = 'display_data';\n",
              "          await google.colab.output.renderOutput(dataTable, element);\n",
              "          const docLink = document.createElement('div');\n",
              "          docLink.innerHTML = docLinkHtml;\n",
              "          element.appendChild(docLink);\n",
              "        }\n",
              "      </script>\n",
              "    </div>\n",
              "  </div>\n",
              "  "
            ],
            "text/plain": [
              "age         0s_%confirmed  10s_%confirmed  ...  70s_%confirmed  80s_%confirmed\n",
              "date                                       ...                                \n",
              "2020-03-02       0.759734        4.012346  ...        4.558405        1.923077\n",
              "2020-03-03       0.706567        4.239401  ...        4.655029        1.932668\n",
              "2020-03-04       0.638138        4.373123  ...        4.879880        2.027027\n",
              "2020-03-05       0.659036        4.457163  ...        4.994797        2.150538\n",
              "2020-03-06       0.716104        4.646722  ...        5.410567        2.673456\n",
              "\n",
              "[5 rows x 9 columns]"
            ]
          },
          "metadata": {},
          "execution_count": 32
        }
      ]
    },
    {
      "cell_type": "markdown",
      "source": [
        "Meme procedure avec une df pour les deces "
      ],
      "metadata": {
        "id": "BDSviRXvXjKR"
      }
    },
    {
      "cell_type": "code",
      "source": [
        "timeAge_dec = timeAge.pivot_table(index=\"date\", columns=\"age\", values= \"pct_deceased\")\n",
        "timeAge_dec.reset_index\n",
        "timeAge_dec.head()\n"
      ],
      "metadata": {
        "colab": {
          "base_uri": "https://localhost:8080/",
          "height": 238
        },
        "id": "CjX19XAfEQca",
        "outputId": "2dd4505a-3801-47b9-cedd-5f7dfbf6b853"
      },
      "execution_count": null,
      "outputs": [
        {
          "output_type": "execute_result",
          "data": {
            "text/html": [
              "\n",
              "  <div id=\"df-89330020-049e-4066-a83d-738118461012\">\n",
              "    <div class=\"colab-df-container\">\n",
              "      <div>\n",
              "<style scoped>\n",
              "    .dataframe tbody tr th:only-of-type {\n",
              "        vertical-align: middle;\n",
              "    }\n",
              "\n",
              "    .dataframe tbody tr th {\n",
              "        vertical-align: top;\n",
              "    }\n",
              "\n",
              "    .dataframe thead th {\n",
              "        text-align: right;\n",
              "    }\n",
              "</style>\n",
              "<table border=\"1\" class=\"dataframe\">\n",
              "  <thead>\n",
              "    <tr style=\"text-align: right;\">\n",
              "      <th>age</th>\n",
              "      <th>0s</th>\n",
              "      <th>10s</th>\n",
              "      <th>20s</th>\n",
              "      <th>30s</th>\n",
              "      <th>40s</th>\n",
              "      <th>50s</th>\n",
              "      <th>60s</th>\n",
              "      <th>70s</th>\n",
              "      <th>80s</th>\n",
              "    </tr>\n",
              "    <tr>\n",
              "      <th>date</th>\n",
              "      <th></th>\n",
              "      <th></th>\n",
              "      <th></th>\n",
              "      <th></th>\n",
              "      <th></th>\n",
              "      <th></th>\n",
              "      <th></th>\n",
              "      <th></th>\n",
              "      <th></th>\n",
              "    </tr>\n",
              "  </thead>\n",
              "  <tbody>\n",
              "    <tr>\n",
              "      <th>2020-03-02</th>\n",
              "      <td>0.0</td>\n",
              "      <td>0.0</td>\n",
              "      <td>0.0</td>\n",
              "      <td>4.545455</td>\n",
              "      <td>4.545455</td>\n",
              "      <td>22.727273</td>\n",
              "      <td>27.272727</td>\n",
              "      <td>27.272727</td>\n",
              "      <td>13.636364</td>\n",
              "    </tr>\n",
              "    <tr>\n",
              "      <th>2020-03-03</th>\n",
              "      <td>0.0</td>\n",
              "      <td>0.0</td>\n",
              "      <td>0.0</td>\n",
              "      <td>3.571429</td>\n",
              "      <td>3.571429</td>\n",
              "      <td>17.857143</td>\n",
              "      <td>25.000000</td>\n",
              "      <td>32.142857</td>\n",
              "      <td>17.857143</td>\n",
              "    </tr>\n",
              "    <tr>\n",
              "      <th>2020-03-04</th>\n",
              "      <td>0.0</td>\n",
              "      <td>0.0</td>\n",
              "      <td>0.0</td>\n",
              "      <td>3.125000</td>\n",
              "      <td>3.125000</td>\n",
              "      <td>15.625000</td>\n",
              "      <td>21.875000</td>\n",
              "      <td>37.500000</td>\n",
              "      <td>18.750000</td>\n",
              "    </tr>\n",
              "    <tr>\n",
              "      <th>2020-03-05</th>\n",
              "      <td>0.0</td>\n",
              "      <td>0.0</td>\n",
              "      <td>0.0</td>\n",
              "      <td>2.857143</td>\n",
              "      <td>2.857143</td>\n",
              "      <td>14.285714</td>\n",
              "      <td>22.857143</td>\n",
              "      <td>37.142857</td>\n",
              "      <td>20.000000</td>\n",
              "    </tr>\n",
              "    <tr>\n",
              "      <th>2020-03-06</th>\n",
              "      <td>0.0</td>\n",
              "      <td>0.0</td>\n",
              "      <td>0.0</td>\n",
              "      <td>2.380952</td>\n",
              "      <td>2.380952</td>\n",
              "      <td>11.904762</td>\n",
              "      <td>26.190476</td>\n",
              "      <td>33.333333</td>\n",
              "      <td>23.809524</td>\n",
              "    </tr>\n",
              "  </tbody>\n",
              "</table>\n",
              "</div>\n",
              "      <button class=\"colab-df-convert\" onclick=\"convertToInteractive('df-89330020-049e-4066-a83d-738118461012')\"\n",
              "              title=\"Convert this dataframe to an interactive table.\"\n",
              "              style=\"display:none;\">\n",
              "        \n",
              "  <svg xmlns=\"http://www.w3.org/2000/svg\" height=\"24px\"viewBox=\"0 0 24 24\"\n",
              "       width=\"24px\">\n",
              "    <path d=\"M0 0h24v24H0V0z\" fill=\"none\"/>\n",
              "    <path d=\"M18.56 5.44l.94 2.06.94-2.06 2.06-.94-2.06-.94-.94-2.06-.94 2.06-2.06.94zm-11 1L8.5 8.5l.94-2.06 2.06-.94-2.06-.94L8.5 2.5l-.94 2.06-2.06.94zm10 10l.94 2.06.94-2.06 2.06-.94-2.06-.94-.94-2.06-.94 2.06-2.06.94z\"/><path d=\"M17.41 7.96l-1.37-1.37c-.4-.4-.92-.59-1.43-.59-.52 0-1.04.2-1.43.59L10.3 9.45l-7.72 7.72c-.78.78-.78 2.05 0 2.83L4 21.41c.39.39.9.59 1.41.59.51 0 1.02-.2 1.41-.59l7.78-7.78 2.81-2.81c.8-.78.8-2.07 0-2.86zM5.41 20L4 18.59l7.72-7.72 1.47 1.35L5.41 20z\"/>\n",
              "  </svg>\n",
              "      </button>\n",
              "      \n",
              "  <style>\n",
              "    .colab-df-container {\n",
              "      display:flex;\n",
              "      flex-wrap:wrap;\n",
              "      gap: 12px;\n",
              "    }\n",
              "\n",
              "    .colab-df-convert {\n",
              "      background-color: #E8F0FE;\n",
              "      border: none;\n",
              "      border-radius: 50%;\n",
              "      cursor: pointer;\n",
              "      display: none;\n",
              "      fill: #1967D2;\n",
              "      height: 32px;\n",
              "      padding: 0 0 0 0;\n",
              "      width: 32px;\n",
              "    }\n",
              "\n",
              "    .colab-df-convert:hover {\n",
              "      background-color: #E2EBFA;\n",
              "      box-shadow: 0px 1px 2px rgba(60, 64, 67, 0.3), 0px 1px 3px 1px rgba(60, 64, 67, 0.15);\n",
              "      fill: #174EA6;\n",
              "    }\n",
              "\n",
              "    [theme=dark] .colab-df-convert {\n",
              "      background-color: #3B4455;\n",
              "      fill: #D2E3FC;\n",
              "    }\n",
              "\n",
              "    [theme=dark] .colab-df-convert:hover {\n",
              "      background-color: #434B5C;\n",
              "      box-shadow: 0px 1px 3px 1px rgba(0, 0, 0, 0.15);\n",
              "      filter: drop-shadow(0px 1px 2px rgba(0, 0, 0, 0.3));\n",
              "      fill: #FFFFFF;\n",
              "    }\n",
              "  </style>\n",
              "\n",
              "      <script>\n",
              "        const buttonEl =\n",
              "          document.querySelector('#df-89330020-049e-4066-a83d-738118461012 button.colab-df-convert');\n",
              "        buttonEl.style.display =\n",
              "          google.colab.kernel.accessAllowed ? 'block' : 'none';\n",
              "\n",
              "        async function convertToInteractive(key) {\n",
              "          const element = document.querySelector('#df-89330020-049e-4066-a83d-738118461012');\n",
              "          const dataTable =\n",
              "            await google.colab.kernel.invokeFunction('convertToInteractive',\n",
              "                                                     [key], {});\n",
              "          if (!dataTable) return;\n",
              "\n",
              "          const docLinkHtml = 'Like what you see? Visit the ' +\n",
              "            '<a target=\"_blank\" href=https://colab.research.google.com/notebooks/data_table.ipynb>data table notebook</a>'\n",
              "            + ' to learn more about interactive tables.';\n",
              "          element.innerHTML = '';\n",
              "          dataTable['output_type'] = 'display_data';\n",
              "          await google.colab.output.renderOutput(dataTable, element);\n",
              "          const docLink = document.createElement('div');\n",
              "          docLink.innerHTML = docLinkHtml;\n",
              "          element.appendChild(docLink);\n",
              "        }\n",
              "      </script>\n",
              "    </div>\n",
              "  </div>\n",
              "  "
            ],
            "text/plain": [
              "age          0s  10s  20s       30s  ...        50s        60s        70s        80s\n",
              "date                                 ...                                            \n",
              "2020-03-02  0.0  0.0  0.0  4.545455  ...  22.727273  27.272727  27.272727  13.636364\n",
              "2020-03-03  0.0  0.0  0.0  3.571429  ...  17.857143  25.000000  32.142857  17.857143\n",
              "2020-03-04  0.0  0.0  0.0  3.125000  ...  15.625000  21.875000  37.500000  18.750000\n",
              "2020-03-05  0.0  0.0  0.0  2.857143  ...  14.285714  22.857143  37.142857  20.000000\n",
              "2020-03-06  0.0  0.0  0.0  2.380952  ...  11.904762  26.190476  33.333333  23.809524\n",
              "\n",
              "[5 rows x 9 columns]"
            ]
          },
          "metadata": {},
          "execution_count": 33
        }
      ]
    },
    {
      "cell_type": "code",
      "source": [
        "timeAge_dec.columns"
      ],
      "metadata": {
        "colab": {
          "base_uri": "https://localhost:8080/"
        },
        "id": "N8H0OgifNfxO",
        "outputId": "5301aa18-cf33-4367-a87d-b7f3f4c619c8"
      },
      "execution_count": null,
      "outputs": [
        {
          "output_type": "execute_result",
          "data": {
            "text/plain": [
              "Index(['0s', '10s', '20s', '30s', '40s', '50s', '60s', '70s', '80s'], dtype='object', name='age')"
            ]
          },
          "metadata": {},
          "execution_count": 34
        }
      ]
    },
    {
      "cell_type": "code",
      "source": [
        "timeAge_dec.shape"
      ],
      "metadata": {
        "colab": {
          "base_uri": "https://localhost:8080/"
        },
        "id": "YftOe39yMjze",
        "outputId": "982c8d62-e39d-4353-cdf8-4c5b8088a86e"
      },
      "execution_count": null,
      "outputs": [
        {
          "output_type": "execute_result",
          "data": {
            "text/plain": [
              "(121, 9)"
            ]
          },
          "metadata": {},
          "execution_count": 35
        }
      ]
    },
    {
      "cell_type": "code",
      "source": [
        "#renomer colonnes \n",
        "timeAge_dec.rename(columns = {'0s':\"0s_%deceased\", '10s': '10s_%deceased', '20s': \"20s_%deceased\", '30s': \"30s_deceased\", '40s':'40s_%deceased', '50s': \"50s_%deceased\", \n",
        "                          '60s': \"60s_%deceased\", '70s': '70s_%deceased', '80s': '80s_%deceased'}, inplace = True)"
      ],
      "metadata": {
        "id": "4R8HEbJ5uS_S"
      },
      "execution_count": null,
      "outputs": []
    },
    {
      "cell_type": "markdown",
      "source": [
        "timeAge.head()"
      ],
      "metadata": {
        "id": "8FpezdvvMzgu"
      }
    },
    {
      "cell_type": "code",
      "source": [
        "timeAge_dec.head()"
      ],
      "metadata": {
        "colab": {
          "base_uri": "https://localhost:8080/",
          "height": 238
        },
        "id": "pprL-TnETEaC",
        "outputId": "b33f893e-b0a3-4ade-c31c-26196d3a2ef5"
      },
      "execution_count": null,
      "outputs": [
        {
          "output_type": "execute_result",
          "data": {
            "text/html": [
              "\n",
              "  <div id=\"df-c9274ca1-f7ec-49e2-9f2a-f14decbf9b4c\">\n",
              "    <div class=\"colab-df-container\">\n",
              "      <div>\n",
              "<style scoped>\n",
              "    .dataframe tbody tr th:only-of-type {\n",
              "        vertical-align: middle;\n",
              "    }\n",
              "\n",
              "    .dataframe tbody tr th {\n",
              "        vertical-align: top;\n",
              "    }\n",
              "\n",
              "    .dataframe thead th {\n",
              "        text-align: right;\n",
              "    }\n",
              "</style>\n",
              "<table border=\"1\" class=\"dataframe\">\n",
              "  <thead>\n",
              "    <tr style=\"text-align: right;\">\n",
              "      <th>age</th>\n",
              "      <th>0s_%deceased</th>\n",
              "      <th>10s_%deceased</th>\n",
              "      <th>20s_%deceased</th>\n",
              "      <th>30s_deceased</th>\n",
              "      <th>40s_%deceased</th>\n",
              "      <th>50s_%deceased</th>\n",
              "      <th>60s_%deceased</th>\n",
              "      <th>70s_%deceased</th>\n",
              "      <th>80s_%deceased</th>\n",
              "    </tr>\n",
              "    <tr>\n",
              "      <th>date</th>\n",
              "      <th></th>\n",
              "      <th></th>\n",
              "      <th></th>\n",
              "      <th></th>\n",
              "      <th></th>\n",
              "      <th></th>\n",
              "      <th></th>\n",
              "      <th></th>\n",
              "      <th></th>\n",
              "    </tr>\n",
              "  </thead>\n",
              "  <tbody>\n",
              "    <tr>\n",
              "      <th>2020-03-02</th>\n",
              "      <td>0.0</td>\n",
              "      <td>0.0</td>\n",
              "      <td>0.0</td>\n",
              "      <td>4.545455</td>\n",
              "      <td>4.545455</td>\n",
              "      <td>22.727273</td>\n",
              "      <td>27.272727</td>\n",
              "      <td>27.272727</td>\n",
              "      <td>13.636364</td>\n",
              "    </tr>\n",
              "    <tr>\n",
              "      <th>2020-03-03</th>\n",
              "      <td>0.0</td>\n",
              "      <td>0.0</td>\n",
              "      <td>0.0</td>\n",
              "      <td>3.571429</td>\n",
              "      <td>3.571429</td>\n",
              "      <td>17.857143</td>\n",
              "      <td>25.000000</td>\n",
              "      <td>32.142857</td>\n",
              "      <td>17.857143</td>\n",
              "    </tr>\n",
              "    <tr>\n",
              "      <th>2020-03-04</th>\n",
              "      <td>0.0</td>\n",
              "      <td>0.0</td>\n",
              "      <td>0.0</td>\n",
              "      <td>3.125000</td>\n",
              "      <td>3.125000</td>\n",
              "      <td>15.625000</td>\n",
              "      <td>21.875000</td>\n",
              "      <td>37.500000</td>\n",
              "      <td>18.750000</td>\n",
              "    </tr>\n",
              "    <tr>\n",
              "      <th>2020-03-05</th>\n",
              "      <td>0.0</td>\n",
              "      <td>0.0</td>\n",
              "      <td>0.0</td>\n",
              "      <td>2.857143</td>\n",
              "      <td>2.857143</td>\n",
              "      <td>14.285714</td>\n",
              "      <td>22.857143</td>\n",
              "      <td>37.142857</td>\n",
              "      <td>20.000000</td>\n",
              "    </tr>\n",
              "    <tr>\n",
              "      <th>2020-03-06</th>\n",
              "      <td>0.0</td>\n",
              "      <td>0.0</td>\n",
              "      <td>0.0</td>\n",
              "      <td>2.380952</td>\n",
              "      <td>2.380952</td>\n",
              "      <td>11.904762</td>\n",
              "      <td>26.190476</td>\n",
              "      <td>33.333333</td>\n",
              "      <td>23.809524</td>\n",
              "    </tr>\n",
              "  </tbody>\n",
              "</table>\n",
              "</div>\n",
              "      <button class=\"colab-df-convert\" onclick=\"convertToInteractive('df-c9274ca1-f7ec-49e2-9f2a-f14decbf9b4c')\"\n",
              "              title=\"Convert this dataframe to an interactive table.\"\n",
              "              style=\"display:none;\">\n",
              "        \n",
              "  <svg xmlns=\"http://www.w3.org/2000/svg\" height=\"24px\"viewBox=\"0 0 24 24\"\n",
              "       width=\"24px\">\n",
              "    <path d=\"M0 0h24v24H0V0z\" fill=\"none\"/>\n",
              "    <path d=\"M18.56 5.44l.94 2.06.94-2.06 2.06-.94-2.06-.94-.94-2.06-.94 2.06-2.06.94zm-11 1L8.5 8.5l.94-2.06 2.06-.94-2.06-.94L8.5 2.5l-.94 2.06-2.06.94zm10 10l.94 2.06.94-2.06 2.06-.94-2.06-.94-.94-2.06-.94 2.06-2.06.94z\"/><path d=\"M17.41 7.96l-1.37-1.37c-.4-.4-.92-.59-1.43-.59-.52 0-1.04.2-1.43.59L10.3 9.45l-7.72 7.72c-.78.78-.78 2.05 0 2.83L4 21.41c.39.39.9.59 1.41.59.51 0 1.02-.2 1.41-.59l7.78-7.78 2.81-2.81c.8-.78.8-2.07 0-2.86zM5.41 20L4 18.59l7.72-7.72 1.47 1.35L5.41 20z\"/>\n",
              "  </svg>\n",
              "      </button>\n",
              "      \n",
              "  <style>\n",
              "    .colab-df-container {\n",
              "      display:flex;\n",
              "      flex-wrap:wrap;\n",
              "      gap: 12px;\n",
              "    }\n",
              "\n",
              "    .colab-df-convert {\n",
              "      background-color: #E8F0FE;\n",
              "      border: none;\n",
              "      border-radius: 50%;\n",
              "      cursor: pointer;\n",
              "      display: none;\n",
              "      fill: #1967D2;\n",
              "      height: 32px;\n",
              "      padding: 0 0 0 0;\n",
              "      width: 32px;\n",
              "    }\n",
              "\n",
              "    .colab-df-convert:hover {\n",
              "      background-color: #E2EBFA;\n",
              "      box-shadow: 0px 1px 2px rgba(60, 64, 67, 0.3), 0px 1px 3px 1px rgba(60, 64, 67, 0.15);\n",
              "      fill: #174EA6;\n",
              "    }\n",
              "\n",
              "    [theme=dark] .colab-df-convert {\n",
              "      background-color: #3B4455;\n",
              "      fill: #D2E3FC;\n",
              "    }\n",
              "\n",
              "    [theme=dark] .colab-df-convert:hover {\n",
              "      background-color: #434B5C;\n",
              "      box-shadow: 0px 1px 3px 1px rgba(0, 0, 0, 0.15);\n",
              "      filter: drop-shadow(0px 1px 2px rgba(0, 0, 0, 0.3));\n",
              "      fill: #FFFFFF;\n",
              "    }\n",
              "  </style>\n",
              "\n",
              "      <script>\n",
              "        const buttonEl =\n",
              "          document.querySelector('#df-c9274ca1-f7ec-49e2-9f2a-f14decbf9b4c button.colab-df-convert');\n",
              "        buttonEl.style.display =\n",
              "          google.colab.kernel.accessAllowed ? 'block' : 'none';\n",
              "\n",
              "        async function convertToInteractive(key) {\n",
              "          const element = document.querySelector('#df-c9274ca1-f7ec-49e2-9f2a-f14decbf9b4c');\n",
              "          const dataTable =\n",
              "            await google.colab.kernel.invokeFunction('convertToInteractive',\n",
              "                                                     [key], {});\n",
              "          if (!dataTable) return;\n",
              "\n",
              "          const docLinkHtml = 'Like what you see? Visit the ' +\n",
              "            '<a target=\"_blank\" href=https://colab.research.google.com/notebooks/data_table.ipynb>data table notebook</a>'\n",
              "            + ' to learn more about interactive tables.';\n",
              "          element.innerHTML = '';\n",
              "          dataTable['output_type'] = 'display_data';\n",
              "          await google.colab.output.renderOutput(dataTable, element);\n",
              "          const docLink = document.createElement('div');\n",
              "          docLink.innerHTML = docLinkHtml;\n",
              "          element.appendChild(docLink);\n",
              "        }\n",
              "      </script>\n",
              "    </div>\n",
              "  </div>\n",
              "  "
            ],
            "text/plain": [
              "age         0s_%deceased  10s_%deceased  ...  70s_%deceased  80s_%deceased\n",
              "date                                     ...                              \n",
              "2020-03-02           0.0            0.0  ...      27.272727      13.636364\n",
              "2020-03-03           0.0            0.0  ...      32.142857      17.857143\n",
              "2020-03-04           0.0            0.0  ...      37.500000      18.750000\n",
              "2020-03-05           0.0            0.0  ...      37.142857      20.000000\n",
              "2020-03-06           0.0            0.0  ...      33.333333      23.809524\n",
              "\n",
              "[5 rows x 9 columns]"
            ]
          },
          "metadata": {},
          "execution_count": 37
        }
      ]
    },
    {
      "cell_type": "code",
      "source": [
        "timeAge_etl = pd.merge(timeAge_conf, timeAge_dec, on = 'date')"
      ],
      "metadata": {
        "id": "khejtElQwR_i"
      },
      "execution_count": null,
      "outputs": []
    },
    {
      "cell_type": "code",
      "source": [
        "#Jointure\n",
        "\n",
        "data = pd.merge(time, timeAge_etl,on =\"date\")\n"
      ],
      "metadata": {
        "id": "VEkbdQEwSh_e"
      },
      "execution_count": null,
      "outputs": []
    },
    {
      "cell_type": "code",
      "source": [
        "data.head()"
      ],
      "metadata": {
        "colab": {
          "base_uri": "https://localhost:8080/",
          "height": 357
        },
        "id": "xK6Dr_WPfZ0Q",
        "outputId": "86eb0e33-736f-4727-f3b9-8f48a05bb7a5"
      },
      "execution_count": null,
      "outputs": [
        {
          "output_type": "execute_result",
          "data": {
            "text/html": [
              "\n",
              "  <div id=\"df-f2ebd174-22fd-4564-953f-f23b2f22b91e\">\n",
              "    <div class=\"colab-df-container\">\n",
              "      <div>\n",
              "<style scoped>\n",
              "    .dataframe tbody tr th:only-of-type {\n",
              "        vertical-align: middle;\n",
              "    }\n",
              "\n",
              "    .dataframe tbody tr th {\n",
              "        vertical-align: top;\n",
              "    }\n",
              "\n",
              "    .dataframe thead th {\n",
              "        text-align: right;\n",
              "    }\n",
              "</style>\n",
              "<table border=\"1\" class=\"dataframe\">\n",
              "  <thead>\n",
              "    <tr style=\"text-align: right;\">\n",
              "      <th></th>\n",
              "      <th>date</th>\n",
              "      <th>time</th>\n",
              "      <th>test</th>\n",
              "      <th>negative</th>\n",
              "      <th>confirmed</th>\n",
              "      <th>released</th>\n",
              "      <th>deceased</th>\n",
              "      <th>0s_%confirmed</th>\n",
              "      <th>10s_%confirmed</th>\n",
              "      <th>20s_%confirmed</th>\n",
              "      <th>30s_%confirmed</th>\n",
              "      <th>40s_%confirmed</th>\n",
              "      <th>50s_%confirmed</th>\n",
              "      <th>60s_%confirmed</th>\n",
              "      <th>70s_%confirmed</th>\n",
              "      <th>80s_%confirmed</th>\n",
              "      <th>0s_%deceased</th>\n",
              "      <th>10s_%deceased</th>\n",
              "      <th>20s_%deceased</th>\n",
              "      <th>30s_deceased</th>\n",
              "      <th>40s_%deceased</th>\n",
              "      <th>50s_%deceased</th>\n",
              "      <th>60s_%deceased</th>\n",
              "      <th>70s_%deceased</th>\n",
              "      <th>80s_%deceased</th>\n",
              "    </tr>\n",
              "  </thead>\n",
              "  <tbody>\n",
              "    <tr>\n",
              "      <th>0</th>\n",
              "      <td>2020-03-02</td>\n",
              "      <td>0</td>\n",
              "      <td>109591</td>\n",
              "      <td>71580</td>\n",
              "      <td>4212</td>\n",
              "      <td>31</td>\n",
              "      <td>22</td>\n",
              "      <td>0.759734</td>\n",
              "      <td>4.012346</td>\n",
              "      <td>29.320988</td>\n",
              "      <td>12.013295</td>\n",
              "      <td>15.028490</td>\n",
              "      <td>19.800570</td>\n",
              "      <td>12.583096</td>\n",
              "      <td>4.558405</td>\n",
              "      <td>1.923077</td>\n",
              "      <td>0.0</td>\n",
              "      <td>0.0</td>\n",
              "      <td>0.0</td>\n",
              "      <td>4.545455</td>\n",
              "      <td>4.545455</td>\n",
              "      <td>22.727273</td>\n",
              "      <td>27.272727</td>\n",
              "      <td>27.272727</td>\n",
              "      <td>13.636364</td>\n",
              "    </tr>\n",
              "    <tr>\n",
              "      <th>1</th>\n",
              "      <td>2020-03-03</td>\n",
              "      <td>0</td>\n",
              "      <td>125851</td>\n",
              "      <td>85484</td>\n",
              "      <td>4812</td>\n",
              "      <td>34</td>\n",
              "      <td>28</td>\n",
              "      <td>0.706567</td>\n",
              "      <td>4.239401</td>\n",
              "      <td>29.447215</td>\n",
              "      <td>12.011638</td>\n",
              "      <td>14.817124</td>\n",
              "      <td>19.783874</td>\n",
              "      <td>12.406484</td>\n",
              "      <td>4.655029</td>\n",
              "      <td>1.932668</td>\n",
              "      <td>0.0</td>\n",
              "      <td>0.0</td>\n",
              "      <td>0.0</td>\n",
              "      <td>3.571429</td>\n",
              "      <td>3.571429</td>\n",
              "      <td>17.857143</td>\n",
              "      <td>25.000000</td>\n",
              "      <td>32.142857</td>\n",
              "      <td>17.857143</td>\n",
              "    </tr>\n",
              "    <tr>\n",
              "      <th>2</th>\n",
              "      <td>2020-03-04</td>\n",
              "      <td>0</td>\n",
              "      <td>136707</td>\n",
              "      <td>102965</td>\n",
              "      <td>5328</td>\n",
              "      <td>41</td>\n",
              "      <td>32</td>\n",
              "      <td>0.638138</td>\n",
              "      <td>4.373123</td>\n",
              "      <td>29.560811</td>\n",
              "      <td>11.843093</td>\n",
              "      <td>14.827327</td>\n",
              "      <td>19.725976</td>\n",
              "      <td>12.124625</td>\n",
              "      <td>4.879880</td>\n",
              "      <td>2.027027</td>\n",
              "      <td>0.0</td>\n",
              "      <td>0.0</td>\n",
              "      <td>0.0</td>\n",
              "      <td>3.125000</td>\n",
              "      <td>3.125000</td>\n",
              "      <td>15.625000</td>\n",
              "      <td>21.875000</td>\n",
              "      <td>37.500000</td>\n",
              "      <td>18.750000</td>\n",
              "    </tr>\n",
              "    <tr>\n",
              "      <th>3</th>\n",
              "      <td>2020-03-05</td>\n",
              "      <td>0</td>\n",
              "      <td>146541</td>\n",
              "      <td>118965</td>\n",
              "      <td>5766</td>\n",
              "      <td>88</td>\n",
              "      <td>35</td>\n",
              "      <td>0.659036</td>\n",
              "      <td>4.457163</td>\n",
              "      <td>29.951439</td>\n",
              "      <td>11.429067</td>\n",
              "      <td>14.689559</td>\n",
              "      <td>19.545612</td>\n",
              "      <td>12.122789</td>\n",
              "      <td>4.994797</td>\n",
              "      <td>2.150538</td>\n",
              "      <td>0.0</td>\n",
              "      <td>0.0</td>\n",
              "      <td>0.0</td>\n",
              "      <td>2.857143</td>\n",
              "      <td>2.857143</td>\n",
              "      <td>14.285714</td>\n",
              "      <td>22.857143</td>\n",
              "      <td>37.142857</td>\n",
              "      <td>20.000000</td>\n",
              "    </tr>\n",
              "    <tr>\n",
              "      <th>4</th>\n",
              "      <td>2020-03-06</td>\n",
              "      <td>0</td>\n",
              "      <td>164740</td>\n",
              "      <td>136624</td>\n",
              "      <td>6284</td>\n",
              "      <td>108</td>\n",
              "      <td>42</td>\n",
              "      <td>0.716104</td>\n",
              "      <td>4.646722</td>\n",
              "      <td>29.869510</td>\n",
              "      <td>11.028008</td>\n",
              "      <td>14.147040</td>\n",
              "      <td>19.366645</td>\n",
              "      <td>12.141948</td>\n",
              "      <td>5.410567</td>\n",
              "      <td>2.673456</td>\n",
              "      <td>0.0</td>\n",
              "      <td>0.0</td>\n",
              "      <td>0.0</td>\n",
              "      <td>2.380952</td>\n",
              "      <td>2.380952</td>\n",
              "      <td>11.904762</td>\n",
              "      <td>26.190476</td>\n",
              "      <td>33.333333</td>\n",
              "      <td>23.809524</td>\n",
              "    </tr>\n",
              "  </tbody>\n",
              "</table>\n",
              "</div>\n",
              "      <button class=\"colab-df-convert\" onclick=\"convertToInteractive('df-f2ebd174-22fd-4564-953f-f23b2f22b91e')\"\n",
              "              title=\"Convert this dataframe to an interactive table.\"\n",
              "              style=\"display:none;\">\n",
              "        \n",
              "  <svg xmlns=\"http://www.w3.org/2000/svg\" height=\"24px\"viewBox=\"0 0 24 24\"\n",
              "       width=\"24px\">\n",
              "    <path d=\"M0 0h24v24H0V0z\" fill=\"none\"/>\n",
              "    <path d=\"M18.56 5.44l.94 2.06.94-2.06 2.06-.94-2.06-.94-.94-2.06-.94 2.06-2.06.94zm-11 1L8.5 8.5l.94-2.06 2.06-.94-2.06-.94L8.5 2.5l-.94 2.06-2.06.94zm10 10l.94 2.06.94-2.06 2.06-.94-2.06-.94-.94-2.06-.94 2.06-2.06.94z\"/><path d=\"M17.41 7.96l-1.37-1.37c-.4-.4-.92-.59-1.43-.59-.52 0-1.04.2-1.43.59L10.3 9.45l-7.72 7.72c-.78.78-.78 2.05 0 2.83L4 21.41c.39.39.9.59 1.41.59.51 0 1.02-.2 1.41-.59l7.78-7.78 2.81-2.81c.8-.78.8-2.07 0-2.86zM5.41 20L4 18.59l7.72-7.72 1.47 1.35L5.41 20z\"/>\n",
              "  </svg>\n",
              "      </button>\n",
              "      \n",
              "  <style>\n",
              "    .colab-df-container {\n",
              "      display:flex;\n",
              "      flex-wrap:wrap;\n",
              "      gap: 12px;\n",
              "    }\n",
              "\n",
              "    .colab-df-convert {\n",
              "      background-color: #E8F0FE;\n",
              "      border: none;\n",
              "      border-radius: 50%;\n",
              "      cursor: pointer;\n",
              "      display: none;\n",
              "      fill: #1967D2;\n",
              "      height: 32px;\n",
              "      padding: 0 0 0 0;\n",
              "      width: 32px;\n",
              "    }\n",
              "\n",
              "    .colab-df-convert:hover {\n",
              "      background-color: #E2EBFA;\n",
              "      box-shadow: 0px 1px 2px rgba(60, 64, 67, 0.3), 0px 1px 3px 1px rgba(60, 64, 67, 0.15);\n",
              "      fill: #174EA6;\n",
              "    }\n",
              "\n",
              "    [theme=dark] .colab-df-convert {\n",
              "      background-color: #3B4455;\n",
              "      fill: #D2E3FC;\n",
              "    }\n",
              "\n",
              "    [theme=dark] .colab-df-convert:hover {\n",
              "      background-color: #434B5C;\n",
              "      box-shadow: 0px 1px 3px 1px rgba(0, 0, 0, 0.15);\n",
              "      filter: drop-shadow(0px 1px 2px rgba(0, 0, 0, 0.3));\n",
              "      fill: #FFFFFF;\n",
              "    }\n",
              "  </style>\n",
              "\n",
              "      <script>\n",
              "        const buttonEl =\n",
              "          document.querySelector('#df-f2ebd174-22fd-4564-953f-f23b2f22b91e button.colab-df-convert');\n",
              "        buttonEl.style.display =\n",
              "          google.colab.kernel.accessAllowed ? 'block' : 'none';\n",
              "\n",
              "        async function convertToInteractive(key) {\n",
              "          const element = document.querySelector('#df-f2ebd174-22fd-4564-953f-f23b2f22b91e');\n",
              "          const dataTable =\n",
              "            await google.colab.kernel.invokeFunction('convertToInteractive',\n",
              "                                                     [key], {});\n",
              "          if (!dataTable) return;\n",
              "\n",
              "          const docLinkHtml = 'Like what you see? Visit the ' +\n",
              "            '<a target=\"_blank\" href=https://colab.research.google.com/notebooks/data_table.ipynb>data table notebook</a>'\n",
              "            + ' to learn more about interactive tables.';\n",
              "          element.innerHTML = '';\n",
              "          dataTable['output_type'] = 'display_data';\n",
              "          await google.colab.output.renderOutput(dataTable, element);\n",
              "          const docLink = document.createElement('div');\n",
              "          docLink.innerHTML = docLinkHtml;\n",
              "          element.appendChild(docLink);\n",
              "        }\n",
              "      </script>\n",
              "    </div>\n",
              "  </div>\n",
              "  "
            ],
            "text/plain": [
              "         date  time    test  ...  60s_%deceased  70s_%deceased  80s_%deceased\n",
              "0  2020-03-02     0  109591  ...      27.272727      27.272727      13.636364\n",
              "1  2020-03-03     0  125851  ...      25.000000      32.142857      17.857143\n",
              "2  2020-03-04     0  136707  ...      21.875000      37.500000      18.750000\n",
              "3  2020-03-05     0  146541  ...      22.857143      37.142857      20.000000\n",
              "4  2020-03-06     0  164740  ...      26.190476      33.333333      23.809524\n",
              "\n",
              "[5 rows x 25 columns]"
            ]
          },
          "metadata": {},
          "execution_count": 40
        }
      ]
    },
    {
      "cell_type": "code",
      "source": [
        "data.shape"
      ],
      "metadata": {
        "id": "XybL2x1Eb_VN",
        "colab": {
          "base_uri": "https://localhost:8080/"
        },
        "outputId": "d89c488d-5d09-441c-eee7-0a84c7a92149"
      },
      "execution_count": null,
      "outputs": [
        {
          "output_type": "execute_result",
          "data": {
            "text/plain": [
              "(121, 25)"
            ]
          },
          "metadata": {},
          "execution_count": 41
        }
      ]
    },
    {
      "cell_type": "code",
      "source": [
        "data.columns\n"
      ],
      "metadata": {
        "colab": {
          "base_uri": "https://localhost:8080/"
        },
        "id": "mlUcqFR24IYJ",
        "outputId": "d6c407de-779b-4483-b1bd-b57bde46e6ac"
      },
      "execution_count": null,
      "outputs": [
        {
          "output_type": "execute_result",
          "data": {
            "text/plain": [
              "Index(['date', 'time', 'test', 'negative', 'confirmed', 'released', 'deceased',\n",
              "       '0s_%confirmed', '10s_%confirmed', '20s_%confirmed', '30s_%confirmed',\n",
              "       '40s_%confirmed', '50s_%confirmed', '60s_%confirmed', '70s_%confirmed',\n",
              "       '80s_%confirmed', '0s_%deceased', '10s_%deceased', '20s_%deceased',\n",
              "       '30s_deceased', '40s_%deceased', '50s_%deceased', '60s_%deceased',\n",
              "       '70s_%deceased', '80s_%deceased'],\n",
              "      dtype='object')"
            ]
          },
          "metadata": {},
          "execution_count": 42
        }
      ]
    },
    {
      "cell_type": "markdown",
      "source": [
        "#sqlite"
      ],
      "metadata": {
        "id": "BuIHUzeOzmfh"
      }
    },
    {
      "cell_type": "code",
      "source": [
        "import sqlite3\n",
        "\n",
        "conn = sqlite3.connect('covid_cases')\n",
        "cur = conn.cursor()\n",
        "\n",
        "#cur.close()\n",
        "#conn.close()"
      ],
      "metadata": {
        "id": "F0oeE4Y1zl8b"
      },
      "execution_count": null,
      "outputs": []
    },
    {
      "cell_type": "code",
      "source": [
        "cur.execute(\"\"\"CREATE TABLE IF NOT EXISTS percentages (\n",
        "       'date' TEXT, 'time' TEXT, 'test' INTEGER, 'negative' INTEGER, 'confirmed' INTEGER, 'released' INTEGER, 'deceased' INTEGER,\n",
        "       '0s_%confirmed' REAL, '10s_%confirmed' REAL, '20s_%confirmed' REAL, '30s_%confirmed' REAL,\n",
        "       '40s_%confirmed' REAL, '50s_%confirmed' REAL, '60s_%confirmed' REAL, '70s_%confirmed' REAL,\n",
        "       '80s_%confirmed' REAL, '0s_%deceased' REAL, '10s_%deceased' REAL, '20s_%deceased' REAL, '30s_deceased' REAL,\n",
        "       '40s_%deceased' REAL, '50s_%deceased' REAL, '60s_%deceased' REAL, '70s_%deceased' REAL, '80s_%deceased' REAL\n",
        "       ); \"\"\")\n",
        "\n",
        "conn.commit()"
      ],
      "metadata": {
        "id": "UqD_z6fv33zz"
      },
      "execution_count": null,
      "outputs": []
    },
    {
      "cell_type": "code",
      "source": [
        "data.to_sql('percentages', conn, if_exists='replace')"
      ],
      "metadata": {
        "id": "LUb9Y7hA3WSu"
      },
      "execution_count": null,
      "outputs": []
    },
    {
      "cell_type": "code",
      "source": [
        "conn.execute(\"SELECT * FROM percentages\").fetchall()"
      ],
      "metadata": {
        "id": "mCvCJVN9dMT7"
      },
      "execution_count": null,
      "outputs": []
    },
    {
      "cell_type": "markdown",
      "source": [
        "#Visualisation"
      ],
      "metadata": {
        "id": "Cy11-IXIxXWB"
      }
    },
    {
      "cell_type": "code",
      "source": [
        "from numpy.lib.shape_base import column_stack\n",
        "timeAge_conf.plot(title = \"Percentage cases confirmed by Age\", figsize = (15, 10));"
      ],
      "metadata": {
        "colab": {
          "base_uri": "https://localhost:8080/",
          "height": 621
        },
        "id": "E6tKfetIxa1W",
        "outputId": "97e6cf55-dbf4-4250-e453-d413e0151206"
      },
      "execution_count": null,
      "outputs": [
        {
          "output_type": "display_data",
          "data": {
            "image/png": "[encoded data removed]",
            "text/plain": [
              "<Figure size 1080x720 with 1 Axes>"
            ]
          },
          "metadata": {
            "needs_background": "light"
          }
        }
      ]
    },
    {
      "cell_type": "code",
      "source": [
        "timeAge_dec.plot(title =\"Percentage Deceases by Age\", figsize = (15, 10))"
      ],
      "metadata": {
        "colab": {
          "base_uri": "https://localhost:8080/",
          "height": 638
        },
        "id": "j0_9fF6bigp4",
        "outputId": "78fb7778-db0f-425a-e018-8cdaa3b5df1a"
      },
      "execution_count": null,
      "outputs": [
        {
          "output_type": "execute_result",
          "data": {
            "text/plain": [
              "<matplotlib.axes._subplots.AxesSubplot at 0x7f68a0bb9dd0>"
            ]
          },
          "metadata": {},
          "execution_count": 59
        },
        {
          "output_type": "display_data",
          "data": {
            "image/png": "[encoded data removed]",
            "text/plain": [
              "<Figure size 1080x720 with 1 Axes>"
            ]
          },
          "metadata": {
            "needs_background": "light"
          }
        }
      ]
    }
  ]
}