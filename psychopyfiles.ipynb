{
  "nbformat": 4,
  "nbformat_minor": 0,
  "metadata": {
    "colab": {
      "name": "psychopyfiles.ipynb",
      "provenance": [],
      "toc_visible": true,
      "include_colab_link": true
    },
    "kernelspec": {
      "name": "python3",
      "display_name": "Python 3"
    },
    "language_info": {
      "name": "python"
    }
  },
  "cells": [
    {
      "cell_type": "markdown",
      "metadata": {
        "id": "view-in-github",
        "colab_type": "text"
      },
      "source": [
        "<a href=\"https://colab.research.google.com/github/parradriana/psychopy/blob/main/psychopyfiles.ipynb\" target=\"_parent\"><img src=\"https://colab.research.google.com/assets/colab-badge.svg\" alt=\"Open In Colab\"/></a>"
      ]
    },
    {
      "cell_type": "code",
      "source": [
        "#Open folder data from google drive\n",
        "\n",
        "from google.colab import drive\n",
        "drive.mount('/content/gdrive')\n",
        "%cd /gdrive"
      ],
      "metadata": {
        "colab": {
          "base_uri": "https://localhost:8080/"
        },
        "id": "uOFp-1jYiAkO",
        "outputId": "e1de07ca-91bc-4802-f964-89fa8a4bddc0"
      },
      "execution_count": null,
      "outputs": [
        {
          "output_type": "stream",
          "name": "stdout",
          "text": [
            "Drive already mounted at /content/gdrive; to attempt to forcibly remount, call drive.mount(\"/content/gdrive\", force_remount=True).\n",
            "/gdrive\n"
          ]
        }
      ]
    },
    {
      "cell_type": "code",
      "source": [
        "%cd /content/gdrive/MyDrive/data/"
      ],
      "metadata": {
        "colab": {
          "base_uri": "https://localhost:8080/"
        },
        "id": "dZbxJhiXljXw",
        "outputId": "f7dfe5ed-2ffd-4bf9-8582-9aca51480930"
      },
      "execution_count": null,
      "outputs": [
        {
          "output_type": "stream",
          "name": "stdout",
          "text": [
            "/content/gdrive/MyDrive/data\n"
          ]
        }
      ]
    },
    {
      "cell_type": "code",
      "source": [
        "%pwd\n"
      ],
      "metadata": {
        "colab": {
          "base_uri": "https://localhost:8080/",
          "height": 36
        },
        "id": "WPsAHzKGlxi_",
        "outputId": "122c364e-63e1-4a1c-9c20-5e2063c71728"
      },
      "execution_count": 77,
      "outputs": [
        {
          "output_type": "execute_result",
          "data": {
            "text/plain": [
              "'/content/gdrive/MyDrive/data'"
            ],
            "application/vnd.google.colaboratory.intrinsic+json": {
              "type": "string"
            }
          },
          "metadata": {},
          "execution_count": 77
        }
      ]
    },
    {
      "cell_type": "code",
      "source": [
        "!ls -l "
      ],
      "metadata": {
        "colab": {
          "base_uri": "https://localhost:8080/"
        },
        "id": "xUwisIU3l1O9",
        "outputId": "6f42b9a5-e986-440f-fa9a-d08263d9a603"
      },
      "execution_count": null,
      "outputs": [
        {
          "output_type": "stream",
          "name": "stdout",
          "text": [
            "total 28923\n",
            "-rw------- 1 root root    4553 Mar 26 13:46 100_E2_1_2022-03-22_11h10.18.238.csv\n",
            "-rw------- 1 root root  221938 Mar 26 13:46 100_E2_1_2022-03-22_11h10.18.238.log.gz\n",
            "-rw------- 1 root root    4585 Mar 26 13:46 101_E2_1_2022-03-22_13h51.54.399.csv\n",
            "-rw------- 1 root root  266681 Mar 26 13:46 101_E2_1_2022-03-22_13h51.54.399.log.gz\n",
            "-rw------- 1 root root    4555 Mar 26 13:46 102_E2_1_2022-03-22_14h17.05.339.csv\n",
            "-rw------- 1 root root  233712 Mar 26 13:46 102_E2_1_2022-03-22_14h17.05.339.log.gz\n",
            "-rw------- 1 root root    4540 Mar 26 13:46 103_E2_1_2022-03-22_14h27.10.003.csv\n",
            "-rw------- 1 root root  205894 Mar 26 13:46 103_E2_1_2022-03-22_14h27.10.003.log.gz\n",
            "-rw------- 1 root root    4534 Mar 26 13:46 104_E2_1_2022-03-22_14h34.51.148.csv\n",
            "-rw------- 1 root root  142853 Mar 26 13:46 104_E2_1_2022-03-22_14h34.51.148.log.gz\n",
            "-rw------- 1 root root    4541 Mar 26 13:46 105_E2_1_2022-03-22_16h04.45.231.csv\n",
            "-rw------- 1 root root  207677 Mar 26 13:46 105_E2_1_2022-03-22_16h04.45.231.log.gz\n",
            "-rw------- 1 root root    4539 Mar 26 13:46 106_E2_1_2022-03-22_15h30.49.921.csv\n",
            "-rw------- 1 root root  190093 Mar 26 13:46 106_E2_1_2022-03-22_15h30.49.921.log.gz\n",
            "-rw------- 1 root root    4549 Mar 26 13:46 107_E2_1_2022-03-22_17h04.23.261.csv\n",
            "-rw------- 1 root root  257055 Mar 26 13:46 107_E2_1_2022-03-22_17h04.23.261.log.gz\n",
            "-rw------- 1 root root    4538 Mar 26 13:46 108_E2_1_2022-03-22_18h59.37.663.csv\n",
            "-rw------- 1 root root  275983 Mar 26 13:46 108_E2_1_2022-03-22_18h59.37.663.log.gz\n",
            "-rw------- 1 root root    4549 Mar 26 13:46 10_E2_1_2022-03-21_08h48.54.466.csv\n",
            "-rw------- 1 root root  238530 Mar 26 13:46 10_E2_1_2022-03-21_08h48.54.466.log.gz\n",
            "-rw------- 1 root root    4551 Mar 26 13:46 110_E2_1_2022-03-22_19h23.14.750.csv\n",
            "-rw------- 1 root root  196000 Mar 26 13:46 110_E2_1_2022-03-22_19h23.14.750.log.gz\n",
            "-rw------- 1 root root    4549 Mar 26 13:46 111_E2_1_2022-03-22_19h39.28.929.csv\n",
            "-rw------- 1 root root  426986 Mar 26 13:46 111_E2_1_2022-03-22_19h39.28.929.log.gz\n",
            "-rw------- 1 root root    4577 Mar 26 13:46 112_E2_1_2022-03-22_19h46.42.531.csv\n",
            "-rw------- 1 root root  219793 Mar 26 13:46 112_E2_1_2022-03-22_19h46.42.531.log.gz\n",
            "-rw------- 1 root root    4548 Mar 26 13:46 113_E2_1_2022-03-22_20h05.49.595.csv\n",
            "-rw------- 1 root root  181216 Mar 26 13:46 113_E2_1_2022-03-22_20h05.49.595.log.gz\n",
            "-rw------- 1 root root    4547 Mar 26 13:46 114_E2_1_2022-03-22_20h46.35.424.csv\n",
            "-rw------- 1 root root  242319 Mar 26 13:46 114_E2_1_2022-03-22_20h46.35.424.log.gz\n",
            "-rw------- 1 root root    4554 Mar 26 13:46 115_E2_1_2022-03-22_21h40.00.277.csv\n",
            "-rw------- 1 root root  215835 Mar 26 13:46 115_E2_1_2022-03-22_21h40.00.277.log.gz\n",
            "-rw------- 1 root root    4546 Mar 26 13:46 116_E2_1_2022-03-23_01h51.00.488.csv\n",
            "-rw------- 1 root root  175201 Mar 26 13:46 116_E2_1_2022-03-23_01h51.00.488.log.gz\n",
            "-rw------- 1 root root    4540 Mar 26 13:46 117_E2_1_2022-03-23_09h10.41.556.csv\n",
            "-rw------- 1 root root  428825 Mar 26 13:46 117_E2_1_2022-03-23_09h10.41.556.log.gz\n",
            "-rw------- 1 root root       5 Mar 26 13:46 118_E2_1_2022-03-23_10h31.31.093.csv\n",
            "-rw------- 1 root root    4555 Mar 26 13:46 119_E2_1_2022-03-23_11h38.01.867.csv\n",
            "-rw------- 1 root root  283754 Mar 26 13:46 119_E2_1_2022-03-23_11h38.01.867.log.gz\n",
            "-rw------- 1 root root    5124 Mar 26 13:46 11_E2_1_2022-03-21_08h51.17.284.csv\n",
            "-rw------- 1 root root  381976 Mar 26 13:46 11_E2_1_2022-03-21_08h51.17.284.log.gz\n",
            "-rw------- 1 root root    4549 Mar 26 13:46 121_E2_1_2022-03-23_12h02.52.068.csv\n",
            "-rw------- 1 root root  780051 Mar 26 13:46 121_E2_1_2022-03-23_12h02.52.068.log.gz\n",
            "-rw------- 1 root root    4517 Mar 26 13:46 122_E2_1_2022-03-23_13h59.19.158.csv\n",
            "-rw------- 1 root root  514614 Mar 26 13:46 122_E2_1_2022-03-23_13h59.19.158.log.gz\n",
            "-rw------- 1 root root    4542 Mar 26 13:46 123_E2_1_2022-03-23_09h14.10.803.csv\n",
            "-rw------- 1 root root  178957 Mar 26 13:46 123_E2_1_2022-03-23_09h14.10.803.log.gz\n",
            "-rw------- 1 root root    4517 Mar 26 13:46 125_E2_1_2022-03-24_04h04.36.221.csv\n",
            "-rw------- 1 root root  278991 Mar 26 13:46 125_E2_1_2022-03-24_04h04.36.221.log.gz\n",
            "-rw------- 1 root root    4513 Mar 26 13:46 129_E2_1_2022-03-23_15h34.42.179.csv\n",
            "-rw------- 1 root root  268972 Mar 26 13:46 129_E2_1_2022-03-23_15h34.42.179.log.gz\n",
            "-rw------- 1 root root    4538 Mar 26 13:46 12_E2_1_2022-03-21_09h02.23.549.csv\n",
            "-rw------- 1 root root  179748 Mar 26 13:46 12_E2_1_2022-03-21_09h02.23.549.log.gz\n",
            "-rw------- 1 root root    4551 Mar 26 13:46 131_E2_1_2022-03-23_18h42.44.792.csv\n",
            "-rw------- 1 root root  283142 Mar 26 13:46 131_E2_1_2022-03-23_18h42.44.792.log.gz\n",
            "-rw------- 1 root root    4486 Mar 26 13:46 13_E2_1_2022-03-21_09h05.54.819.csv\n",
            "-rw------- 1 root root  402518 Mar 26 13:46 13_E2_1_2022-03-21_09h05.54.819.log.gz\n",
            "-rw------- 1 root root    4578 Mar 26 13:46 14_E2_1_2022-03-21_09h12.46.310.csv\n",
            "-rw------- 1 root root  254930 Mar 26 13:46 14_E2_1_2022-03-21_09h12.46.310.log.gz\n",
            "-rw------- 1 root root    4545 Mar 26 13:46 15_E2_1_2022-03-21_09h17.52.687.csv\n",
            "-rw------- 1 root root   69259 Mar 26 13:46 15_E2_1_2022-03-21_09h17.52.687.log.gz\n",
            "-rw------- 1 root root    4552 Mar 26 13:46 16_E2_1_2022-03-21_09h18.22.393.csv\n",
            "-rw------- 1 root root  276333 Mar 26 13:46 16_E2_1_2022-03-21_09h18.22.393.log.gz\n",
            "-rw------- 1 root root    4550 Mar 26 13:46 17_E2_1_2022-03-21_09h18.29.623.csv\n",
            "-rw------- 1 root root  218751 Mar 26 13:46 17_E2_1_2022-03-21_09h18.29.623.log.gz\n",
            "-rw------- 1 root root    4558 Mar 26 13:46 18_E2_1_2022-03-21_09h24.26.131.csv\n",
            "-rw------- 1 root root  232085 Mar 26 13:46 18_E2_1_2022-03-21_09h24.26.131.log.gz\n",
            "-rw------- 1 root root    4499 Mar 26 13:46 19_E2_1_2022-03-21_09h25.38.764.csv\n",
            "-rw------- 1 root root  362839 Mar 26 13:46 19_E2_1_2022-03-21_09h25.38.764.log.gz\n",
            "-rw------- 1 root root       5 Mar 26 13:46 1_E2_1_2022-03-19_23h37.27.884.csv\n",
            "-rw------- 1 root root       5 Mar 26 13:46 1_E2_1_2022-03-19_23h40.28.836.csv\n",
            "-rw------- 1 root root       5 Mar 26 13:46 1_E2_1_2022-03-19_23h43.55.349.csv\n",
            "-rw------- 1 root root       5 Mar 26 13:46 1_E2_1_2022-03-19_23h48.57.790.csv\n",
            "-rw------- 1 root root    4503 Mar 26 13:46 1_E2_1_2022-03-19_23h51.34.480.csv\n",
            "-rw------- 1 root root  157266 Mar 26 13:46 1_E2_1_2022-03-19_23h51.34.480.log.gz\n",
            "-rw------- 1 root root       5 Mar 26 13:46 1_E2_1_2022-03-20_24h16.38.317.csv\n",
            "-rw------- 1 root root    4551 Mar 26 13:46 29_E2_1_2022-03-21_09h33.03.462.csv\n",
            "-rw------- 1 root root  312980 Mar 26 13:46 29_E2_1_2022-03-21_09h33.03.462.log.gz\n",
            "-rw------- 1 root root    4555 Mar 26 13:46 2_E2_1_2022-03-21_03h07.38.781.csv\n",
            "-rw------- 1 root root  297954 Mar 26 13:46 2_E2_1_2022-03-21_03h07.38.781.log.gz\n",
            "-rw------- 1 root root    4564 Mar 26 13:46 31_E2_1_2022-03-21_09h36.15.456.csv\n",
            "-rw------- 1 root root  332822 Mar 26 13:46 31_E2_1_2022-03-21_09h36.15.456.log.gz\n",
            "-rw------- 1 root root    4545 Mar 26 13:46 32_E2_1_2022-03-21_09h38.49.221.csv\n",
            "-rw------- 1 root root  272226 Mar 26 13:46 32_E2_1_2022-03-21_09h38.49.221.log.gz\n",
            "-rw------- 1 root root    4506 Mar 26 13:46 33_E2_1_2022-03-21_09h47.03.771.csv\n",
            "-rw------- 1 root root  221296 Mar 26 13:46 33_E2_1_2022-03-21_09h47.03.771.log.gz\n",
            "-rw------- 1 root root    4528 Mar 26 13:46 34_E2_1_2022-03-21_09h45.11.675.csv\n",
            "-rw------- 1 root root  330821 Mar 26 13:46 34_E2_1_2022-03-21_09h45.11.675.log.gz\n",
            "-rw------- 1 root root    4555 Mar 26 13:46 35_E2_1_2022-03-21_09h50.14.195.csv\n",
            "-rw------- 1 root root  556733 Mar 26 13:46 35_E2_1_2022-03-21_09h50.14.195.log.gz\n",
            "-rw------- 1 root root    4543 Mar 26 13:46 36_E2_1_2022-03-21_09h52.51.958.csv\n",
            "-rw------- 1 root root  374075 Mar 26 13:46 36_E2_1_2022-03-21_09h52.51.958.log.gz\n",
            "-rw------- 1 root root    4492 Mar 26 13:46 37_E2_1_2022-03-21_09h53.22.555.csv\n",
            "-rw------- 1 root root  554566 Mar 26 13:46 37_E2_1_2022-03-21_09h53.22.555.log.gz\n",
            "-rw------- 1 root root    4487 Mar 26 13:46 39_E2_1_2022-03-21_09h59.53.378.csv\n",
            "-rw------- 1 root root  181206 Mar 26 13:46 39_E2_1_2022-03-21_09h59.53.378.log.gz\n",
            "-rw------- 1 root root    4401 Mar 26 13:46 3_E2_1_2022-03-20_14h24.39.555.csv\n",
            "-rw------- 1 root root  119091 Mar 26 13:46 3_E2_1_2022-03-20_14h24.39.555.log.gz\n",
            "-rw------- 1 root root       5 Mar 26 13:46 3_E2_1_2022-03-20_14h33.56.537.csv\n",
            "-rw------- 1 root root    4406 Mar 26 13:46 3_E2_1_2022-03-20_14h40.45.536.csv\n",
            "-rw------- 1 root root  107966 Mar 26 13:46 3_E2_1_2022-03-20_14h40.45.536.log.gz\n",
            "-rw------- 1 root root       5 Mar 26 13:46 3_E2_1_2022-03-20_14h47.26.467.csv\n",
            "-rw------- 1 root root       5 Mar 26 13:46 3_E2_1_2022-03-20_14h53.11.876.csv\n",
            "-rw------- 1 root root       5 Mar 26 13:46 3_E2_1_2022-03-20_14h57.52.500.csv\n",
            "-rw------- 1 root root    4437 Mar 26 13:46 3_E2_1_2022-03-20_15h05.15.715.csv\n",
            "-rw------- 1 root root  109402 Mar 26 13:46 3_E2_1_2022-03-20_15h05.15.715.log.gz\n",
            "-rw------- 1 root root       5 Mar 26 13:46 3_E2_1_2022-03-20_15h14.02.743.csv\n",
            "-rw------- 1 root root    4434 Mar 26 13:46 3_E2_1_2022-03-20_15h40.52.842.csv\n",
            "-rw------- 1 root root  107066 Mar 26 13:46 3_E2_1_2022-03-20_15h40.52.842.log.gz\n",
            "-rw------- 1 root root    4441 Mar 26 13:46 3_E2_1_2022-03-20_24h10.59.734.csv\n",
            "-rw------- 1 root root  138147 Mar 26 13:46 3_E2_1_2022-03-20_24h10.59.734.log.gz\n",
            "-rw------- 1 root root    4546 Mar 26 13:46 3_E2_1_2022-03-21_03h43.29.235.csv\n",
            "-rw------- 1 root root  243256 Mar 26 13:46 3_E2_1_2022-03-21_03h43.29.235.log.gz\n",
            "-rw------- 1 root root    4543 Mar 26 13:46 42_E2_1_2022-03-21_10h47.21.207.csv\n",
            "-rw------- 1 root root  206715 Mar 26 13:46 42_E2_1_2022-03-21_10h47.21.207.log.gz\n",
            "-rw------- 1 root root    4549 Mar 26 13:46 43_E2_1_2022-03-21_10h46.52.397.csv\n",
            "-rw------- 1 root root  243714 Mar 26 13:46 43_E2_1_2022-03-21_10h46.52.397.log.gz\n",
            "-rw------- 1 root root    4643 Mar 26 13:46 44_E2_1_2022-03-21_11h01.40.222.csv\n",
            "-rw------- 1 root root  308868 Mar 26 13:46 44_E2_1_2022-03-21_11h01.40.222.log.gz\n",
            "-rw------- 1 root root    4538 Mar 26 13:46 45_E2_1_2022-03-21_11h16.07.320.csv\n",
            "-rw------- 1 root root  278849 Mar 26 13:46 45_E2_1_2022-03-21_11h16.07.320.log.gz\n",
            "-rw------- 1 root root    4546 Mar 26 13:46 46_E2_1_2022-03-21_11h27.08.180.csv\n",
            "-rw------- 1 root root  223298 Mar 26 13:46 46_E2_1_2022-03-21_11h27.08.180.log.gz\n",
            "-rw------- 1 root root       5 Mar 26 13:46 47_E2_1_2022-03-21_11h50.49.875.csv\n",
            "-rw------- 1 root root    4460 Mar 26 13:46 48_E2_1_2022-03-21_12h00.43.348.csv\n",
            "-rw------- 1 root root  240971 Mar 26 13:46 48_E2_1_2022-03-21_12h00.43.348.log.gz\n",
            "-rw------- 1 root root    4554 Mar 26 13:46 49_E2_1_2022-03-21_12h08.52.327.csv\n",
            "-rw------- 1 root root  305628 Mar 26 13:46 49_E2_1_2022-03-21_12h08.52.327.log.gz\n",
            "-rw------- 1 root root    4535 Mar 26 13:46 4_E2_1_2022-03-21_06h34.28.004.csv\n",
            "-rw------- 1 root root  282361 Mar 26 13:46 4_E2_1_2022-03-21_06h34.28.004.log.gz\n",
            "-rw------- 1 root root    4563 Mar 26 13:46 51_E2_1_2022-03-21_12h10.28.460.csv\n",
            "-rw------- 1 root root  331778 Mar 26 13:46 51_E2_1_2022-03-21_12h10.28.460.log.gz\n",
            "-rw------- 1 root root    4544 Mar 26 13:46 52_E2_1_2022-03-21_12h11.38.297.csv\n",
            "-rw------- 1 root root  200351 Mar 26 13:46 52_E2_1_2022-03-21_12h11.38.297.log.gz\n",
            "-rw------- 1 root root    4555 Mar 26 13:46 53_E2_1_2022-03-21_12h12.47.905.csv\n",
            "-rw------- 1 root root  213796 Mar 26 13:46 53_E2_1_2022-03-21_12h12.47.905.log.gz\n",
            "-rw------- 1 root root    4571 Mar 26 13:46 54_E2_1_2022-03-21_12h28.44.103.csv\n",
            "-rw------- 1 root root  236626 Mar 26 13:46 54_E2_1_2022-03-21_12h28.44.103.log.gz\n",
            "-rw------- 1 root root    4550 Mar 26 13:46 55_E2_1_2022-03-21_12h31.45.014.csv\n",
            "-rw------- 1 root root  674168 Mar 26 13:46 55_E2_1_2022-03-21_12h31.45.014.log.gz\n",
            "-rw------- 1 root root    4551 Mar 26 13:46 58_E2_1_2022-03-21_12h56.35.810.csv\n",
            "-rw------- 1 root root  244571 Mar 26 13:46 58_E2_1_2022-03-21_12h56.35.810.log.gz\n",
            "-rw------- 1 root root    4524 Mar 26 13:46 59_E2_1_2022-03-21_13h12.25.325.csv\n",
            "-rw------- 1 root root  368703 Mar 26 13:46 59_E2_1_2022-03-21_13h12.25.325.log.gz\n",
            "-rw------- 1 root root       5 Mar 26 13:46 5_E2_1_2022-03-20_14h30.02.312.csv\n",
            "-rw------- 1 root root       5 Mar 26 13:46 5_E2_1_2022-03-20_24h03.14.045.csv\n",
            "-rw------- 1 root root    4442 Mar 26 13:46 5_E2_1_2022-03-20_24h07.37.805.csv\n",
            "-rw------- 1 root root  109178 Mar 26 13:46 5_E2_1_2022-03-20_24h07.37.805.log.gz\n",
            "-rw------- 1 root root    4556 Mar 26 13:46 5_E2_1_2022-03-21_06h36.17.575.csv\n",
            "-rw------- 1 root root  303156 Mar 26 13:46 5_E2_1_2022-03-21_06h36.17.575.log.gz\n",
            "-rw------- 1 root root    4489 Mar 26 13:46 60_E2_1_2022-03-21_13h40.30.350.csv\n",
            "-rw------- 1 root root  201244 Mar 26 13:46 60_E2_1_2022-03-21_13h40.30.350.log.gz\n",
            "-rw------- 1 root root    4555 Mar 26 13:46 61_E2_1_2022-03-21_13h45.27.517.csv\n",
            "-rw------- 1 root root  208126 Mar 26 13:46 61_E2_1_2022-03-21_13h45.27.517.log.gz\n",
            "-rw------- 1 root root    4484 Mar 26 13:46 63_E2_1_2022-03-21_13h49.55.957.csv\n",
            "-rw------- 1 root root  186513 Mar 26 13:46 63_E2_1_2022-03-21_13h49.55.957.log.gz\n",
            "-rw------- 1 root root    4563 Mar 26 13:46 64_E2_1_2022-03-21_13h52.02.460.csv\n",
            "-rw------- 1 root root  294710 Mar 26 13:46 64_E2_1_2022-03-21_13h52.02.460.log.gz\n",
            "-rw------- 1 root root    4540 Mar 26 13:46 65_E2_1_2022-03-21_13h55.21.569.csv\n",
            "-rw------- 1 root root  212406 Mar 26 13:46 65_E2_1_2022-03-21_13h55.21.569.log.gz\n",
            "-rw------- 1 root root    4549 Mar 26 13:46 66_E2_1_2022-03-21_14h00.01.398.csv\n",
            "-rw------- 1 root root  357122 Mar 26 13:46 66_E2_1_2022-03-21_14h00.01.398.log.gz\n",
            "-rw------- 1 root root    4546 Mar 26 13:46 67_E2_1_2022-03-21_14h09.17.845.csv\n",
            "-rw------- 1 root root  439962 Mar 26 13:46 67_E2_1_2022-03-21_14h09.17.845.log.gz\n",
            "-rw------- 1 root root    4548 Mar 26 13:46 68_E2_1_2022-03-21_14h09.26.104.csv\n",
            "-rw------- 1 root root  210605 Mar 26 13:46 68_E2_1_2022-03-21_14h09.26.104.log.gz\n",
            "-rw------- 1 root root    4552 Mar 26 13:46 69_E2_1_2022-03-21_14h13.28.087.csv\n",
            "-rw------- 1 root root  264508 Mar 26 13:46 69_E2_1_2022-03-21_14h13.28.087.log.gz\n",
            "-rw------- 1 root root    4472 Mar 26 13:46 6_E2_1_2022-03-19_23h56.26.581.csv\n",
            "-rw------- 1 root root  124685 Mar 26 13:46 6_E2_1_2022-03-19_23h56.26.581.log.gz\n",
            "-rw------- 1 root root    4553 Mar 26 13:46 6_E2_1_2022-03-21_07h05.30.987.csv\n",
            "-rw------- 1 root root  244228 Mar 26 13:46 6_E2_1_2022-03-21_07h05.30.987.log.gz\n",
            "-rw------- 1 root root    4500 Mar 26 13:46 70_E2_1_2022-03-21_14h16.13.895.csv\n",
            "-rw------- 1 root root  166409 Mar 26 13:46 70_E2_1_2022-03-21_14h16.13.895.log.gz\n",
            "-rw------- 1 root root    4544 Mar 26 13:46 71_E2_1_2022-03-21_14h19.37.719.csv\n",
            "-rw------- 1 root root  214663 Mar 26 13:46 71_E2_1_2022-03-21_14h19.37.719.log.gz\n",
            "-rw------- 1 root root    4533 Mar 26 13:46 72_E2_1_2022-03-21_14h24.00.377.csv\n",
            "-rw------- 1 root root  207491 Mar 26 13:46 72_E2_1_2022-03-21_14h24.00.377.log.gz\n",
            "-rw------- 1 root root    4538 Mar 26 13:46 73_E2_1_2022-03-21_14h38.28.092.csv\n",
            "-rw------- 1 root root  208643 Mar 26 13:46 73_E2_1_2022-03-21_14h38.28.092.log.gz\n",
            "-rw------- 1 root root    4555 Mar 26 13:46 74_E2_1_2022-03-21_14h56.58.975.csv\n",
            "-rw------- 1 root root  287552 Mar 26 13:46 74_E2_1_2022-03-21_14h56.58.975.log.gz\n",
            "-rw------- 1 root root    4548 Mar 26 13:46 75_E2_1_2022-03-21_15h03.21.444.csv\n",
            "-rw------- 1 root root  297936 Mar 26 13:46 75_E2_1_2022-03-21_15h03.21.444.log.gz\n",
            "-rw------- 1 root root    4538 Mar 26 13:46 76_E2_1_2022-03-21_15h17.22.149.csv\n",
            "-rw------- 1 root root  183571 Mar 26 13:46 76_E2_1_2022-03-21_15h17.22.149.log.gz\n",
            "-rw------- 1 root root       5 Mar 26 13:46 77_E2_1_2022-03-21_16h02.18.802.csv\n",
            "-rw------- 1 root root     450 Mar 26 13:46 78_E2_1_2022-03-21_16h04.34.226.csv\n",
            "-rw------- 1 root root   37910 Mar 26 13:46 78_E2_1_2022-03-21_16h04.34.226.log.gz\n",
            "-rw------- 1 root root    4563 Mar 26 13:46 79_E2_1_2022-03-21_16h05.23.291.csv\n",
            "-rw------- 1 root root  278864 Mar 26 13:46 79_E2_1_2022-03-21_16h05.23.291.log.gz\n",
            "-rw------- 1 root root    4553 Mar 26 13:46 7_E2_1_2022-03-21_07h42.57.274.csv\n",
            "-rw------- 1 root root  240753 Mar 26 13:46 7_E2_1_2022-03-21_07h42.57.274.log.gz\n",
            "-rw------- 1 root root    4552 Mar 26 13:46 82_E2_1_2022-03-21_16h21.08.440.csv\n",
            "-rw------- 1 root root  275879 Mar 26 13:46 82_E2_1_2022-03-21_16h21.08.440.log.gz\n",
            "-rw------- 1 root root    4542 Mar 26 13:46 83_E2_1_2022-03-21_16h21.25.442.csv\n",
            "-rw------- 1 root root  280703 Mar 26 13:46 83_E2_1_2022-03-21_16h21.25.442.log.gz\n",
            "-rw------- 1 root root    4548 Mar 26 13:46 84_E2_1_2022-03-21_17h10.37.729.csv\n",
            "-rw------- 1 root root  284836 Mar 26 13:46 84_E2_1_2022-03-21_17h10.37.729.log.gz\n",
            "-rw------- 1 root root    4565 Mar 26 13:46 85_E2_1_2022-03-21_17h35.23.606.csv\n",
            "-rw------- 1 root root  354527 Mar 26 13:46 85_E2_1_2022-03-21_17h35.23.606.log.gz\n",
            "-rw------- 1 root root       5 Mar 26 13:46 88_E2_1_2022-03-21_10h45.39.979.csv\n",
            "-rw------- 1 root root    4549 Mar 26 13:46 89_E2_1_2022-03-21_18h05.25.927.csv\n",
            "-rw------- 1 root root  294113 Mar 26 13:46 89_E2_1_2022-03-21_18h05.25.927.log.gz\n",
            "-rw------- 1 root root    4559 Mar 26 13:46 8_E2_1_2022-03-21_07h55.32.607.csv\n",
            "-rw------- 1 root root  480947 Mar 26 13:46 8_E2_1_2022-03-21_07h55.32.607.log.gz\n",
            "-rw------- 1 root root    4560 Mar 26 13:46 90_E2_1_2022-03-21_19h17.30.673.csv\n",
            "-rw------- 1 root root  351082 Mar 26 13:46 90_E2_1_2022-03-21_19h17.30.673.log.gz\n",
            "-rw------- 1 root root    4571 Mar 26 13:46 92_E2_1_2022-03-21_20h11.31.093.csv\n",
            "-rw------- 1 root root 1304512 Mar 26 13:46 92_E2_1_2022-03-21_20h11.31.093.log.gz\n",
            "-rw------- 1 root root    4555 Mar 26 13:46 93_E2_1_2022-03-21_20h28.42.959.csv\n",
            "-rw------- 1 root root  219861 Mar 26 13:46 93_E2_1_2022-03-21_20h28.42.959.log.gz\n",
            "-rw------- 1 root root    4464 Mar 26 13:46 94_E2_1_2022-03-21_20h31.05.527.csv\n",
            "-rw------- 1 root root  229777 Mar 26 13:46 94_E2_1_2022-03-21_20h31.05.527.log.gz\n",
            "-rw------- 1 root root    4542 Mar 26 13:46 95_E2_1_2022-03-22_24h30.59.910.csv\n",
            "-rw------- 1 root root  767358 Mar 26 13:46 95_E2_1_2022-03-22_24h30.59.910.log.gz\n",
            "-rw------- 1 root root    4545 Mar 26 13:46 96_E2_1_2022-03-22_24h39.38.014.csv\n",
            "-rw------- 1 root root  201532 Mar 26 13:46 96_E2_1_2022-03-22_24h39.38.014.log.gz\n",
            "-rw------- 1 root root    4559 Mar 26 13:46 97_E2_1_2022-03-22_01h38.09.953.csv\n",
            "-rw------- 1 root root  283792 Mar 26 13:46 97_E2_1_2022-03-22_01h38.09.953.log.gz\n",
            "-rw------- 1 root root     539 Mar 26 13:46 98_E2_1_2022-03-22_09h22.01.csv\n",
            "-rw------- 1 root root   37586 Mar 26 13:46 98_E2_1_2022-03-22_09h22.01.log.gz\n",
            "-rw------- 1 root root    4535 Mar 26 13:46 99_E2_1_2022-03-22_10h16.45.906.csv\n",
            "-rw------- 1 root root  207001 Mar 26 13:46 99_E2_1_2022-03-22_10h16.45.906.log.gz\n",
            "-rw------- 1 root root    4536 Mar 26 13:46 9_E2_1_2022-03-21_08h40.50.042.csv\n",
            "-rw------- 1 root root  162566 Mar 26 13:46 9_E2_1_2022-03-21_08h40.50.042.log.gz\n",
            "-rw------- 1 root root       5 Mar 26 13:46 PARTICIPANT_experiment2a1_2022-03-19_23h04.55.576.csv\n",
            "-rw------- 1 root root       5 Mar 26 13:46 PARTICIPANT_experiment2a1_2022-03-20_24h07.29.925.csv\n",
            "-rw------- 1 root root       5 Mar 26 13:46 PARTICIPANT_experiment2a1_2022-03-21_09h26.19.603.csv\n",
            "-rw------- 1 root root       5 Mar 26 13:46 PARTICIPANT_experiment2a1_2022-03-21_09h26.29.293.csv\n",
            "-rw------- 1 root root       5 Mar 26 13:46 PARTICIPANT_experiment2a1_2022-03-21_09h27.30.995.csv\n",
            "-rw------- 1 root root       5 Mar 26 13:46 PARTICIPANT_experiment2a1_2022-03-21_09h28.20.208.csv\n",
            "-rw------- 1 root root       5 Mar 26 13:46 PARTICIPANT_experiment2a1_2022-03-21_09h28.53.513.csv\n",
            "-rw------- 1 root root       5 Mar 26 13:46 PARTICIPANT_experiment2a1_2022-03-21_09h29.13.634.csv\n",
            "-rw------- 1 root root       5 Mar 26 13:46 PARTICIPANT_experiment2a1_2022-03-21_09h29.25.951.csv\n",
            "-rw------- 1 root root       5 Mar 26 13:46 PARTICIPANT_experiment2a1_2022-03-21_09h29.47.750.csv\n",
            "-rw------- 1 root root       5 Mar 26 13:46 PARTICIPANT_experiment2a1_2022-03-21_09h33.21.111.csv\n",
            "-rw------- 1 root root       5 Mar 26 13:46 PARTICIPANT_experiment2a1_2022-03-21_09h33.25.364.csv\n",
            "-rw------- 1 root root       5 Mar 26 13:46 PARTICIPANT_experiment2a1_2022-03-21_09h34.11.461.csv\n",
            "-rw------- 1 root root       5 Mar 26 13:46 PARTICIPANT_experiment2a1_2022-03-21_10h10.27.060.csv\n",
            "-rw------- 1 root root       5 Mar 26 13:46 PARTICIPANT_experiment2a1_2022-03-21_10h28.38.297.csv\n",
            "-rw------- 1 root root       5 Mar 26 13:46 PARTICIPANT_experiment2a1_2022-03-21_12h32.38.467.csv\n",
            "-rw------- 1 root root       5 Mar 26 13:46 PARTICIPANT_experiment2a1_2022-03-21_13h49.42.527.csv\n",
            "-rw------- 1 root root       5 Mar 26 13:46 PARTICIPANT_experiment2a1_2022-03-21_16h10.28.180.csv\n",
            "-rw------- 1 root root       5 Mar 26 13:46 PARTICIPANT_experiment2a1_2022-03-21_16h10.34.794.csv\n",
            "-rw------- 1 root root       5 Mar 26 13:46 PARTICIPANT_experiment2a1_2022-03-21_17h35.48.654.csv\n",
            "-rw------- 1 root root       5 Mar 26 13:46 PARTICIPANT_experiment2a1_2022-03-23_14h24.58.755.csv\n",
            "-rw------- 1 root root       5 Mar 26 13:46 PARTICIPANT_experiment2a1_2022-03-23_15h06.33.003.csv\n",
            "-rw------- 1 root root       5 Mar 26 13:46 PARTICIPANT_experiment2a1_2022-03-23_15h06.49.920.csv\n",
            "-rw------- 1 root root       5 Mar 26 13:46 PARTICIPANT_experiment2a1_2022-03-23_15h08.27.054.csv\n",
            "-rw------- 1 root root       4 Mar 26 13:46 PARTICIPANT_experiment2a1_2022-03-23_18h02.20.069.csv\n",
            "-rw------- 1 root root       5 Mar 26 13:46 PARTICIPANT_experiment2a1_2022-03-23_18h02.22.525.csv\n"
          ]
        }
      ]
    },
    {
      "cell_type": "code",
      "source": [
        "# import required modules\n",
        "import os\n",
        "import glob\n",
        "import csv\n",
        "import pandas as pd\n",
        "from pathlib import Path\n",
        "os.chdir(\"/content/gdrive/MyDrive/data/\")\n"
      ],
      "metadata": {
        "id": "uOLxczOzZdg4"
      },
      "execution_count": null,
      "outputs": []
    },
    {
      "cell_type": "code",
      "source": [
        "#Using glob to match pattern 'csv'\n",
        "\n",
        "extension = 'csv'\n",
        "all_files = [i for i in glob.glob(\"*.{}\".format(extension))]"
      ],
      "metadata": {
        "id": "Ry9rwyqoZcLI"
      },
      "execution_count": null,
      "outputs": []
    },
    {
      "cell_type": "code",
      "source": [
        "indir = Path(\"/content/gdrive/MyDrive/data/\")\n",
        "outfile = Path(\"/content/gdrive/MyDrive/new_data.csv\")\n",
        "\n",
        "\n",
        "def find_header_from_all_files(all_files):\n",
        "    columns = set()\n",
        "    print(\"Looking for column names in\", indir)\n",
        "    for f in all_files:\n",
        "      with open(f, \"r\") as sample_csv:\n",
        "            sample_reader = csv.DictReader(sample_csv)\n",
        "            try:\n",
        "                first_row = next(sample_reader)\n",
        "            except StopIteration:\n",
        "                print(\"File {} doesn't contain any data. Double check this\".format(f))\n",
        "                continue\n",
        "            else:\n",
        "                columns.update(first_row.keys())\n",
        "    return columns\n",
        "\n",
        "\n",
        "columns = find_header_from_all_files(all_files)\n",
        "print(\"The columns are:\", sorted(columns))\n",
        "\n",
        "with outfile.open('w') as outf:\n",
        "    wr = csv.DictWriter(outf, fieldnames=list(columns))\n",
        "    wr.writeheader()\n",
        "    for inpath in all_files:\n",
        "        print(\"Parsing\", inpath)\n",
        "        with open(inpath) as infile:\n",
        "            reader = csv.DictReader(infile)\n",
        "            wr.writerows(reader)\n",
        "print(\"Done, find the output at\", outfile)"
      ],
      "metadata": {
        "colab": {
          "base_uri": "https://localhost:8080/"
        },
        "id": "FWP9KlPEbCEP",
        "outputId": "56ef7079-28fc-4605-9b1f-5a1338f426b2"
      },
      "execution_count": null,
      "outputs": [
        {
          "output_type": "stream",
          "name": "stdout",
          "text": [
            "Looking for column names in /content/gdrive/MyDrive/data\n",
            "File 118_E2_1_2022-03-23_10h31.31.093.csv doesn't contain any data. Double check this\n",
            "File PARTICIPANT_experiment2a1_2022-03-21_09h33.21.111.csv doesn't contain any data. Double check this\n",
            "File PARTICIPANT_experiment2a1_2022-03-21_16h10.28.180.csv doesn't contain any data. Double check this\n",
            "File 3_E2_1_2022-03-20_14h33.56.537.csv doesn't contain any data. Double check this\n",
            "File 3_E2_1_2022-03-20_14h47.26.467.csv doesn't contain any data. Double check this\n",
            "File PARTICIPANT_experiment2a1_2022-03-21_09h28.20.208.csv doesn't contain any data. Double check this\n",
            "File 3_E2_1_2022-03-20_14h53.11.876.csv doesn't contain any data. Double check this\n",
            "File PARTICIPANT_experiment2a1_2022-03-23_15h06.33.003.csv doesn't contain any data. Double check this\n",
            "File 47_E2_1_2022-03-21_11h50.49.875.csv doesn't contain any data. Double check this\n",
            "File PARTICIPANT_experiment2a1_2022-03-21_13h49.42.527.csv doesn't contain any data. Double check this\n",
            "File PARTICIPANT_experiment2a1_2022-03-23_18h02.22.525.csv doesn't contain any data. Double check this\n",
            "File PARTICIPANT_experiment2a1_2022-03-21_09h29.47.750.csv doesn't contain any data. Double check this\n",
            "File PARTICIPANT_experiment2a1_2022-03-23_15h06.49.920.csv doesn't contain any data. Double check this\n",
            "File 1_E2_1_2022-03-19_23h40.28.836.csv doesn't contain any data. Double check this\n",
            "File PARTICIPANT_experiment2a1_2022-03-21_10h28.38.297.csv doesn't contain any data. Double check this\n",
            "File 5_E2_1_2022-03-20_24h03.14.045.csv doesn't contain any data. Double check this\n",
            "File PARTICIPANT_experiment2a1_2022-03-21_09h34.11.461.csv doesn't contain any data. Double check this\n",
            "File PARTICIPANT_experiment2a1_2022-03-23_15h08.27.054.csv doesn't contain any data. Double check this\n",
            "File 5_E2_1_2022-03-20_14h30.02.312.csv doesn't contain any data. Double check this\n",
            "File PARTICIPANT_experiment2a1_2022-03-21_09h29.25.951.csv doesn't contain any data. Double check this\n",
            "File PARTICIPANT_experiment2a1_2022-03-21_09h33.25.364.csv doesn't contain any data. Double check this\n",
            "File PARTICIPANT_experiment2a1_2022-03-21_09h28.53.513.csv doesn't contain any data. Double check this\n",
            "File PARTICIPANT_experiment2a1_2022-03-20_24h07.29.925.csv doesn't contain any data. Double check this\n",
            "File 3_E2_1_2022-03-20_14h57.52.500.csv doesn't contain any data. Double check this\n",
            "File PARTICIPANT_experiment2a1_2022-03-23_18h02.20.069.csv doesn't contain any data. Double check this\n",
            "File 77_E2_1_2022-03-21_16h02.18.802.csv doesn't contain any data. Double check this\n",
            "File PARTICIPANT_experiment2a1_2022-03-21_17h35.48.654.csv doesn't contain any data. Double check this\n",
            "File PARTICIPANT_experiment2a1_2022-03-21_09h29.13.634.csv doesn't contain any data. Double check this\n",
            "File PARTICIPANT_experiment2a1_2022-03-21_09h26.29.293.csv doesn't contain any data. Double check this\n",
            "File PARTICIPANT_experiment2a1_2022-03-23_14h24.58.755.csv doesn't contain any data. Double check this\n",
            "File PARTICIPANT_experiment2a1_2022-03-19_23h04.55.576.csv doesn't contain any data. Double check this\n",
            "File 1_E2_1_2022-03-19_23h37.27.884.csv doesn't contain any data. Double check this\n",
            "File 1_E2_1_2022-03-19_23h48.57.790.csv doesn't contain any data. Double check this\n",
            "File PARTICIPANT_experiment2a1_2022-03-21_09h26.19.603.csv doesn't contain any data. Double check this\n",
            "File 1_E2_1_2022-03-20_24h16.38.317.csv doesn't contain any data. Double check this\n",
            "File PARTICIPANT_experiment2a1_2022-03-21_12h32.38.467.csv doesn't contain any data. Double check this\n",
            "File PARTICIPANT_experiment2a1_2022-03-21_09h27.30.995.csv doesn't contain any data. Double check this\n",
            "File 1_E2_1_2022-03-19_23h43.55.349.csv doesn't contain any data. Double check this\n",
            "File PARTICIPANT_experiment2a1_2022-03-21_16h10.34.794.csv doesn't contain any data. Double check this\n",
            "File 3_E2_1_2022-03-20_15h14.02.743.csv doesn't contain any data. Double check this\n",
            "File 88_E2_1_2022-03-21_10h45.39.979.csv doesn't contain any data. Double check this\n",
            "File PARTICIPANT_experiment2a1_2022-03-21_10h10.27.060.csv doesn't contain any data. Double check this\n",
            "The columns are: ['ActorGender', 'Condition', 'OS', 'Speed', 'age', 'age.keys', 'age.rt', 'agree_or_disagree.keys', 'agree_or_disagree.rt', 'date', 'expName', 'frameRate', 'gender.response', 'gender.rt', 'id', 'key_p.keys', 'key_p.rt', 'key_p_10.keys', 'key_p_10.rt', 'key_p_11.keys', 'key_p_11.rt', 'key_p_12.keys', 'key_p_12.rt', 'key_p_13.keys', 'key_p_13.rt', 'key_p_14.keys', 'key_p_14.rt', 'key_p_15.keys', 'key_p_15.rt', 'key_p_16.keys', 'key_p_16.rt', 'key_p_17.keys', 'key_p_17.rt', 'key_p_18.keys', 'key_p_18.rt', 'key_p_2.keys', 'key_p_2.rt', 'key_p_3.keys', 'key_p_3.rt', 'key_p_4.keys', 'key_p_4.rt', 'key_p_5.keys', 'key_p_5.rt', 'key_p_6.keys', 'key_p_6.rt', 'key_p_7.keys', 'key_p_7.rt', 'key_p_8.keys', 'key_p_8.rt', 'key_p_9.keys', 'key_p_9.rt', 'key_resp.rt', 'key_resp_2.keys', 'key_resp_2.rt', 'key_resp_3.keys', 'key_resp_3.rt', 'key_resp_4.keys', 'key_resp_4.rt', 'key_resp_5.keys', 'key_resp_5.rt', 'key_resp_6.keys', 'key_resp_6.rt', 'key_resp_7.keys', 'key_resp_7.rt', 'participant', 'pressSpace.keys', 'pressSpace.rt', 'psychopyVersion', 'researcher', 'session', 'slider.response', 'slider.rt', 'slider_10.response', 'slider_10.rt', 'slider_11.response', 'slider_11.rt', 'slider_12.response', 'slider_12.rt', 'slider_13.response', 'slider_13.rt', 'slider_14.response', 'slider_14.rt', 'slider_15.response', 'slider_15.rt', 'slider_16.response', 'slider_16.rt', 'slider_17.response', 'slider_17.rt', 'slider_18.response', 'slider_18.rt', 'slider_19.response', 'slider_19.rt', 'slider_2.response', 'slider_2.rt', 'slider_20.response', 'slider_20.rt', 'slider_21.response', 'slider_21.rt', 'slider_22.response', 'slider_22.rt', 'slider_23.response', 'slider_23.rt', 'slider_24.response', 'slider_24.rt', 'slider_25.response', 'slider_25.rt', 'slider_26.response', 'slider_26.rt', 'slider_27.response', 'slider_27.rt', 'slider_28.response', 'slider_28.rt', 'slider_29.response', 'slider_29.rt', 'slider_3.response', 'slider_3.rt', 'slider_30.response', 'slider_30.rt', 'slider_31.response', 'slider_31.rt', 'slider_32.response', 'slider_32.rt', 'slider_33.response', 'slider_33.rt', 'slider_34.response', 'slider_34.rt', 'slider_35.response', 'slider_35.rt', 'slider_36.response', 'slider_36.rt', 'slider_37.response', 'slider_37.rt', 'slider_38.response', 'slider_38.rt', 'slider_39.response', 'slider_39.rt', 'slider_4.response', 'slider_4.rt', 'slider_40.response', 'slider_40.rt', 'slider_41.response', 'slider_41.rt', 'slider_42.response', 'slider_42.rt', 'slider_43.response', 'slider_43.rt', 'slider_44.response', 'slider_44.rt', 'slider_45.response', 'slider_45.rt', 'slider_46.response', 'slider_46.rt', 'slider_47.response', 'slider_47.rt', 'slider_48.response', 'slider_48.rt', 'slider_49.response', 'slider_49.rt', 'slider_5.response', 'slider_5.rt', 'slider_50.response', 'slider_50.rt', 'slider_51.response', 'slider_51.rt', 'slider_52.response', 'slider_52.rt', 'slider_53.response', 'slider_53.rt', 'slider_54.response', 'slider_54.rt', 'slider_55.response', 'slider_55.rt', 'slider_57.response', 'slider_57.rt', 'slider_58.response', 'slider_58.rt', 'slider_59.response', 'slider_59.rt', 'slider_6.response', 'slider_6.rt', 'slider_60.response', 'slider_60.rt', 'slider_61.response', 'slider_61.rt', 'slider_62.response', 'slider_62.rt', 'slider_63.response', 'slider_63.rt', 'slider_64.response', 'slider_64.rt', 'slider_65.response', 'slider_65.rt', 'slider_66.response', 'slider_66.rt', 'slider_67.response', 'slider_67.rt', 'slider_68.response', 'slider_68.rt', 'slider_69.response', 'slider_69.rt', 'slider_7.response', 'slider_7.rt', 'slider_70.response', 'slider_70.rt', 'slider_71.response', 'slider_71.rt', 'slider_72.response', 'slider_72.rt', 'slider_73.response', 'slider_73.rt', 'slider_74.response', 'slider_74.rt', 'slider_75.response', 'slider_75.rt', 'slider_76.response', 'slider_76.rt', 'slider_77.response', 'slider_77.rt', 'slider_78.response', 'slider_78.rt', 'slider_79.response', 'slider_79.rt', 'slider_8.response', 'slider_8.rt', 'slider_80.response', 'slider_80.rt', 'slider_81.response', 'slider_81.rt', 'slider_82.response', 'slider_82.rt', 'slider_83.response', 'slider_83.rt', 'slider_84.response', 'slider_84.rt', 'slider_9.response', 'slider_9.rt', 'slider_h.response', 'slider_h.rt', 'trials.order', 'trials.ran', 'trials.thisIndex', 'trials.thisN', 'trials.thisRepN', 'trials.thisTrialN', 'video', '\\ufeffkey_resp.keys']\n",
            "Parsing 3_E2_1_2022-03-20_15h40.52.842.csv\n",
            "Parsing 11_E2_1_2022-03-21_08h51.17.284.csv\n",
            "Parsing 4_E2_1_2022-03-21_06h34.28.004.csv\n",
            "Parsing 33_E2_1_2022-03-21_09h47.03.771.csv\n",
            "Parsing 118_E2_1_2022-03-23_10h31.31.093.csv\n",
            "Parsing 66_E2_1_2022-03-21_14h00.01.398.csv\n",
            "Parsing 2_E2_1_2022-03-21_03h07.38.781.csv\n",
            "Parsing 5_E2_1_2022-03-21_06h36.17.575.csv\n",
            "Parsing PARTICIPANT_experiment2a1_2022-03-21_09h33.21.111.csv\n",
            "Parsing 104_E2_1_2022-03-22_14h34.51.148.csv\n",
            "Parsing 17_E2_1_2022-03-21_09h18.29.623.csv\n",
            "Parsing 29_E2_1_2022-03-21_09h33.03.462.csv\n",
            "Parsing 121_E2_1_2022-03-23_12h02.52.068.csv\n",
            "Parsing 119_E2_1_2022-03-23_11h38.01.867.csv\n",
            "Parsing 53_E2_1_2022-03-21_12h12.47.905.csv\n",
            "Parsing 117_E2_1_2022-03-23_09h10.41.556.csv\n",
            "Parsing PARTICIPANT_experiment2a1_2022-03-21_16h10.28.180.csv\n",
            "Parsing 131_E2_1_2022-03-23_18h42.44.792.csv\n",
            "Parsing 3_E2_1_2022-03-20_14h33.56.537.csv\n",
            "Parsing 3_E2_1_2022-03-20_14h47.26.467.csv\n",
            "Parsing 42_E2_1_2022-03-21_10h47.21.207.csv\n",
            "Parsing 94_E2_1_2022-03-21_20h31.05.527.csv\n",
            "Parsing 73_E2_1_2022-03-21_14h38.28.092.csv\n",
            "Parsing PARTICIPANT_experiment2a1_2022-03-21_09h28.20.208.csv\n",
            "Parsing 3_E2_1_2022-03-20_14h53.11.876.csv\n",
            "Parsing 76_E2_1_2022-03-21_15h17.22.149.csv\n",
            "Parsing 15_E2_1_2022-03-21_09h17.52.687.csv\n",
            "Parsing 18_E2_1_2022-03-21_09h24.26.131.csv\n",
            "Parsing 95_E2_1_2022-03-22_24h30.59.910.csv\n",
            "Parsing PARTICIPANT_experiment2a1_2022-03-23_15h06.33.003.csv\n",
            "Parsing 8_E2_1_2022-03-21_07h55.32.607.csv\n",
            "Parsing 47_E2_1_2022-03-21_11h50.49.875.csv\n",
            "Parsing PARTICIPANT_experiment2a1_2022-03-21_13h49.42.527.csv\n",
            "Parsing 98_E2_1_2022-03-22_09h22.01.csv\n",
            "Parsing 55_E2_1_2022-03-21_12h31.45.014.csv\n",
            "Parsing 113_E2_1_2022-03-22_20h05.49.595.csv\n",
            "Parsing 32_E2_1_2022-03-21_09h38.49.221.csv\n",
            "Parsing PARTICIPANT_experiment2a1_2022-03-23_18h02.22.525.csv\n",
            "Parsing 65_E2_1_2022-03-21_13h55.21.569.csv\n",
            "Parsing PARTICIPANT_experiment2a1_2022-03-21_09h29.47.750.csv\n",
            "Parsing 6_E2_1_2022-03-19_23h56.26.581.csv\n",
            "Parsing PARTICIPANT_experiment2a1_2022-03-23_15h06.49.920.csv\n",
            "Parsing 1_E2_1_2022-03-19_23h40.28.836.csv\n",
            "Parsing 3_E2_1_2022-03-21_03h43.29.235.csv\n",
            "Parsing 129_E2_1_2022-03-23_15h34.42.179.csv\n",
            "Parsing 112_E2_1_2022-03-22_19h46.42.531.csv\n",
            "Parsing 110_E2_1_2022-03-22_19h23.14.750.csv\n",
            "Parsing 97_E2_1_2022-03-22_01h38.09.953.csv\n",
            "Parsing 114_E2_1_2022-03-22_20h46.35.424.csv\n",
            "Parsing 3_E2_1_2022-03-20_14h24.39.555.csv\n",
            "Parsing 46_E2_1_2022-03-21_11h27.08.180.csv\n",
            "Parsing 7_E2_1_2022-03-21_07h42.57.274.csv\n",
            "Parsing 72_E2_1_2022-03-21_14h24.00.377.csv\n",
            "Parsing 19_E2_1_2022-03-21_09h25.38.764.csv\n",
            "Parsing PARTICIPANT_experiment2a1_2022-03-21_10h28.38.297.csv\n",
            "Parsing 125_E2_1_2022-03-24_04h04.36.221.csv\n",
            "Parsing 5_E2_1_2022-03-20_24h03.14.045.csv\n",
            "Parsing 123_E2_1_2022-03-23_09h14.10.803.csv\n",
            "Parsing 101_E2_1_2022-03-22_13h51.54.399.csv\n",
            "Parsing 79_E2_1_2022-03-21_16h05.23.291.csv\n",
            "Parsing 93_E2_1_2022-03-21_20h28.42.959.csv\n",
            "Parsing 103_E2_1_2022-03-22_14h27.10.003.csv\n",
            "Parsing 67_E2_1_2022-03-21_14h09.17.845.csv\n",
            "Parsing PARTICIPANT_experiment2a1_2022-03-21_09h34.11.461.csv\n",
            "Parsing 116_E2_1_2022-03-23_01h51.00.488.csv\n",
            "Parsing PARTICIPANT_experiment2a1_2022-03-23_15h08.27.054.csv\n",
            "Parsing 85_E2_1_2022-03-21_17h35.23.606.csv\n",
            "Parsing 14_E2_1_2022-03-21_09h12.46.310.csv\n",
            "Parsing 5_E2_1_2022-03-20_14h30.02.312.csv\n",
            "Parsing PARTICIPANT_experiment2a1_2022-03-21_09h29.25.951.csv\n",
            "Parsing 108_E2_1_2022-03-22_18h59.37.663.csv\n",
            "Parsing 111_E2_1_2022-03-22_19h39.28.929.csv\n",
            "Parsing PARTICIPANT_experiment2a1_2022-03-21_09h33.25.364.csv\n",
            "Parsing 107_E2_1_2022-03-22_17h04.23.261.csv\n",
            "Parsing 12_E2_1_2022-03-21_09h02.23.549.csv\n",
            "Parsing 96_E2_1_2022-03-22_24h39.38.014.csv\n",
            "Parsing 6_E2_1_2022-03-21_07h05.30.987.csv\n",
            "Parsing PARTICIPANT_experiment2a1_2022-03-21_09h28.53.513.csv\n",
            "Parsing 51_E2_1_2022-03-21_12h10.28.460.csv\n",
            "Parsing PARTICIPANT_experiment2a1_2022-03-20_24h07.29.925.csv\n",
            "Parsing 64_E2_1_2022-03-21_13h52.02.460.csv\n",
            "Parsing 84_E2_1_2022-03-21_17h10.37.729.csv\n",
            "Parsing 59_E2_1_2022-03-21_13h12.25.325.csv\n",
            "Parsing 78_E2_1_2022-03-21_16h04.34.226.csv\n",
            "Parsing 102_E2_1_2022-03-22_14h17.05.339.csv\n",
            "Parsing 60_E2_1_2022-03-21_13h40.30.350.csv\n",
            "Parsing 82_E2_1_2022-03-21_16h21.08.440.csv\n",
            "Parsing 31_E2_1_2022-03-21_09h36.15.456.csv\n",
            "Parsing 90_E2_1_2022-03-21_19h17.30.673.csv\n",
            "Parsing 3_E2_1_2022-03-20_14h57.52.500.csv\n",
            "Parsing 74_E2_1_2022-03-21_14h56.58.975.csv\n",
            "Parsing 58_E2_1_2022-03-21_12h56.35.810.csv\n",
            "Parsing 3_E2_1_2022-03-20_14h40.45.536.csv\n",
            "Parsing PARTICIPANT_experiment2a1_2022-03-23_18h02.20.069.csv\n",
            "Parsing 45_E2_1_2022-03-21_11h16.07.320.csv\n",
            "Parsing 77_E2_1_2022-03-21_16h02.18.802.csv\n",
            "Parsing 83_E2_1_2022-03-21_16h21.25.442.csv\n",
            "Parsing PARTICIPANT_experiment2a1_2022-03-21_17h35.48.654.csv\n",
            "Parsing 75_E2_1_2022-03-21_15h03.21.444.csv\n",
            "Parsing 1_E2_1_2022-03-19_23h51.34.480.csv\n",
            "Parsing 106_E2_1_2022-03-22_15h30.49.921.csv\n",
            "Parsing 37_E2_1_2022-03-21_09h53.22.555.csv\n",
            "Parsing 70_E2_1_2022-03-21_14h16.13.895.csv\n",
            "Parsing 43_E2_1_2022-03-21_10h46.52.397.csv\n",
            "Parsing PARTICIPANT_experiment2a1_2022-03-21_09h29.13.634.csv\n",
            "Parsing 44_E2_1_2022-03-21_11h01.40.222.csv\n",
            "Parsing PARTICIPANT_experiment2a1_2022-03-21_09h26.29.293.csv\n",
            "Parsing 13_E2_1_2022-03-21_09h05.54.819.csv\n",
            "Parsing 9_E2_1_2022-03-21_08h40.50.042.csv\n",
            "Parsing 16_E2_1_2022-03-21_09h18.22.393.csv\n",
            "Parsing 89_E2_1_2022-03-21_18h05.25.927.csv\n",
            "Parsing 54_E2_1_2022-03-21_12h28.44.103.csv\n",
            "Parsing PARTICIPANT_experiment2a1_2022-03-23_14h24.58.755.csv\n",
            "Parsing PARTICIPANT_experiment2a1_2022-03-19_23h04.55.576.csv\n",
            "Parsing 99_E2_1_2022-03-22_10h16.45.906.csv\n",
            "Parsing 48_E2_1_2022-03-21_12h00.43.348.csv\n",
            "Parsing 3_E2_1_2022-03-20_15h05.15.715.csv\n",
            "Parsing 52_E2_1_2022-03-21_12h11.38.297.csv\n",
            "Parsing 1_E2_1_2022-03-19_23h37.27.884.csv\n",
            "Parsing 68_E2_1_2022-03-21_14h09.26.104.csv\n",
            "Parsing 92_E2_1_2022-03-21_20h11.31.093.csv\n",
            "Parsing 1_E2_1_2022-03-19_23h48.57.790.csv\n",
            "Parsing PARTICIPANT_experiment2a1_2022-03-21_09h26.19.603.csv\n",
            "Parsing 1_E2_1_2022-03-20_24h16.38.317.csv\n",
            "Parsing PARTICIPANT_experiment2a1_2022-03-21_12h32.38.467.csv\n",
            "Parsing 34_E2_1_2022-03-21_09h45.11.675.csv\n",
            "Parsing 61_E2_1_2022-03-21_13h45.27.517.csv\n",
            "Parsing 71_E2_1_2022-03-21_14h19.37.719.csv\n",
            "Parsing PARTICIPANT_experiment2a1_2022-03-21_09h27.30.995.csv\n",
            "Parsing 3_E2_1_2022-03-20_24h10.59.734.csv\n",
            "Parsing 10_E2_1_2022-03-21_08h48.54.466.csv\n",
            "Parsing 1_E2_1_2022-03-19_23h43.55.349.csv\n",
            "Parsing PARTICIPANT_experiment2a1_2022-03-21_16h10.34.794.csv\n",
            "Parsing 35_E2_1_2022-03-21_09h50.14.195.csv\n",
            "Parsing 36_E2_1_2022-03-21_09h52.51.958.csv\n",
            "Parsing 105_E2_1_2022-03-22_16h04.45.231.csv\n",
            "Parsing 122_E2_1_2022-03-23_13h59.19.158.csv\n",
            "Parsing 3_E2_1_2022-03-20_15h14.02.743.csv\n",
            "Parsing 88_E2_1_2022-03-21_10h45.39.979.csv\n",
            "Parsing 39_E2_1_2022-03-21_09h59.53.378.csv\n",
            "Parsing 69_E2_1_2022-03-21_14h13.28.087.csv\n",
            "Parsing PARTICIPANT_experiment2a1_2022-03-21_10h10.27.060.csv\n",
            "Parsing 63_E2_1_2022-03-21_13h49.55.957.csv\n",
            "Parsing 5_E2_1_2022-03-20_24h07.37.805.csv\n",
            "Parsing 49_E2_1_2022-03-21_12h08.52.327.csv\n",
            "Parsing 115_E2_1_2022-03-22_21h40.00.277.csv\n",
            "Parsing 100_E2_1_2022-03-22_11h10.18.238.csv\n",
            "Done, find the output at /content/gdrive/MyDrive/new_data.csv\n"
          ]
        }
      ]
    },
    {
      "cell_type": "code",
      "source": [
        "#for i in range(0, len(all_files)):\n",
        "# try:\n",
        "#  raw_data = pd.read_csv(all_files[i])\n",
        " # except pd.errors.EmptyDataError:\n",
        " #     print(all_files[i], \"is empty and has been skipped.\")\n",
        "      \n",
        "#raw_data.head(9)"
      ],
      "metadata": {
        "id": "9A1u9D3zu9pu"
      },
      "execution_count": null,
      "outputs": []
    },
    {
      "cell_type": "code",
      "source": [
        "#Counting all csv files\n",
        "\n",
        "print(len(all_files))"
      ],
      "metadata": {
        "colab": {
          "base_uri": "https://localhost:8080/"
        },
        "id": "-NTWa42RxmlY",
        "outputId": "33840ada-1f12-45a3-f688-1dc3e75f67b8"
      },
      "execution_count": null,
      "outputs": [
        {
          "output_type": "stream",
          "name": "stdout",
          "text": [
            "147\n"
          ]
        }
      ]
    },
    {
      "cell_type": "code",
      "source": [
        "#Converting to Dataframe\n",
        "\n",
        "df = pd.read_csv(\"/content/gdrive/MyDrive/new_data.csv\")"
      ],
      "metadata": {
        "id": "ii8CICBEqPem"
      },
      "execution_count": null,
      "outputs": []
    },
    {
      "cell_type": "code",
      "source": [
        "df.shape\n"
      ],
      "metadata": {
        "colab": {
          "base_uri": "https://localhost:8080/"
        },
        "id": "ZBkpRNDcq1Au",
        "outputId": "c9467526-8848-4a14-abaf-880aa9a94833"
      },
      "execution_count": null,
      "outputs": [
        {
          "output_type": "execute_result",
          "data": {
            "text/plain": [
              "(105, 246)"
            ]
          },
          "metadata": {},
          "execution_count": 44
        }
      ]
    },
    {
      "cell_type": "code",
      "source": [
        "df.head()"
      ],
      "metadata": {
        "colab": {
          "base_uri": "https://localhost:8080/",
          "height": 299
        },
        "id": "vnTc9hHaz2Qy",
        "outputId": "3ba8847a-695e-4c2e-b6e0-0989c75231a9"
      },
      "execution_count": null,
      "outputs": [
        {
          "output_type": "execute_result",
          "data": {
            "text/plain": [
              "   gender.response  trials.thisIndex key_p_2.rt  slider_23.response  \\\n",
              "0              3.0                 1        NaN                 4.0   \n",
              "1              1.0                 0        NaN                 NaN   \n",
              "2              1.0                 2   [37.291]                 6.0   \n",
              "3              3.0                 3        NaN                 NaN   \n",
              "4              1.0                 0        NaN                 NaN   \n",
              "\n",
              "   slider_73.rt  slider_41.response key_p_14.keys  slider_7.response  \\\n",
              "0        3.6168                 NaN           NaN                NaN   \n",
              "1           NaN                 5.0     [\"space\"]                NaN   \n",
              "2           NaN                 NaN           NaN                3.0   \n",
              "3           NaN                 1.0     [\"space\"]                NaN   \n",
              "4           NaN                 5.0     [\"space\"]                NaN   \n",
              "\n",
              "            key_p_11.rt  slider_46.rt  ...  slider_83.response  \\\n",
              "0                   NaN           NaN  ...                 NaN   \n",
              "1                   NaN        4.5545  ...                 5.0   \n",
              "2  [11.439100000000053]           NaN  ...                 NaN   \n",
              "3                   NaN        3.7380  ...                 3.0   \n",
              "4                   NaN        2.8017  ...                 5.0   \n",
              "\n",
              "   slider_17.response key_p_5.keys slider_55.response  slider_76.rt  \\\n",
              "0                 NaN    [\"space\"]                4.0        6.1099   \n",
              "1                 2.0          NaN                NaN           NaN   \n",
              "2                 NaN    [\"space\"]                4.0           NaN   \n",
              "3                 2.0          NaN                NaN           NaN   \n",
              "4                 2.0          NaN                NaN           NaN   \n",
              "\n",
              "            key_p_14.rt  slider_77.response  gender.rt slider_2.response  \\\n",
              "0                   NaN                 4.0     4.1554               4.0   \n",
              "1   [23.70979999995228]                 NaN   102.9279               NaN   \n",
              "2                   NaN                 NaN     1.3864               1.0   \n",
              "3  [15.095000000000027]                 NaN     3.0390               NaN   \n",
              "4  [30.896400000005997]                 NaN     7.4750               NaN   \n",
              "\n",
              "   slider_33.response  \n",
              "0                 NaN  \n",
              "1                 NaN  \n",
              "2                 NaN  \n",
              "3                 NaN  \n",
              "4                 NaN  \n",
              "\n",
              "[5 rows x 246 columns]"
            ],
            "text/html": [
              "\n",
              "  <div id=\"df-517f17f7-b500-4bbb-b6f9-5059f09c518f\">\n",
              "    <div class=\"colab-df-container\">\n",
              "      <div>\n",
              "<style scoped>\n",
              "    .dataframe tbody tr th:only-of-type {\n",
              "        vertical-align: middle;\n",
              "    }\n",
              "\n",
              "    .dataframe tbody tr th {\n",
              "        vertical-align: top;\n",
              "    }\n",
              "\n",
              "    .dataframe thead th {\n",
              "        text-align: right;\n",
              "    }\n",
              "</style>\n",
              "<table border=\"1\" class=\"dataframe\">\n",
              "  <thead>\n",
              "    <tr style=\"text-align: right;\">\n",
              "      <th></th>\n",
              "      <th>gender.response</th>\n",
              "      <th>trials.thisIndex</th>\n",
              "      <th>key_p_2.rt</th>\n",
              "      <th>slider_23.response</th>\n",
              "      <th>slider_73.rt</th>\n",
              "      <th>slider_41.response</th>\n",
              "      <th>key_p_14.keys</th>\n",
              "      <th>slider_7.response</th>\n",
              "      <th>key_p_11.rt</th>\n",
              "      <th>slider_46.rt</th>\n",
              "      <th>...</th>\n",
              "      <th>slider_83.response</th>\n",
              "      <th>slider_17.response</th>\n",
              "      <th>key_p_5.keys</th>\n",
              "      <th>slider_55.response</th>\n",
              "      <th>slider_76.rt</th>\n",
              "      <th>key_p_14.rt</th>\n",
              "      <th>slider_77.response</th>\n",
              "      <th>gender.rt</th>\n",
              "      <th>slider_2.response</th>\n",
              "      <th>slider_33.response</th>\n",
              "    </tr>\n",
              "  </thead>\n",
              "  <tbody>\n",
              "    <tr>\n",
              "      <th>0</th>\n",
              "      <td>3.0</td>\n",
              "      <td>1</td>\n",
              "      <td>NaN</td>\n",
              "      <td>4.0</td>\n",
              "      <td>3.6168</td>\n",
              "      <td>NaN</td>\n",
              "      <td>NaN</td>\n",
              "      <td>NaN</td>\n",
              "      <td>NaN</td>\n",
              "      <td>NaN</td>\n",
              "      <td>...</td>\n",
              "      <td>NaN</td>\n",
              "      <td>NaN</td>\n",
              "      <td>[\"space\"]</td>\n",
              "      <td>4.0</td>\n",
              "      <td>6.1099</td>\n",
              "      <td>NaN</td>\n",
              "      <td>4.0</td>\n",
              "      <td>4.1554</td>\n",
              "      <td>4.0</td>\n",
              "      <td>NaN</td>\n",
              "    </tr>\n",
              "    <tr>\n",
              "      <th>1</th>\n",
              "      <td>1.0</td>\n",
              "      <td>0</td>\n",
              "      <td>NaN</td>\n",
              "      <td>NaN</td>\n",
              "      <td>NaN</td>\n",
              "      <td>5.0</td>\n",
              "      <td>[\"space\"]</td>\n",
              "      <td>NaN</td>\n",
              "      <td>NaN</td>\n",
              "      <td>4.5545</td>\n",
              "      <td>...</td>\n",
              "      <td>5.0</td>\n",
              "      <td>2.0</td>\n",
              "      <td>NaN</td>\n",
              "      <td>NaN</td>\n",
              "      <td>NaN</td>\n",
              "      <td>[23.70979999995228]</td>\n",
              "      <td>NaN</td>\n",
              "      <td>102.9279</td>\n",
              "      <td>NaN</td>\n",
              "      <td>NaN</td>\n",
              "    </tr>\n",
              "    <tr>\n",
              "      <th>2</th>\n",
              "      <td>1.0</td>\n",
              "      <td>2</td>\n",
              "      <td>[37.291]</td>\n",
              "      <td>6.0</td>\n",
              "      <td>NaN</td>\n",
              "      <td>NaN</td>\n",
              "      <td>NaN</td>\n",
              "      <td>3.0</td>\n",
              "      <td>[11.439100000000053]</td>\n",
              "      <td>NaN</td>\n",
              "      <td>...</td>\n",
              "      <td>NaN</td>\n",
              "      <td>NaN</td>\n",
              "      <td>[\"space\"]</td>\n",
              "      <td>4.0</td>\n",
              "      <td>NaN</td>\n",
              "      <td>NaN</td>\n",
              "      <td>NaN</td>\n",
              "      <td>1.3864</td>\n",
              "      <td>1.0</td>\n",
              "      <td>NaN</td>\n",
              "    </tr>\n",
              "    <tr>\n",
              "      <th>3</th>\n",
              "      <td>3.0</td>\n",
              "      <td>3</td>\n",
              "      <td>NaN</td>\n",
              "      <td>NaN</td>\n",
              "      <td>NaN</td>\n",
              "      <td>1.0</td>\n",
              "      <td>[\"space\"]</td>\n",
              "      <td>NaN</td>\n",
              "      <td>NaN</td>\n",
              "      <td>3.7380</td>\n",
              "      <td>...</td>\n",
              "      <td>3.0</td>\n",
              "      <td>2.0</td>\n",
              "      <td>NaN</td>\n",
              "      <td>NaN</td>\n",
              "      <td>NaN</td>\n",
              "      <td>[15.095000000000027]</td>\n",
              "      <td>NaN</td>\n",
              "      <td>3.0390</td>\n",
              "      <td>NaN</td>\n",
              "      <td>NaN</td>\n",
              "    </tr>\n",
              "    <tr>\n",
              "      <th>4</th>\n",
              "      <td>1.0</td>\n",
              "      <td>0</td>\n",
              "      <td>NaN</td>\n",
              "      <td>NaN</td>\n",
              "      <td>NaN</td>\n",
              "      <td>5.0</td>\n",
              "      <td>[\"space\"]</td>\n",
              "      <td>NaN</td>\n",
              "      <td>NaN</td>\n",
              "      <td>2.8017</td>\n",
              "      <td>...</td>\n",
              "      <td>5.0</td>\n",
              "      <td>2.0</td>\n",
              "      <td>NaN</td>\n",
              "      <td>NaN</td>\n",
              "      <td>NaN</td>\n",
              "      <td>[30.896400000005997]</td>\n",
              "      <td>NaN</td>\n",
              "      <td>7.4750</td>\n",
              "      <td>NaN</td>\n",
              "      <td>NaN</td>\n",
              "    </tr>\n",
              "  </tbody>\n",
              "</table>\n",
              "<p>5 rows × 246 columns</p>\n",
              "</div>\n",
              "      <button class=\"colab-df-convert\" onclick=\"convertToInteractive('df-517f17f7-b500-4bbb-b6f9-5059f09c518f')\"\n",
              "              title=\"Convert this dataframe to an interactive table.\"\n",
              "              style=\"display:none;\">\n",
              "        \n",
              "  <svg xmlns=\"http://www.w3.org/2000/svg\" height=\"24px\"viewBox=\"0 0 24 24\"\n",
              "       width=\"24px\">\n",
              "    <path d=\"M0 0h24v24H0V0z\" fill=\"none\"/>\n",
              "    <path d=\"M18.56 5.44l.94 2.06.94-2.06 2.06-.94-2.06-.94-.94-2.06-.94 2.06-2.06.94zm-11 1L8.5 8.5l.94-2.06 2.06-.94-2.06-.94L8.5 2.5l-.94 2.06-2.06.94zm10 10l.94 2.06.94-2.06 2.06-.94-2.06-.94-.94-2.06-.94 2.06-2.06.94z\"/><path d=\"M17.41 7.96l-1.37-1.37c-.4-.4-.92-.59-1.43-.59-.52 0-1.04.2-1.43.59L10.3 9.45l-7.72 7.72c-.78.78-.78 2.05 0 2.83L4 21.41c.39.39.9.59 1.41.59.51 0 1.02-.2 1.41-.59l7.78-7.78 2.81-2.81c.8-.78.8-2.07 0-2.86zM5.41 20L4 18.59l7.72-7.72 1.47 1.35L5.41 20z\"/>\n",
              "  </svg>\n",
              "      </button>\n",
              "      \n",
              "  <style>\n",
              "    .colab-df-container {\n",
              "      display:flex;\n",
              "      flex-wrap:wrap;\n",
              "      gap: 12px;\n",
              "    }\n",
              "\n",
              "    .colab-df-convert {\n",
              "      background-color: #E8F0FE;\n",
              "      border: none;\n",
              "      border-radius: 50%;\n",
              "      cursor: pointer;\n",
              "      display: none;\n",
              "      fill: #1967D2;\n",
              "      height: 32px;\n",
              "      padding: 0 0 0 0;\n",
              "      width: 32px;\n",
              "    }\n",
              "\n",
              "    .colab-df-convert:hover {\n",
              "      background-color: #E2EBFA;\n",
              "      box-shadow: 0px 1px 2px rgba(60, 64, 67, 0.3), 0px 1px 3px 1px rgba(60, 64, 67, 0.15);\n",
              "      fill: #174EA6;\n",
              "    }\n",
              "\n",
              "    [theme=dark] .colab-df-convert {\n",
              "      background-color: #3B4455;\n",
              "      fill: #D2E3FC;\n",
              "    }\n",
              "\n",
              "    [theme=dark] .colab-df-convert:hover {\n",
              "      background-color: #434B5C;\n",
              "      box-shadow: 0px 1px 3px 1px rgba(0, 0, 0, 0.15);\n",
              "      filter: drop-shadow(0px 1px 2px rgba(0, 0, 0, 0.3));\n",
              "      fill: #FFFFFF;\n",
              "    }\n",
              "  </style>\n",
              "\n",
              "      <script>\n",
              "        const buttonEl =\n",
              "          document.querySelector('#df-517f17f7-b500-4bbb-b6f9-5059f09c518f button.colab-df-convert');\n",
              "        buttonEl.style.display =\n",
              "          google.colab.kernel.accessAllowed ? 'block' : 'none';\n",
              "\n",
              "        async function convertToInteractive(key) {\n",
              "          const element = document.querySelector('#df-517f17f7-b500-4bbb-b6f9-5059f09c518f');\n",
              "          const dataTable =\n",
              "            await google.colab.kernel.invokeFunction('convertToInteractive',\n",
              "                                                     [key], {});\n",
              "          if (!dataTable) return;\n",
              "\n",
              "          const docLinkHtml = 'Like what you see? Visit the ' +\n",
              "            '<a target=\"_blank\" href=https://colab.research.google.com/notebooks/data_table.ipynb>data table notebook</a>'\n",
              "            + ' to learn more about interactive tables.';\n",
              "          element.innerHTML = '';\n",
              "          dataTable['output_type'] = 'display_data';\n",
              "          await google.colab.output.renderOutput(dataTable, element);\n",
              "          const docLink = document.createElement('div');\n",
              "          docLink.innerHTML = docLinkHtml;\n",
              "          element.appendChild(docLink);\n",
              "        }\n",
              "      </script>\n",
              "    </div>\n",
              "  </div>\n",
              "  "
            ]
          },
          "metadata": {},
          "execution_count": 45
        }
      ]
    },
    {
      "cell_type": "code",
      "source": [
        "df.columns.to_list\n"
      ],
      "metadata": {
        "colab": {
          "base_uri": "https://localhost:8080/"
        },
        "id": "9DyZ7zj5rTze",
        "outputId": "59bc7488-d4c9-4df9-84be-4a9a578d4962"
      },
      "execution_count": null,
      "outputs": [
        {
          "output_type": "execute_result",
          "data": {
            "text/plain": [
              "<bound method IndexOpsMixin.tolist of Index(['gender.response', 'trials.thisIndex', 'key_p_2.rt',\n",
              "       'slider_23.response', 'slider_73.rt', 'slider_41.response',\n",
              "       'key_p_14.keys', 'slider_7.response', 'key_p_11.rt', 'slider_46.rt',\n",
              "       ...\n",
              "       'slider_83.response', 'slider_17.response', 'key_p_5.keys',\n",
              "       'slider_55.response', 'slider_76.rt', 'key_p_14.rt',\n",
              "       'slider_77.response', 'gender.rt', 'slider_2.response',\n",
              "       'slider_33.response'],\n",
              "      dtype='object', length=246)>"
            ]
          },
          "metadata": {},
          "execution_count": 46
        }
      ]
    },
    {
      "cell_type": "code",
      "source": [
        "print(df.columns.to_list())"
      ],
      "metadata": {
        "colab": {
          "base_uri": "https://localhost:8080/"
        },
        "id": "NONonVq8pxtg",
        "outputId": "1e3dcbc3-078b-42e6-805e-ab1d3a299f42"
      },
      "execution_count": null,
      "outputs": [
        {
          "output_type": "stream",
          "name": "stdout",
          "text": [
            "['gender.response', 'trials.thisIndex', 'key_p_2.rt', 'slider_23.response', 'slider_73.rt', 'slider_41.response', 'key_p_14.keys', 'slider_7.response', 'key_p_11.rt', 'slider_46.rt', 'slider_80.rt', 'slider_84.rt', 'key_p_10.keys', 'key_p_11.keys', 'slider_8.rt', 'slider_21.rt', 'slider_54.rt', 'slider_49.rt', 'pressSpace.keys', 'slider_82.response', 'slider_80.response', 'slider_28.response', 'trials.ran', 'slider_43.rt', 'age', 'slider_61.rt', 'slider.rt', 'key_p_16.rt', 'slider_22.rt', 'slider_42.response', 'session', 'key_p_18.rt', 'slider_32.rt', 'slider_35.response', 'slider_40.response', 'Condition', 'slider_14.rt', 'slider_58.rt', 'slider_37.rt', 'slider_5.response', 'key_p_7.keys', 'slider_82.rt', 'trials.order', 'slider_50.rt', 'slider_6.response', 'slider_55.rt', 'slider_75.rt', 'slider_57.response', 'slider_34.rt', 'key_p_4.rt', 'key_p_9.keys', 'slider_84.response', 'slider_23.rt', 'slider_77.rt', 'slider_31.rt', 'slider_59.rt', 'key_p_8.rt', 'key_p_12.keys', 'slider_61.response', 'slider_63.response', 'slider_53.response', 'ActorGender', 'slider_8.response', 'participant', 'slider_72.rt', 'slider_24.rt', 'slider_52.rt', 'slider_16.rt', 'key_p_13.keys', 'slider_48.response', 'slider_36.rt', 'slider_76.response', 'slider_5.rt', 'expName', 'slider_38.response', 'slider_36.response', 'slider_83.rt', 'slider_h.response', 'slider_30.rt', 'slider_46.response', 'slider_18.response', 'slider_58.response', 'key_p_17.keys', 'slider_25.rt', 'researcher', 'slider_26.rt', 'slider_68.response', '\\ufeffkey_resp.keys', 'key_p_15.keys', 'slider_32.response', 'slider_72.response', 'slider_9.response', 'key_resp_4.rt', 'slider_62.response', 'slider_11.response', 'slider_17.rt', 'slider_51.rt', 'slider_6.rt', 'slider_24.response', 'slider_71.rt', 'age.keys', 'trials.thisRepN', 'slider_2.rt', 'slider_81.response', 'slider_12.response', 'key_p_4.keys', 'video', 'slider_74.response', 'slider_43.response', 'slider_39.rt', 'slider_47.response', 'key_resp_7.rt', 'slider_7.rt', 'key_p_18.keys', 'agree_or_disagree.keys', 'date', 'slider_12.rt', 'slider_10.rt', 'slider_4.rt', 'key_resp_6.rt', 'slider_65.rt', 'key_resp.rt', 'slider_20.response', 'slider_22.response', 'agree_or_disagree.rt', 'slider_39.response', 'slider_35.rt', 'slider_65.response', 'key_p_9.rt', 'key_p_6.rt', 'slider_31.response', 'slider_25.response', 'key_p_8.keys', 'slider_49.response', 'slider_60.rt', 'slider_48.rt', 'key_p_17.rt', 'slider_68.rt', 'slider_71.response', 'trials.thisN', 'slider_13.rt', 'slider_19.response', 'key_resp_5.keys', 'key_p_6.keys', 'key_resp_3.rt', 'slider_13.response', 'slider_18.rt', 'slider_15.response', 'slider_4.response', 'slider_53.rt', 'slider_52.response', 'slider_67.rt', 'key_p_3.rt', 'slider_57.rt', 'slider_14.response', 'slider_50.response', 'slider_3.response', 'slider_45.response', 'key_resp_2.keys', 'slider_27.response', 'key_resp_6.keys', 'Speed', 'slider_70.rt', 'slider_29.response', 'slider_3.rt', 'slider_27.rt', 'slider_40.rt', 'slider_70.response', 'slider_26.response', 'slider_74.rt', 'slider_54.response', 'key_resp_2.rt', 'slider.response', 'slider_h.rt', 'key_p.keys', 'key_p.rt', 'slider_60.response', 'slider_69.response', 'slider_30.response', 'slider_69.rt', 'slider_79.response', 'key_resp_7.keys', 'slider_37.response', 'slider_16.response', 'OS', 'slider_9.rt', 'slider_73.response', 'slider_79.rt', 'key_p_10.rt', 'slider_64.response', 'slider_28.rt', 'slider_38.rt', 'slider_29.rt', 'slider_47.rt', 'slider_44.response', 'key_p_13.rt', 'slider_66.response', 'key_p_2.keys', 'key_p_12.rt', 'key_p_3.keys', 'slider_10.response', 'slider_51.response', 'key_resp_4.keys', 'slider_34.response', 'key_resp_3.keys', 'slider_45.rt', 'trials.thisTrialN', 'psychopyVersion', 'age.rt', 'key_p_7.rt', 'slider_78.rt', 'key_p_5.rt', 'slider_62.rt', 'slider_63.rt', 'slider_41.rt', 'id', 'pressSpace.rt', 'slider_66.rt', 'slider_44.rt', 'slider_15.rt', 'key_p_15.rt', 'slider_78.response', 'slider_21.response', 'slider_42.rt', 'slider_59.response', 'key_p_16.keys', 'slider_67.response', 'slider_11.rt', 'slider_20.rt', 'slider_64.rt', 'frameRate', 'slider_75.response', 'key_resp_5.rt', 'slider_19.rt', 'slider_33.rt', 'slider_81.rt', 'slider_83.response', 'slider_17.response', 'key_p_5.keys', 'slider_55.response', 'slider_76.rt', 'key_p_14.rt', 'slider_77.response', 'gender.rt', 'slider_2.response', 'slider_33.response']\n"
          ]
        }
      ]
    },
    {
      "cell_type": "code",
      "source": [
        "df.rename(columns = {'\\ufeffkey_resp.keys':'key_resp.keys'}, inplace = True)"
      ],
      "metadata": {
        "id": "2UR-aDusepv8"
      },
      "execution_count": null,
      "outputs": []
    },
    {
      "cell_type": "code",
      "source": [
        "df.columns"
      ],
      "metadata": {
        "colab": {
          "base_uri": "https://localhost:8080/"
        },
        "id": "jwRjAIIB0szf",
        "outputId": "e546a3f5-1fd8-4053-ec67-652f91570a19"
      },
      "execution_count": null,
      "outputs": [
        {
          "output_type": "execute_result",
          "data": {
            "text/plain": [
              "Index(['gender.response', 'trials.thisIndex', 'key_p_2.rt',\n",
              "       'slider_23.response', 'slider_73.rt', 'slider_41.response',\n",
              "       'key_p_14.keys', 'slider_7.response', 'key_p_11.rt', 'slider_46.rt',\n",
              "       ...\n",
              "       'slider_83.response', 'slider_17.response', 'key_p_5.keys',\n",
              "       'slider_55.response', 'slider_76.rt', 'key_p_14.rt',\n",
              "       'slider_77.response', 'gender.rt', 'slider_2.response',\n",
              "       'slider_33.response'],\n",
              "      dtype='object', length=246)"
            ]
          },
          "metadata": {},
          "execution_count": 57
        }
      ]
    },
    {
      "cell_type": "code",
      "source": [
        "df['key_resp.keys']"
      ],
      "metadata": {
        "colab": {
          "base_uri": "https://localhost:8080/"
        },
        "id": "xtY7UJrWsPZg",
        "outputId": "6a2e61d2-739f-45a6-f104-222581ab5fae"
      },
      "execution_count": null,
      "outputs": [
        {
          "output_type": "execute_result",
          "data": {
            "text/plain": [
              "0      space\n",
              "1      space\n",
              "2      space\n",
              "3      space\n",
              "4      space\n",
              "       ...  \n",
              "100    space\n",
              "101    space\n",
              "102    space\n",
              "103    space\n",
              "104    space\n",
              "Name: key_resp.keys, Length: 105, dtype: object"
            ]
          },
          "metadata": {},
          "execution_count": 58
        }
      ]
    },
    {
      "cell_type": "code",
      "source": [
        "display(df.dtypes)"
      ],
      "metadata": {
        "id": "oxkMXavBrkyv",
        "colab": {
          "base_uri": "https://localhost:8080/",
          "height": 225
        },
        "outputId": "0122bd88-fbaf-4506-802e-e8ef21095000"
      },
      "execution_count": null,
      "outputs": [
        {
          "output_type": "display_data",
          "data": {
            "text/plain": [
              "gender.response       float64\n",
              "trials.thisIndex        int64\n",
              "key_p_2.rt             object\n",
              "slider_23.response    float64\n",
              "slider_73.rt          float64\n",
              "                       ...   \n",
              "key_p_14.rt            object\n",
              "slider_77.response    float64\n",
              "gender.rt             float64\n",
              "slider_2.response     float64\n",
              "slider_33.response    float64\n",
              "Length: 246, dtype: object"
            ]
          },
          "metadata": {}
        }
      ]
    },
    {
      "cell_type": "code",
      "source": [
        "print(\"\\nThis is index of DataFrame:\\n\")\n",
        "for idx in df.index:\n",
        "    print(idx, end = ' ')"
      ],
      "metadata": {
        "colab": {
          "base_uri": "https://localhost:8080/"
        },
        "id": "pRfFAQ5agvpd",
        "outputId": "73835ce1-2f4a-4d1d-b370-05fb5b5425d6"
      },
      "execution_count": null,
      "outputs": [
        {
          "output_type": "stream",
          "name": "stdout",
          "text": [
            "\n",
            "This is index of DataFrame:\n",
            "\n",
            "0 1 2 3 4 5 6 7 8 9 10 11 12 13 14 15 16 17 18 19 20 21 22 23 24 25 26 27 28 29 30 31 32 33 34 35 36 37 38 39 40 41 42 43 44 45 46 47 48 49 50 51 52 53 54 55 56 57 58 59 60 61 62 63 64 65 66 67 68 69 70 71 72 73 74 75 76 77 78 79 80 81 82 83 84 85 86 87 88 89 90 91 92 93 94 95 96 97 98 99 100 101 102 103 104 "
          ]
        }
      ]
    },
    {
      "cell_type": "code",
      "source": [
        "print(df.columns.to_list())"
      ],
      "metadata": {
        "colab": {
          "base_uri": "https://localhost:8080/"
        },
        "id": "DzRBBOUgbAy-",
        "outputId": "333908f6-4389-4365-d377-9d64ab6f6aec"
      },
      "execution_count": null,
      "outputs": [
        {
          "output_type": "stream",
          "name": "stdout",
          "text": [
            "['gender.response', 'trials.thisIndex', 'key_p_2.rt', 'slider_23.response', 'slider_73.rt', 'slider_41.response', 'key_p_14.keys', 'slider_7.response', 'key_p_11.rt', 'slider_46.rt', 'slider_80.rt', 'slider_84.rt', 'key_p_10.keys', 'key_p_11.keys', 'slider_8.rt', 'slider_21.rt', 'slider_54.rt', 'slider_49.rt', 'pressSpace.keys', 'slider_82.response', 'slider_80.response', 'slider_28.response', 'trials.ran', 'slider_43.rt', 'age', 'slider_61.rt', 'slider.rt', 'key_p_16.rt', 'slider_22.rt', 'slider_42.response', 'session', 'key_p_18.rt', 'slider_32.rt', 'slider_35.response', 'slider_40.response', 'Condition', 'slider_14.rt', 'slider_58.rt', 'slider_37.rt', 'slider_5.response', 'key_p_7.keys', 'slider_82.rt', 'trials.order', 'slider_50.rt', 'slider_6.response', 'slider_55.rt', 'slider_75.rt', 'slider_57.response', 'slider_34.rt', 'key_p_4.rt', 'key_p_9.keys', 'slider_84.response', 'slider_23.rt', 'slider_77.rt', 'slider_31.rt', 'slider_59.rt', 'key_p_8.rt', 'key_p_12.keys', 'slider_61.response', 'slider_63.response', 'slider_53.response', 'ActorGender', 'slider_8.response', 'participant', 'slider_72.rt', 'slider_24.rt', 'slider_52.rt', 'slider_16.rt', 'key_p_13.keys', 'slider_48.response', 'slider_36.rt', 'slider_76.response', 'slider_5.rt', 'expName', 'slider_38.response', 'slider_36.response', 'slider_83.rt', 'slider_h.response', 'slider_30.rt', 'slider_46.response', 'slider_18.response', 'slider_58.response', 'key_p_17.keys', 'slider_25.rt', 'researcher', 'slider_26.rt', 'slider_68.response', 'key_resp.keys', 'key_p_15.keys', 'slider_32.response', 'slider_72.response', 'slider_9.response', 'key_resp_4.rt', 'slider_62.response', 'slider_11.response', 'slider_17.rt', 'slider_51.rt', 'slider_6.rt', 'slider_24.response', 'slider_71.rt', 'age.keys', 'trials.thisRepN', 'slider_2.rt', 'slider_81.response', 'slider_12.response', 'key_p_4.keys', 'video', 'slider_74.response', 'slider_43.response', 'slider_39.rt', 'slider_47.response', 'key_resp_7.rt', 'slider_7.rt', 'key_p_18.keys', 'agree_or_disagree.keys', 'date', 'slider_12.rt', 'slider_10.rt', 'slider_4.rt', 'key_resp_6.rt', 'slider_65.rt', 'key_resp.rt', 'slider_20.response', 'slider_22.response', 'agree_or_disagree.rt', 'slider_39.response', 'slider_35.rt', 'slider_65.response', 'key_p_9.rt', 'key_p_6.rt', 'slider_31.response', 'slider_25.response', 'key_p_8.keys', 'slider_49.response', 'slider_60.rt', 'slider_48.rt', 'key_p_17.rt', 'slider_68.rt', 'slider_71.response', 'trials.thisN', 'slider_13.rt', 'slider_19.response', 'key_resp_5.keys', 'key_p_6.keys', 'key_resp_3.rt', 'slider_13.response', 'slider_18.rt', 'slider_15.response', 'slider_4.response', 'slider_53.rt', 'slider_52.response', 'slider_67.rt', 'key_p_3.rt', 'slider_57.rt', 'slider_14.response', 'slider_50.response', 'slider_3.response', 'slider_45.response', 'key_resp_2.keys', 'slider_27.response', 'key_resp_6.keys', 'Speed', 'slider_70.rt', 'slider_29.response', 'slider_3.rt', 'slider_27.rt', 'slider_40.rt', 'slider_70.response', 'slider_26.response', 'slider_74.rt', 'slider_54.response', 'key_resp_2.rt', 'slider.response', 'slider_h.rt', 'key_p.keys', 'key_p.rt', 'slider_60.response', 'slider_69.response', 'slider_30.response', 'slider_69.rt', 'slider_79.response', 'key_resp_7.keys', 'slider_37.response', 'slider_16.response', 'OS', 'slider_9.rt', 'slider_73.response', 'slider_79.rt', 'key_p_10.rt', 'slider_64.response', 'slider_28.rt', 'slider_38.rt', 'slider_29.rt', 'slider_47.rt', 'slider_44.response', 'key_p_13.rt', 'slider_66.response', 'key_p_2.keys', 'key_p_12.rt', 'key_p_3.keys', 'slider_10.response', 'slider_51.response', 'key_resp_4.keys', 'slider_34.response', 'key_resp_3.keys', 'slider_45.rt', 'trials.thisTrialN', 'psychopyVersion', 'age.rt', 'key_p_7.rt', 'slider_78.rt', 'key_p_5.rt', 'slider_62.rt', 'slider_63.rt', 'slider_41.rt', 'id', 'pressSpace.rt', 'slider_66.rt', 'slider_44.rt', 'slider_15.rt', 'key_p_15.rt', 'slider_78.response', 'slider_21.response', 'slider_42.rt', 'slider_59.response', 'key_p_16.keys', 'slider_67.response', 'slider_11.rt', 'slider_20.rt', 'slider_64.rt', 'frameRate', 'slider_75.response', 'key_resp_5.rt', 'slider_19.rt', 'slider_33.rt', 'slider_81.rt', 'slider_83.response', 'slider_17.response', 'key_p_5.keys', 'slider_55.response', 'slider_76.rt', 'key_p_14.rt', 'slider_77.response', 'gender.rt', 'slider_2.response', 'slider_33.response']\n"
          ]
        }
      ]
    },
    {
      "cell_type": "code",
      "source": [
        "#Order data\n",
        "new_order = [\"participant\",\"key_resp.keys\",\"key_resp.rt\",\"key_resp_4.keys\",\"key_resp_4.rt\",\"agree_or_disagree.keys\",\"agree_or_disagree.rt\",\"key_resp_2.keys\",\"key_resp_2.rt\",\"gender.response\",\"gender.rt\",\"age.keys\",\"age.rt\",\"age\",\"key_resp_5.keys\",\"key_resp_5.rt\",\"pressSpace.keys\",\"pressSpace.rt\",\"key_resp_3.keys\",\"key_resp_3.rt\",\"key_resp_6.keys\",\"key_resp_6.rt\",\"key_resp_7.keys\",\"key_resp_7.rt\",\"slider_6.response\",\"slider_6.rt\",\"slider_7.response\",\"slider_7.rt\",\"slider_8.response\",\"slider_8.rt\",\"slider_10.response\",\"slider_10.rt\",\"slider_9.response\",\"slider_9.rt\",\"slider_50.response\",\"slider_50.rt\",\"key_p_2.keys\",\"key_p_2.rt\",\"slider_72.response\",\"slider_72.rt\",\"slider_73.response\",\"slider_73.rt\",\"slider_74.response\",\"slider_74.rt\",\"slider_75.response\",\"slider_75.rt\",\"slider_76.response\",\"slider_76.rt\",\"slider_77.response\",\"slider_77.rt\",\"key_p_15.keys\", \"key_p_15.rt\", \"slider_11.response\",\"slider_11.rt\",\"slider_12.response\",\"slider_12.rt\",\"slider_13.response\",\"slider_13.rt\",\"slider_14.response\",\"slider_14.rt\",\"slider_15.response\",\"slider_15.rt\",\"slider_61.response\",\"slider_61.rt\",\"key_p_3.keys\",\"key_p_3.rt\",\"slider_16.response\",\"slider_16.rt\",\"slider_17.response\",\"slider_17.rt\",\"slider_18.response\",\"slider_18.rt\",\"slider_19.response\",\"slider_19.rt\",\"slider_20.response\",\"slider_20.rt\",\"slider_62.response\",\"slider_62.rt\",\"key_p_4.keys\",\"key_p_4.rt\", \"slider_33.response\",\"slider_33.rt\",\"slider_34.response\",\"slider_34.rt\",\"slider_35.response\",\"slider_35.rt\",\"slider_36.response\",\"slider_36.rt\",\"slider_37.response\",\"slider_37.rt\",\"slider_63.response\",\"slider_63.rt\",\"key_p_7.keys\",\"key_p_7.rt\", \"slider_78.response\",\"slider_78.rt\",\"slider_79.response\",\"slider_79.rt\",\"slider_80.response\",\"slider_80.rt\",\"slider_81.response\",\"slider_81.rt\",\"slider_82.response\",\"slider_82.rt\",\"slider_83.response\",\"slider_83.rt\",\"key_p_16.keys\",\"key_p_16.rt\", \"slider.response\",\"slider.rt\",\"slider_2.response\",\"slider_2.rt\",\"slider_h.response\",\"slider_h.rt\",\"slider_3.response\",\"slider_3.rt\",\"slider_4.response\",\"slider_4.rt\",\"slider_5.response\",\"slider_5.rt\",\"key_p.keys\",\"key_p.rt\",\"slider_39.response\",\"slider_39.rt\",\"slider_21.response\",\"slider_21.rt\",\"slider_22.response\",\"slider_22.rt\",\"slider_26.response\",\"slider_26.rt\",\"slider_23.response\",\"slider_23.rt\",\"slider_24.response\",\"slider_24.rt\",\"slider_25.response\",\"slider_25.rt\",\"key_p_5.keys\",\"key_p_5.rt\",\"slider_27.response\",\"slider_27.rt\",\"slider_28.response\",\"slider_28.rt\",\"slider_32.response\",\"slider_32.rt\",\"slider_29.response\",\"slider_29.rt\",\"slider_30.response\",\"slider_30.rt\",\"slider_31.response\",\"slider_31.rt\",\"key_p_6.keys\", \"key_p_6.rt\", \"slider_46.response\",\"slider_46.rt\",\"slider_40.response\",\"slider_40.rt\",\"slider_41.response\",\"slider_41.rt\",\"slider_42.response\",\"slider_42.rt\",\"slider_43.response\",\"slider_43.rt\",\"slider_44.response\",\"slider_44.rt\",\"slider_45.response\",\"slider_45.rt\",\"key_p_8.keys\",\"key_p_8.rt\", \"slider_38.response\",\"slider_38.rt\",\"slider_47.response\",\"slider_47.rt\",\"slider_48.response\",\"slider_48.rt\",\"slider_49.response\",\"slider_49.rt\",\"key_p_9.keys\",\"key_p_9.rt\",\"slider_51.response\",\"slider_51.rt\",\"slider_52.response\",\"slider_52.rt\",\"slider_53.response\",\"slider_53.rt\",\"slider_54.response\",\"slider_54.rt\",\"key_p_10.keys\", \"key_p_10.rt\",\"slider_57.response\",\"slider_57.rt\",\"key_p_11.keys\",\"key_p_11.rt\",\"slider_60.response\",\"slider_60.rt\",\"key_p_17.keys\", \"key_p_17.rt\", \"slider_59.response\",\"slider_59.rt\",\"key_p_12.keys\", \"key_p_12.rt\", \"slider_84.response\",\"slider_84.rt\",\"key_p_18.keys\", \"key_p_18.rt\", \"slider_55.response\",\"slider_55.rt\",\"slider_58.response\",\"slider_58.rt\",\"slider_64.response\",\"slider_64.rt\",\"slider_65.response\",\"slider_65.rt\",\"slider_70.response\",\"slider_70.rt\",\"key_p_13.keys\",\"key_p_13.rt\",\"slider_66.response\",\"slider_66.rt\",\"slider_67.response\",\"slider_67.rt\",\"slider_68.response\",\"slider_68.rt\",\"slider_69.response\",\"slider_69.rt\",\"slider_71.response\",\"slider_71.rt\",\"key_p_14.keys\", \"key_p_14.rt\", \"trials.thisRepN\",\"trials.thisTrialN\",\"trials.thisN\",\"trials.thisIndex\",\"trials.ran\",\"video\",\"Condition\",\"ActorGender\",\"Speed\",\"id\",\"date\",\"expName\",\"psychopyVersion\",\"OS\",\"frameRate\", \"session\", \"researcher\"]\n",
        "\n"
      ],
      "metadata": {
        "id": "0Owdifw70oIu"
      },
      "execution_count": null,
      "outputs": []
    },
    {
      "cell_type": "code",
      "source": [
        "type(df.index)"
      ],
      "metadata": {
        "colab": {
          "base_uri": "https://localhost:8080/"
        },
        "id": "WbAe8fVIWgSh",
        "outputId": "f5796982-0c46-41a8-ebb9-d5f6cad78b2e"
      },
      "execution_count": null,
      "outputs": [
        {
          "output_type": "execute_result",
          "data": {
            "text/plain": [
              "pandas.core.indexes.range.RangeIndex"
            ]
          },
          "metadata": {},
          "execution_count": 63
        }
      ]
    },
    {
      "cell_type": "code",
      "source": [
        "df = df[new_order]"
      ],
      "metadata": {
        "id": "2nLxO-k7XgyK"
      },
      "execution_count": null,
      "outputs": []
    },
    {
      "cell_type": "code",
      "source": [
        "df.head()"
      ],
      "metadata": {
        "colab": {
          "base_uri": "https://localhost:8080/",
          "height": 386
        },
        "id": "_0QtwVKviZHf",
        "outputId": "176c4ec0-0f28-4105-b44e-e8bbfde8b3ba"
      },
      "execution_count": null,
      "outputs": [
        {
          "output_type": "execute_result",
          "data": {
            "text/plain": [
              "   participant key_resp.keys  key_resp.rt key_resp_4.keys  key_resp_4.rt  \\\n",
              "0            3         space       0.5531           space         0.3997   \n",
              "1           11         space       5.8407           space         1.1920   \n",
              "2            4         space       3.0992           space         0.7498   \n",
              "3           33         space       6.2580           space        13.4130   \n",
              "4           66         space      28.3766           space         1.7674   \n",
              "\n",
              "  agree_or_disagree.keys  agree_or_disagree.rt key_resp_2.keys  key_resp_2.rt  \\\n",
              "0                      y                1.1465           space         0.3028   \n",
              "1                      y                2.9964           space         3.4004   \n",
              "2                      y                3.2939           space         1.4831   \n",
              "3                      y                7.2610           space         2.2210   \n",
              "4                      y                4.5142           space         2.1485   \n",
              "\n",
              "   gender.response  ...  ActorGender Speed                        id  \\\n",
              "0              3.0  ...       Female  Slow                       NaN   \n",
              "1              1.0  ...       Female  Fast  5fa7d207ce6cd4566fffb98a   \n",
              "2              1.0  ...         Male  Fast  5e27876c0e14439c6526bd6b   \n",
              "3              3.0  ...         Male  Slow  5ff7546d809b253e92a6a7e8   \n",
              "4              1.0  ...       Female  Fast  60353d9e0ec00c75e3459f66   \n",
              "\n",
              "                      date expName  psychopyVersion     OS   frameRate  \\\n",
              "0  2022-03-20_15h40.52.842    E2_1         2021.2.3  Win32   60.150376   \n",
              "1  2022-03-21_08h51.17.284    E2_1         2021.2.3  Win32   59.858733   \n",
              "2  2022-03-21_06h34.28.004    E2_1         2021.2.3  Win32  120.004800   \n",
              "3  2022-03-21_09h47.03.771    E2_1         2021.2.3  Win32   11.958862   \n",
              "4  2022-03-21_14h00.01.398    E2_1         2021.2.3  Win32   61.345930   \n",
              "\n",
              "                    session                researcher  \n",
              "0                       NaN                       NaN  \n",
              "1  62383c6b9742914ee872cc49  62376da1ab49ea3df18c848c  \n",
              "2  62381c4f2aebb766a119052c  62376da1ab49ea3df18c848c  \n",
              "3  623847cb4e401aa5103cc353  62376da1ab49ea3df18c848c  \n",
              "4  623884d5450da2fd09af6436  62376da1ab49ea3df18c848c  \n",
              "\n",
              "[5 rows x 245 columns]"
            ],
            "text/html": [
              "\n",
              "  <div id=\"df-b4642480-459d-4ac0-b258-ca6c0b8f00fa\">\n",
              "    <div class=\"colab-df-container\">\n",
              "      <div>\n",
              "<style scoped>\n",
              "    .dataframe tbody tr th:only-of-type {\n",
              "        vertical-align: middle;\n",
              "    }\n",
              "\n",
              "    .dataframe tbody tr th {\n",
              "        vertical-align: top;\n",
              "    }\n",
              "\n",
              "    .dataframe thead th {\n",
              "        text-align: right;\n",
              "    }\n",
              "</style>\n",
              "<table border=\"1\" class=\"dataframe\">\n",
              "  <thead>\n",
              "    <tr style=\"text-align: right;\">\n",
              "      <th></th>\n",
              "      <th>participant</th>\n",
              "      <th>key_resp.keys</th>\n",
              "      <th>key_resp.rt</th>\n",
              "      <th>key_resp_4.keys</th>\n",
              "      <th>key_resp_4.rt</th>\n",
              "      <th>agree_or_disagree.keys</th>\n",
              "      <th>agree_or_disagree.rt</th>\n",
              "      <th>key_resp_2.keys</th>\n",
              "      <th>key_resp_2.rt</th>\n",
              "      <th>gender.response</th>\n",
              "      <th>...</th>\n",
              "      <th>ActorGender</th>\n",
              "      <th>Speed</th>\n",
              "      <th>id</th>\n",
              "      <th>date</th>\n",
              "      <th>expName</th>\n",
              "      <th>psychopyVersion</th>\n",
              "      <th>OS</th>\n",
              "      <th>frameRate</th>\n",
              "      <th>session</th>\n",
              "      <th>researcher</th>\n",
              "    </tr>\n",
              "  </thead>\n",
              "  <tbody>\n",
              "    <tr>\n",
              "      <th>0</th>\n",
              "      <td>3</td>\n",
              "      <td>space</td>\n",
              "      <td>0.5531</td>\n",
              "      <td>space</td>\n",
              "      <td>0.3997</td>\n",
              "      <td>y</td>\n",
              "      <td>1.1465</td>\n",
              "      <td>space</td>\n",
              "      <td>0.3028</td>\n",
              "      <td>3.0</td>\n",
              "      <td>...</td>\n",
              "      <td>Female</td>\n",
              "      <td>Slow</td>\n",
              "      <td>NaN</td>\n",
              "      <td>2022-03-20_15h40.52.842</td>\n",
              "      <td>E2_1</td>\n",
              "      <td>2021.2.3</td>\n",
              "      <td>Win32</td>\n",
              "      <td>60.150376</td>\n",
              "      <td>NaN</td>\n",
              "      <td>NaN</td>\n",
              "    </tr>\n",
              "    <tr>\n",
              "      <th>1</th>\n",
              "      <td>11</td>\n",
              "      <td>space</td>\n",
              "      <td>5.8407</td>\n",
              "      <td>space</td>\n",
              "      <td>1.1920</td>\n",
              "      <td>y</td>\n",
              "      <td>2.9964</td>\n",
              "      <td>space</td>\n",
              "      <td>3.4004</td>\n",
              "      <td>1.0</td>\n",
              "      <td>...</td>\n",
              "      <td>Female</td>\n",
              "      <td>Fast</td>\n",
              "      <td>5fa7d207ce6cd4566fffb98a</td>\n",
              "      <td>2022-03-21_08h51.17.284</td>\n",
              "      <td>E2_1</td>\n",
              "      <td>2021.2.3</td>\n",
              "      <td>Win32</td>\n",
              "      <td>59.858733</td>\n",
              "      <td>62383c6b9742914ee872cc49</td>\n",
              "      <td>62376da1ab49ea3df18c848c</td>\n",
              "    </tr>\n",
              "    <tr>\n",
              "      <th>2</th>\n",
              "      <td>4</td>\n",
              "      <td>space</td>\n",
              "      <td>3.0992</td>\n",
              "      <td>space</td>\n",
              "      <td>0.7498</td>\n",
              "      <td>y</td>\n",
              "      <td>3.2939</td>\n",
              "      <td>space</td>\n",
              "      <td>1.4831</td>\n",
              "      <td>1.0</td>\n",
              "      <td>...</td>\n",
              "      <td>Male</td>\n",
              "      <td>Fast</td>\n",
              "      <td>5e27876c0e14439c6526bd6b</td>\n",
              "      <td>2022-03-21_06h34.28.004</td>\n",
              "      <td>E2_1</td>\n",
              "      <td>2021.2.3</td>\n",
              "      <td>Win32</td>\n",
              "      <td>120.004800</td>\n",
              "      <td>62381c4f2aebb766a119052c</td>\n",
              "      <td>62376da1ab49ea3df18c848c</td>\n",
              "    </tr>\n",
              "    <tr>\n",
              "      <th>3</th>\n",
              "      <td>33</td>\n",
              "      <td>space</td>\n",
              "      <td>6.2580</td>\n",
              "      <td>space</td>\n",
              "      <td>13.4130</td>\n",
              "      <td>y</td>\n",
              "      <td>7.2610</td>\n",
              "      <td>space</td>\n",
              "      <td>2.2210</td>\n",
              "      <td>3.0</td>\n",
              "      <td>...</td>\n",
              "      <td>Male</td>\n",
              "      <td>Slow</td>\n",
              "      <td>5ff7546d809b253e92a6a7e8</td>\n",
              "      <td>2022-03-21_09h47.03.771</td>\n",
              "      <td>E2_1</td>\n",
              "      <td>2021.2.3</td>\n",
              "      <td>Win32</td>\n",
              "      <td>11.958862</td>\n",
              "      <td>623847cb4e401aa5103cc353</td>\n",
              "      <td>62376da1ab49ea3df18c848c</td>\n",
              "    </tr>\n",
              "    <tr>\n",
              "      <th>4</th>\n",
              "      <td>66</td>\n",
              "      <td>space</td>\n",
              "      <td>28.3766</td>\n",
              "      <td>space</td>\n",
              "      <td>1.7674</td>\n",
              "      <td>y</td>\n",
              "      <td>4.5142</td>\n",
              "      <td>space</td>\n",
              "      <td>2.1485</td>\n",
              "      <td>1.0</td>\n",
              "      <td>...</td>\n",
              "      <td>Female</td>\n",
              "      <td>Fast</td>\n",
              "      <td>60353d9e0ec00c75e3459f66</td>\n",
              "      <td>2022-03-21_14h00.01.398</td>\n",
              "      <td>E2_1</td>\n",
              "      <td>2021.2.3</td>\n",
              "      <td>Win32</td>\n",
              "      <td>61.345930</td>\n",
              "      <td>623884d5450da2fd09af6436</td>\n",
              "      <td>62376da1ab49ea3df18c848c</td>\n",
              "    </tr>\n",
              "  </tbody>\n",
              "</table>\n",
              "<p>5 rows × 245 columns</p>\n",
              "</div>\n",
              "      <button class=\"colab-df-convert\" onclick=\"convertToInteractive('df-b4642480-459d-4ac0-b258-ca6c0b8f00fa')\"\n",
              "              title=\"Convert this dataframe to an interactive table.\"\n",
              "              style=\"display:none;\">\n",
              "        \n",
              "  <svg xmlns=\"http://www.w3.org/2000/svg\" height=\"24px\"viewBox=\"0 0 24 24\"\n",
              "       width=\"24px\">\n",
              "    <path d=\"M0 0h24v24H0V0z\" fill=\"none\"/>\n",
              "    <path d=\"M18.56 5.44l.94 2.06.94-2.06 2.06-.94-2.06-.94-.94-2.06-.94 2.06-2.06.94zm-11 1L8.5 8.5l.94-2.06 2.06-.94-2.06-.94L8.5 2.5l-.94 2.06-2.06.94zm10 10l.94 2.06.94-2.06 2.06-.94-2.06-.94-.94-2.06-.94 2.06-2.06.94z\"/><path d=\"M17.41 7.96l-1.37-1.37c-.4-.4-.92-.59-1.43-.59-.52 0-1.04.2-1.43.59L10.3 9.45l-7.72 7.72c-.78.78-.78 2.05 0 2.83L4 21.41c.39.39.9.59 1.41.59.51 0 1.02-.2 1.41-.59l7.78-7.78 2.81-2.81c.8-.78.8-2.07 0-2.86zM5.41 20L4 18.59l7.72-7.72 1.47 1.35L5.41 20z\"/>\n",
              "  </svg>\n",
              "      </button>\n",
              "      \n",
              "  <style>\n",
              "    .colab-df-container {\n",
              "      display:flex;\n",
              "      flex-wrap:wrap;\n",
              "      gap: 12px;\n",
              "    }\n",
              "\n",
              "    .colab-df-convert {\n",
              "      background-color: #E8F0FE;\n",
              "      border: none;\n",
              "      border-radius: 50%;\n",
              "      cursor: pointer;\n",
              "      display: none;\n",
              "      fill: #1967D2;\n",
              "      height: 32px;\n",
              "      padding: 0 0 0 0;\n",
              "      width: 32px;\n",
              "    }\n",
              "\n",
              "    .colab-df-convert:hover {\n",
              "      background-color: #E2EBFA;\n",
              "      box-shadow: 0px 1px 2px rgba(60, 64, 67, 0.3), 0px 1px 3px 1px rgba(60, 64, 67, 0.15);\n",
              "      fill: #174EA6;\n",
              "    }\n",
              "\n",
              "    [theme=dark] .colab-df-convert {\n",
              "      background-color: #3B4455;\n",
              "      fill: #D2E3FC;\n",
              "    }\n",
              "\n",
              "    [theme=dark] .colab-df-convert:hover {\n",
              "      background-color: #434B5C;\n",
              "      box-shadow: 0px 1px 3px 1px rgba(0, 0, 0, 0.15);\n",
              "      filter: drop-shadow(0px 1px 2px rgba(0, 0, 0, 0.3));\n",
              "      fill: #FFFFFF;\n",
              "    }\n",
              "  </style>\n",
              "\n",
              "      <script>\n",
              "        const buttonEl =\n",
              "          document.querySelector('#df-b4642480-459d-4ac0-b258-ca6c0b8f00fa button.colab-df-convert');\n",
              "        buttonEl.style.display =\n",
              "          google.colab.kernel.accessAllowed ? 'block' : 'none';\n",
              "\n",
              "        async function convertToInteractive(key) {\n",
              "          const element = document.querySelector('#df-b4642480-459d-4ac0-b258-ca6c0b8f00fa');\n",
              "          const dataTable =\n",
              "            await google.colab.kernel.invokeFunction('convertToInteractive',\n",
              "                                                     [key], {});\n",
              "          if (!dataTable) return;\n",
              "\n",
              "          const docLinkHtml = 'Like what you see? Visit the ' +\n",
              "            '<a target=\"_blank\" href=https://colab.research.google.com/notebooks/data_table.ipynb>data table notebook</a>'\n",
              "            + ' to learn more about interactive tables.';\n",
              "          element.innerHTML = '';\n",
              "          dataTable['output_type'] = 'display_data';\n",
              "          await google.colab.output.renderOutput(dataTable, element);\n",
              "          const docLink = document.createElement('div');\n",
              "          docLink.innerHTML = docLinkHtml;\n",
              "          element.appendChild(docLink);\n",
              "        }\n",
              "      </script>\n",
              "    </div>\n",
              "  </div>\n",
              "  "
            ]
          },
          "metadata": {},
          "execution_count": 293
        }
      ]
    },
    {
      "cell_type": "code",
      "source": [
        "df.to_csv (\"/content/gdrive/MyDrive/data2.csv\", index = None)"
      ],
      "metadata": {
        "id": "RWRt3LZhrvYz"
      },
      "execution_count": null,
      "outputs": []
    },
    {
      "cell_type": "code",
      "source": [
        "df.isna().mean()\n"
      ],
      "metadata": {
        "colab": {
          "base_uri": "https://localhost:8080/"
        },
        "id": "J8DwLipYExUx",
        "outputId": "c6e6671a-4042-433e-fd5f-c23c4f4d8393"
      },
      "execution_count": null,
      "outputs": [
        {
          "output_type": "execute_result",
          "data": {
            "text/plain": [
              "participant        0.00000\n",
              "key_resp.keys      0.00000\n",
              "key_resp.rt        0.00000\n",
              "key_resp_4.keys    0.00000\n",
              "key_resp_4.rt      0.00000\n",
              "                    ...   \n",
              "psychopyVersion    0.00000\n",
              "OS                 0.00000\n",
              "frameRate          0.00000\n",
              "session            0.07619\n",
              "researcher         0.07619\n",
              "Length: 245, dtype: float64"
            ]
          },
          "metadata": {},
          "execution_count": 66
        }
      ]
    },
    {
      "cell_type": "code",
      "source": [
        "df[\"video\"].isna()"
      ],
      "metadata": {
        "colab": {
          "base_uri": "https://localhost:8080/"
        },
        "id": "sUOSNPooFQ2x",
        "outputId": "92a2c774-19cc-434b-a477-fba22c964c08"
      },
      "execution_count": null,
      "outputs": [
        {
          "output_type": "execute_result",
          "data": {
            "text/plain": [
              "0      False\n",
              "1      False\n",
              "2      False\n",
              "3      False\n",
              "4      False\n",
              "       ...  \n",
              "100    False\n",
              "101    False\n",
              "102    False\n",
              "103    False\n",
              "104    False\n",
              "Name: video, Length: 105, dtype: bool"
            ]
          },
          "metadata": {},
          "execution_count": 67
        }
      ]
    },
    {
      "cell_type": "code",
      "source": [
        "df[\"Condition\"].isna()"
      ],
      "metadata": {
        "colab": {
          "base_uri": "https://localhost:8080/"
        },
        "id": "WJi9rr-WG_Ii",
        "outputId": "55a625f1-fc1a-43b6-b3f5-13c2b4b2c012"
      },
      "execution_count": null,
      "outputs": [
        {
          "output_type": "execute_result",
          "data": {
            "text/plain": [
              "0      False\n",
              "1      False\n",
              "2      False\n",
              "3      False\n",
              "4      False\n",
              "       ...  \n",
              "100    False\n",
              "101    False\n",
              "102    False\n",
              "103    False\n",
              "104    False\n",
              "Name: Condition, Length: 105, dtype: bool"
            ]
          },
          "metadata": {},
          "execution_count": 68
        }
      ]
    },
    {
      "cell_type": "code",
      "source": [
        "df[\"session\"].isna()"
      ],
      "metadata": {
        "colab": {
          "base_uri": "https://localhost:8080/"
        },
        "id": "NU6JI0rUHekQ",
        "outputId": "80a90a80-051e-4cb9-d500-897ec4062244"
      },
      "execution_count": null,
      "outputs": [
        {
          "output_type": "execute_result",
          "data": {
            "text/plain": [
              "0       True\n",
              "1      False\n",
              "2      False\n",
              "3      False\n",
              "4      False\n",
              "       ...  \n",
              "100    False\n",
              "101     True\n",
              "102    False\n",
              "103    False\n",
              "104    False\n",
              "Name: session, Length: 105, dtype: bool"
            ]
          },
          "metadata": {},
          "execution_count": 69
        }
      ]
    },
    {
      "cell_type": "code",
      "source": [
        "df[\"researcher\"].isna()"
      ],
      "metadata": {
        "colab": {
          "base_uri": "https://localhost:8080/"
        },
        "id": "QynX6Au5T9Qi",
        "outputId": "a85afe73-978d-4ca7-b5a3-f279ab45c209"
      },
      "execution_count": null,
      "outputs": [
        {
          "output_type": "execute_result",
          "data": {
            "text/plain": [
              "0       True\n",
              "1      False\n",
              "2      False\n",
              "3      False\n",
              "4      False\n",
              "       ...  \n",
              "100    False\n",
              "101     True\n",
              "102    False\n",
              "103    False\n",
              "104    False\n",
              "Name: researcher, Length: 105, dtype: bool"
            ]
          },
          "metadata": {},
          "execution_count": 70
        }
      ]
    },
    {
      "cell_type": "code",
      "source": [
        "df[\"video\"].isna()"
      ],
      "metadata": {
        "colab": {
          "base_uri": "https://localhost:8080/"
        },
        "id": "y8vo7eVCHtnJ",
        "outputId": "b1727e76-a26b-476d-eea6-af3dd2742c5f"
      },
      "execution_count": null,
      "outputs": [
        {
          "output_type": "execute_result",
          "data": {
            "text/plain": [
              "0      False\n",
              "1      False\n",
              "2      False\n",
              "3      False\n",
              "4      False\n",
              "       ...  \n",
              "100    False\n",
              "101    False\n",
              "102    False\n",
              "103    False\n",
              "104    False\n",
              "Name: video, Length: 105, dtype: bool"
            ]
          },
          "metadata": {},
          "execution_count": 71
        }
      ]
    },
    {
      "cell_type": "code",
      "source": [
        "df[\"participant\"]"
      ],
      "metadata": {
        "colab": {
          "base_uri": "https://localhost:8080/"
        },
        "id": "jWPA3jLEK6pN",
        "outputId": "3f373ecd-a076-4f8d-af6d-53ffe4e4a90b"
      },
      "execution_count": null,
      "outputs": [
        {
          "output_type": "execute_result",
          "data": {
            "text/plain": [
              "0        3\n",
              "1       11\n",
              "2        4\n",
              "3       33\n",
              "4       66\n",
              "      ... \n",
              "100     63\n",
              "101      5\n",
              "102     49\n",
              "103    115\n",
              "104    100\n",
              "Name: participant, Length: 105, dtype: int64"
            ]
          },
          "metadata": {},
          "execution_count": 72
        }
      ]
    },
    {
      "cell_type": "markdown",
      "source": [
        "#Here you will delete all null values!!\n",
        "\n"
      ],
      "metadata": {
        "id": "MSYpvKcZLGRh"
      }
    },
    {
      "cell_type": "code",
      "source": [
        "ItMUSTNOt_nulls = [\"video\",\"Condition\",\"ActorGender\",\"Speed\",\"participant\",\"id\",\"date\",\"expName\",\"psychopyVersion\",\"OS\",\"frameRate\", \"session\", \"researcher\"]"
      ],
      "metadata": {
        "id": "123SBE6dGVqm"
      },
      "execution_count": null,
      "outputs": []
    },
    {
      "cell_type": "code",
      "source": [
        "#Drop rows where this coulumn have null vallues\n",
        "\n",
        "df = df.dropna(subset= ItMUSTNOt_nulls)"
      ],
      "metadata": {
        "id": "Ro_PUzGRF1o_"
      },
      "execution_count": null,
      "outputs": []
    },
    {
      "cell_type": "code",
      "source": [
        "df.shape"
      ],
      "metadata": {
        "colab": {
          "base_uri": "https://localhost:8080/"
        },
        "id": "zxtbwyEnJR1a",
        "outputId": "9bc0052e-5397-486d-c05f-cb373d33d2f3"
      },
      "execution_count": null,
      "outputs": [
        {
          "output_type": "execute_result",
          "data": {
            "text/plain": [
              "(97, 245)"
            ]
          },
          "metadata": {},
          "execution_count": 75
        }
      ]
    }
  ]
}